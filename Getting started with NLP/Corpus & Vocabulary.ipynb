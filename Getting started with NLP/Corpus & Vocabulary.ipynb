{
 "cells": [
  {
   "cell_type": "code",
   "execution_count": 122,
   "id": "72857c56",
   "metadata": {
    "scrolled": true
   },
   "outputs": [
    {
     "data": {
      "text/plain": [
       "'India, officially the Republic of India, is a country in South Asia. It is the seventh-largest country by area, the second-most populous country, and the most populous democracy in the world. Bounded by the Indian Ocean on the south, the Arabian Sea on the southwest, and the Bay of Bengal on the southeast, it shares land borders with Pakistan to the west; China, Nepal, and Bhutan to the north; and Bangladesh and Myanmar to the east. In the Indian Ocean, India is in the vicinity of Sri Lanka and the Maldives; its Andaman and Nicobar Islands share a maritime border with Thailand, Myanmar and Indonesia.'"
      ]
     },
     "execution_count": 122,
     "metadata": {},
     "output_type": "execute_result"
    }
   ],
   "source": [
    "from nltk.tokenize import word_tokenize, sent_tokenize\n",
    "from nltk.corpus import stopwords\n",
    "\n",
    "\n",
    "corpus = 'India, officially the Republic of India, is a country in South Asia. It is the seventh-largest country by area, the second-most populous country, and the most populous democracy in the world. Bounded by the Indian Ocean on the south, the Arabian Sea on the southwest, and the Bay of Bengal on the southeast, it shares land borders with Pakistan to the west; China, Nepal, and Bhutan to the north; and Bangladesh and Myanmar to the east. In the Indian Ocean, India is in the vicinity of Sri Lanka and the Maldives; its Andaman and Nicobar Islands share a maritime border with Thailand, Myanmar and Indonesia.'\n",
    "corpus"
   ]
  },
  {
   "cell_type": "markdown",
   "id": "fd4847f3",
   "metadata": {},
   "source": [
    "## Stop Word Removal"
   ]
  },
  {
   "cell_type": "code",
   "execution_count": 113,
   "id": "3b38bdc9",
   "metadata": {},
   "outputs": [],
   "source": [
    "words = []\n",
    "\n",
    "for word in word_tokenize(corpus):\n",
    "    if (word.lower() not in stopwords.words('english')) and (len(word) >= 2):\n",
    "        words.append(word.lower())"
   ]
  },
  {
   "cell_type": "code",
   "execution_count": 120,
   "id": "a4c0c282",
   "metadata": {},
   "outputs": [],
   "source": [
    "vocab = list(set(words))"
   ]
  },
  {
   "cell_type": "code",
   "execution_count": 121,
   "id": "11b2e4ea",
   "metadata": {},
   "outputs": [
    {
     "data": {
      "text/plain": [
       "['southwest',\n",
       " 'border',\n",
       " 'bangladesh',\n",
       " 'sri',\n",
       " 'second-most',\n",
       " 'bay',\n",
       " 'vicinity',\n",
       " 'nicobar',\n",
       " 'nepal',\n",
       " 'east',\n",
       " 'china',\n",
       " 'maritime',\n",
       " 'country',\n",
       " 'pakistan',\n",
       " 'land',\n",
       " 'share',\n",
       " 'asia',\n",
       " 'democracy',\n",
       " 'arabian',\n",
       " 'southeast',\n",
       " 'bhutan',\n",
       " 'borders',\n",
       " 'area',\n",
       " 'north',\n",
       " 'maldives',\n",
       " 'sea',\n",
       " 'lanka',\n",
       " 'indian',\n",
       " 'india',\n",
       " 'islands',\n",
       " 'indonesia',\n",
       " 'seventh-largest',\n",
       " 'myanmar',\n",
       " 'andaman',\n",
       " 'south',\n",
       " 'ocean',\n",
       " 'world',\n",
       " 'populous',\n",
       " 'officially',\n",
       " 'bounded',\n",
       " 'shares',\n",
       " 'republic',\n",
       " 'west',\n",
       " 'bengal',\n",
       " 'thailand']"
      ]
     },
     "execution_count": 121,
     "metadata": {},
     "output_type": "execute_result"
    }
   ],
   "source": [
    "vocab"
   ]
  },
  {
   "cell_type": "code",
   "execution_count": null,
   "id": "abe42d0d",
   "metadata": {},
   "outputs": [],
   "source": [
    "'this is a car'\n",
    "\n",
    "# this = 1\n",
    "# is = 2\n",
    "# a = 3 \n",
    "# car = 4\n",
    "\n",
    "# 1 2 3 4 (this is a car)\n",
    "# 2 1 3 4 (is this a car)"
   ]
  },
  {
   "cell_type": "code",
   "execution_count": null,
   "id": "b1487c50",
   "metadata": {},
   "outputs": [],
   "source": []
  },
  {
   "cell_type": "code",
   "execution_count": 124,
   "id": "71b12579",
   "metadata": {},
   "outputs": [
    {
     "name": "stdout",
     "output_type": "stream",
     "text": [
      "India, officially the Republic of India, is a country in South Asia.\n",
      "It is the seventh-largest country by area, the second-most populous country, and the most populous democracy in the world.\n",
      "Bounded by the Indian Ocean on the south, the Arabian Sea on the southwest, and the Bay of Bengal on the southeast, it shares land borders with Pakistan to the west; China, Nepal, and Bhutan to the north; and Bangladesh and Myanmar to the east.\n",
      "In the Indian Ocean, India is in the vicinity of Sri Lanka and the Maldives; its Andaman and Nicobar Islands share a maritime border with Thailand, Myanmar and Indonesia.\n"
     ]
    }
   ],
   "source": [
    "for sent in sent_tokenize(corpus):\n",
    "    print(sent)"
   ]
  },
  {
   "cell_type": "code",
   "execution_count": null,
   "id": "7a478071",
   "metadata": {},
   "outputs": [],
   "source": []
  }
 ],
 "metadata": {
  "kernelspec": {
   "display_name": "Python 3 (ipykernel)",
   "language": "python",
   "name": "python3"
  },
  "language_info": {
   "codemirror_mode": {
    "name": "ipython",
    "version": 3
   },
   "file_extension": ".py",
   "mimetype": "text/x-python",
   "name": "python",
   "nbconvert_exporter": "python",
   "pygments_lexer": "ipython3",
   "version": "3.9.7"
  }
 },
 "nbformat": 4,
 "nbformat_minor": 5
}
