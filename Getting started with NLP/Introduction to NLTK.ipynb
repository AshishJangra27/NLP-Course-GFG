{
 "cells": [
  {
   "cell_type": "code",
   "execution_count": 8,
   "id": "9d20232d",
   "metadata": {},
   "outputs": [
    {
     "name": "stdout",
     "output_type": "stream",
     "text": [
      "Requirement already satisfied: nltk in /Users/ashishzangra/opt/anaconda3/lib/python3.9/site-packages (3.7)\n",
      "Requirement already satisfied: tqdm in /Users/ashishzangra/opt/anaconda3/lib/python3.9/site-packages (from nltk) (4.62.3)\n",
      "Requirement already satisfied: joblib in /Users/ashishzangra/opt/anaconda3/lib/python3.9/site-packages (from nltk) (1.1.0)\n",
      "Requirement already satisfied: regex>=2021.8.3 in /Users/ashishzangra/opt/anaconda3/lib/python3.9/site-packages (from nltk) (2021.8.3)\n",
      "Requirement already satisfied: click in /Users/ashishzangra/opt/anaconda3/lib/python3.9/site-packages (from nltk) (8.0.3)\n"
     ]
    }
   ],
   "source": [
    "!pip install nltk"
   ]
  },
  {
   "cell_type": "code",
   "execution_count": 38,
   "id": "28db3433",
   "metadata": {},
   "outputs": [
    {
     "name": "stderr",
     "output_type": "stream",
     "text": [
      "[nltk_data] Downloading package punkt to\n",
      "[nltk_data]     /Users/ashishzangra/nltk_data...\n",
      "[nltk_data]   Package punkt is already up-to-date!\n"
     ]
    },
    {
     "data": {
      "text/plain": [
       "True"
      ]
     },
     "execution_count": 38,
     "metadata": {},
     "output_type": "execute_result"
    }
   ],
   "source": [
    "import nltk\n",
    "\n",
    "nltk.download('punkt')"
   ]
  },
  {
   "cell_type": "code",
   "execution_count": 27,
   "id": "09ab435e",
   "metadata": {},
   "outputs": [],
   "source": [
    "txt = \"Hello Geeks. GeeksforGeeks is hoping you guys are doing great.\""
   ]
  },
  {
   "cell_type": "code",
   "execution_count": 28,
   "id": "928f2793",
   "metadata": {},
   "outputs": [
    {
     "data": {
      "text/plain": [
       "'Hello Geeks. GeeksforGeeks is hoping you guys are doing great.'"
      ]
     },
     "execution_count": 28,
     "metadata": {},
     "output_type": "execute_result"
    }
   ],
   "source": [
    "txt"
   ]
  },
  {
   "cell_type": "code",
   "execution_count": 29,
   "id": "6ca372e8",
   "metadata": {},
   "outputs": [
    {
     "data": {
      "text/plain": [
       "3"
      ]
     },
     "execution_count": 29,
     "metadata": {},
     "output_type": "execute_result"
    }
   ],
   "source": [
    "len(txt.split('.'))"
   ]
  },
  {
   "cell_type": "code",
   "execution_count": 36,
   "id": "7b354b0c",
   "metadata": {},
   "outputs": [
    {
     "data": {
      "text/plain": [
       "['Hello',\n",
       " 'Geeks.',\n",
       " 'GeeksforGeeks',\n",
       " 'is',\n",
       " 'hoping',\n",
       " 'you',\n",
       " 'guys',\n",
       " 'are',\n",
       " 'doing',\n",
       " 'great.']"
      ]
     },
     "execution_count": 36,
     "metadata": {},
     "output_type": "execute_result"
    }
   ],
   "source": [
    "txt.split(' ')"
   ]
  },
  {
   "cell_type": "code",
   "execution_count": 31,
   "id": "3f0c4013",
   "metadata": {},
   "outputs": [],
   "source": [
    "from nltk.tokenize import word_tokenize, sent_tokenize"
   ]
  },
  {
   "cell_type": "code",
   "execution_count": 32,
   "id": "81f8e69f",
   "metadata": {},
   "outputs": [
    {
     "data": {
      "text/plain": [
       "['Hello',\n",
       " 'Geeks',\n",
       " '.',\n",
       " 'GeeksforGeeks',\n",
       " 'is',\n",
       " 'hoping',\n",
       " 'you',\n",
       " 'guys',\n",
       " 'are',\n",
       " 'doing',\n",
       " 'great',\n",
       " '.']"
      ]
     },
     "execution_count": 32,
     "metadata": {},
     "output_type": "execute_result"
    }
   ],
   "source": [
    "word_tokenize(txt)"
   ]
  },
  {
   "cell_type": "code",
   "execution_count": 33,
   "id": "48ba4cdb",
   "metadata": {},
   "outputs": [
    {
     "data": {
      "text/plain": [
       "['Hello Geeks.', 'GeeksforGeeks is hoping you guys are doing great.']"
      ]
     },
     "execution_count": 33,
     "metadata": {},
     "output_type": "execute_result"
    }
   ],
   "source": [
    "sent_tokenize(txt)"
   ]
  },
  {
   "cell_type": "code",
   "execution_count": 35,
   "id": "1e9f53a1",
   "metadata": {},
   "outputs": [
    {
     "name": "stdout",
     "output_type": "stream",
     "text": [
      "Hello\n",
      "Geeks\n",
      "GeeksforGeeks\n",
      "is\n",
      "hoping\n",
      "you\n",
      "guys\n",
      "are\n",
      "doing\n",
      "great\n"
     ]
    }
   ],
   "source": [
    "for word in word_tokenize(txt):\n",
    "    if(word != '.'):\n",
    "        print(word)"
   ]
  },
  {
   "cell_type": "code",
   "execution_count": null,
   "id": "8695e905",
   "metadata": {},
   "outputs": [],
   "source": []
  }
 ],
 "metadata": {
  "kernelspec": {
   "display_name": "Python 3 (ipykernel)",
   "language": "python",
   "name": "python3"
  },
  "language_info": {
   "codemirror_mode": {
    "name": "ipython",
    "version": 3
   },
   "file_extension": ".py",
   "mimetype": "text/x-python",
   "name": "python",
   "nbconvert_exporter": "python",
   "pygments_lexer": "ipython3",
   "version": "3.9.7"
  }
 },
 "nbformat": 4,
 "nbformat_minor": 5
}
