{
  "cells": [
    {
      "cell_type": "markdown",
      "source": [
        "### Text to Sequences"
      ],
      "metadata": {
        "id": "SOLsvdClPaz6"
      }
    },
    {
      "cell_type": "code",
      "source": [
        "from tensorflow.keras.preprocessing.text import Tokenizer\n",
        "\n",
        "tok = Tokenizer()"
      ],
      "metadata": {
        "id": "uMBNpnt4NX1U"
      },
      "execution_count": 5,
      "outputs": []
    },
    {
      "cell_type": "code",
      "source": [
        "corp = ['coffee is hot','water is cold']\n",
        "\n",
        "tok.fit_on_texts(corp)"
      ],
      "metadata": {
        "id": "B3rAtwA7NtC7"
      },
      "execution_count": 6,
      "outputs": []
    },
    {
      "cell_type": "code",
      "source": [
        "tok.word_index"
      ],
      "metadata": {
        "colab": {
          "base_uri": "https://localhost:8080/"
        },
        "id": "6oVQ1TapNpio",
        "outputId": "25d5665c-847d-49d9-93f0-eae4835ee842"
      },
      "execution_count": 8,
      "outputs": [
        {
          "output_type": "execute_result",
          "data": {
            "text/plain": [
              "{'is': 1, 'coffee': 2, 'hot': 3, 'water': 4, 'cold': 5}"
            ]
          },
          "metadata": {},
          "execution_count": 8
        }
      ]
    },
    {
      "cell_type": "code",
      "source": [
        "tok.texts_to_sequences(['water is hot','black coffee is cold'])"
      ],
      "metadata": {
        "colab": {
          "base_uri": "https://localhost:8080/"
        },
        "id": "ImJTbzbeOBMH",
        "outputId": "65900596-aa42-443b-f1ad-b446a95f1141"
      },
      "execution_count": 11,
      "outputs": [
        {
          "output_type": "execute_result",
          "data": {
            "text/plain": [
              "[[4, 1, 3], [2, 1, 5]]"
            ]
          },
          "metadata": {},
          "execution_count": 11
        }
      ]
    },
    {
      "cell_type": "markdown",
      "source": [
        "### Adding OVV"
      ],
      "metadata": {
        "id": "nFSIw-z7PYF5"
      }
    },
    {
      "cell_type": "code",
      "source": [
        "from tensorflow.keras.preprocessing.text import Tokenizer\n",
        "\n",
        "tok = Tokenizer(oov_token = 'black')\n",
        "\n",
        "corp = ['coffee is hot','water is cold']\n",
        "tok.fit_on_texts(corp)\n",
        "print(tok.word_index)\n",
        "\n",
        "tok.texts_to_sequences(['water is hot','black coffee is cold'])"
      ],
      "metadata": {
        "colab": {
          "base_uri": "https://localhost:8080/"
        },
        "id": "yAHgzxbyOahQ",
        "outputId": "64edc449-0ed2-4bfb-c1f0-c42bed45c1df"
      },
      "execution_count": 16,
      "outputs": [
        {
          "output_type": "stream",
          "name": "stdout",
          "text": [
            "{'black': 1, 'is': 2, 'coffee': 3, 'hot': 4, 'water': 5, 'cold': 6}\n"
          ]
        },
        {
          "output_type": "execute_result",
          "data": {
            "text/plain": [
              "[[5, 2, 4], [1, 3, 2, 6]]"
            ]
          },
          "metadata": {},
          "execution_count": 16
        }
      ]
    },
    {
      "cell_type": "markdown",
      "source": [
        "### Limiting the number of words"
      ],
      "metadata": {
        "id": "ac_RvOMTPfXt"
      }
    },
    {
      "cell_type": "code",
      "source": [
        "from tensorflow.keras.preprocessing.text import Tokenizer\n",
        "\n",
        "tok = Tokenizer(num_words = 6)\n",
        "\n",
        "corp = ['coffee is hot','water is cold']\n",
        "tok.fit_on_texts(corp)\n",
        "print(tok.word_index)\n",
        "\n",
        "tok.texts_to_sequences(['water is hot','black coffee is cold'])"
      ],
      "metadata": {
        "colab": {
          "base_uri": "https://localhost:8080/"
        },
        "id": "An97kq3pO4h9",
        "outputId": "d267c934-ed91-4a9a-8e56-047150c1c5ab"
      },
      "execution_count": 19,
      "outputs": [
        {
          "output_type": "stream",
          "name": "stdout",
          "text": [
            "{'is': 1, 'coffee': 2, 'hot': 3, 'water': 4, 'cold': 5}\n"
          ]
        },
        {
          "output_type": "execute_result",
          "data": {
            "text/plain": [
              "[[4, 1, 3], [2, 1, 5]]"
            ]
          },
          "metadata": {},
          "execution_count": 19
        }
      ]
    },
    {
      "cell_type": "code",
      "source": [],
      "metadata": {
        "id": "fPNapFWFPHD5"
      },
      "execution_count": null,
      "outputs": []
    }
  ],
  "metadata": {
    "colab": {
      "provenance": []
    },
    "kernelspec": {
      "display_name": "Python 3",
      "name": "python3"
    },
    "language_info": {
      "name": "python"
    }
  },
  "nbformat": 4,
  "nbformat_minor": 0
}