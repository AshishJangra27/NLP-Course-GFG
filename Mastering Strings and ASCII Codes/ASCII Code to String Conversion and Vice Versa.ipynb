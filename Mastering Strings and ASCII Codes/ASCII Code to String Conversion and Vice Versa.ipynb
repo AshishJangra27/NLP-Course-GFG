{
 "cells": [
  {
   "cell_type": "code",
   "execution_count": 1,
   "id": "faaa0d21",
   "metadata": {},
   "outputs": [],
   "source": [
    "text = 'The quick brown fox jumps over the lazy dog'"
   ]
  },
  {
   "cell_type": "markdown",
   "id": "fca8c115",
   "metadata": {},
   "source": [
    "### 1. String to ASCII Conversion"
   ]
  },
  {
   "cell_type": "code",
   "execution_count": 7,
   "id": "f7c32700",
   "metadata": {},
   "outputs": [],
   "source": [
    "ascii_ = [ord(char) for char in text]"
   ]
  },
  {
   "cell_type": "markdown",
   "id": "9005dd85",
   "metadata": {},
   "source": [
    "### 2. ASCII to String Conversion"
   ]
  },
  {
   "cell_type": "code",
   "execution_count": 19,
   "id": "5acd66b3",
   "metadata": {},
   "outputs": [
    {
     "data": {
      "text/plain": [
       "'The quick brown fox jumps over the lazy dog'"
      ]
     },
     "execution_count": 19,
     "metadata": {},
     "output_type": "execute_result"
    }
   ],
   "source": [
    "''.join([chr(asc) for asc in ascii_])"
   ]
  },
  {
   "cell_type": "code",
   "execution_count": 20,
   "id": "b836b78c",
   "metadata": {},
   "outputs": [
    {
     "data": {
      "text/plain": [
       "32"
      ]
     },
     "execution_count": 20,
     "metadata": {},
     "output_type": "execute_result"
    }
   ],
   "source": [
    "ord(' ')"
   ]
  },
  {
   "cell_type": "code",
   "execution_count": 21,
   "id": "aaf74ad8",
   "metadata": {},
   "outputs": [
    {
     "data": {
      "text/plain": [
       "' '"
      ]
     },
     "execution_count": 21,
     "metadata": {},
     "output_type": "execute_result"
    }
   ],
   "source": [
    "chr(32)"
   ]
  },
  {
   "cell_type": "code",
   "execution_count": 16,
   "id": "e5c4281c",
   "metadata": {},
   "outputs": [
    {
     "data": {
      "text/plain": [
       "'god yzal eht revo spmuj xof nworb kciuq ehT'"
      ]
     },
     "execution_count": 16,
     "metadata": {},
     "output_type": "execute_result"
    }
   ],
   "source": [
    "'The quick brown fox jumps over the lazy dog'[::-1]"
   ]
  },
  {
   "cell_type": "code",
   "execution_count": null,
   "id": "813472b0",
   "metadata": {},
   "outputs": [],
   "source": [
    "'The quick brown fox jumps over the lazy dog'"
   ]
  }
 ],
 "metadata": {
  "kernelspec": {
   "display_name": "Python 3 (ipykernel)",
   "language": "python",
   "name": "python3"
  },
  "language_info": {
   "codemirror_mode": {
    "name": "ipython",
    "version": 3
   },
   "file_extension": ".py",
   "mimetype": "text/x-python",
   "name": "python",
   "nbconvert_exporter": "python",
   "pygments_lexer": "ipython3",
   "version": "3.9.7"
  }
 },
 "nbformat": 4,
 "nbformat_minor": 5
}
