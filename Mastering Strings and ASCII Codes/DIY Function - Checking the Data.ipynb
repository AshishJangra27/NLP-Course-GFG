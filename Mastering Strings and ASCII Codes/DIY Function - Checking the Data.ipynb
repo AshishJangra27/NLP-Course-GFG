{
 "cells": [
  {
   "cell_type": "markdown",
   "id": "f48dc9bf",
   "metadata": {},
   "source": [
    "isalpha()\tReturns True if all characters in the string are in the alphabet\n",
    "\n",
    "isdigit()\tReturns True if all characters in the string are digits\n",
    "\n",
    "isalnum()\tReturns True if all characters in the string are alphanumeric"
   ]
  },
  {
   "cell_type": "markdown",
   "id": "1ca3a4b9",
   "metadata": {},
   "source": [
    "### 1. isalpha()"
   ]
  },
  {
   "cell_type": "code",
   "execution_count": 53,
   "id": "2442368c",
   "metadata": {},
   "outputs": [],
   "source": [
    "def isalpha(text):\n",
    "    c = 0\n",
    "    for i in text:\n",
    "        if ((ord(i) >= 65 and ord(i) <= 90) or (ord(i) >= 97 and ord(i) <= 122)):   # (65-90) Upper | (97 - 122) Lower\n",
    "            c += 1\n",
    "    if (len(text) == c):\n",
    "        return True\n",
    "    else:\n",
    "        return False\n",
    "    \n",
    "print('Ashish Jangra'.isalpha())\n",
    "print(isalpha('Ashish Jangra'))"
   ]
  },
  {
   "cell_type": "markdown",
   "id": "02dffa5d",
   "metadata": {},
   "source": [
    "### 2. isdigit()"
   ]
  },
  {
   "cell_type": "code",
   "execution_count": 60,
   "id": "ff286f2a",
   "metadata": {},
   "outputs": [
    {
     "name": "stdout",
     "output_type": "stream",
     "text": [
      "False\n",
      "False\n"
     ]
    }
   ],
   "source": [
    "def isdigit(text):\n",
    "    c = 0\n",
    "    for i in text:\n",
    "        if (ord(i) >= 48 and ord(i) <= 57):              # (48-57) Digits | 0-9\n",
    "            c += 1\n",
    "            \n",
    "    if (len(text) == c):\n",
    "        return True\n",
    "    else:\n",
    "        return False\n",
    "    \n",
    "print('1231'.isdigit())\n",
    "print(isdigit('1231'))"
   ]
  },
  {
   "cell_type": "markdown",
   "id": "050fbd01",
   "metadata": {},
   "source": [
    "### 3. isalnum()"
   ]
  },
  {
   "cell_type": "code",
   "execution_count": 63,
   "id": "68fc430c",
   "metadata": {},
   "outputs": [
    {
     "name": "stdout",
     "output_type": "stream",
     "text": [
      "True\n",
      "True\n"
     ]
    }
   ],
   "source": [
    "def isalnum(text):\n",
    "    c = 0\n",
    "    for i in text:\n",
    "        if ((ord(i)>=65 and ord(i)<=90) or (ord(i)>=97 and ord(i)<=122) or (ord(i)>=48 and ord(i)<=57)):\n",
    "            c += 1\n",
    "    if (len(text) == c):\n",
    "        return True\n",
    "    else:\n",
    "        return False\n",
    "    \n",
    "print('AshishJangra7'.isalnum())\n",
    "print(isalnum('AshishJangra7'))"
   ]
  },
  {
   "cell_type": "code",
   "execution_count": null,
   "id": "835604ae",
   "metadata": {},
   "outputs": [],
   "source": []
  }
 ],
 "metadata": {
  "kernelspec": {
   "display_name": "Python 3 (ipykernel)",
   "language": "python",
   "name": "python3"
  },
  "language_info": {
   "codemirror_mode": {
    "name": "ipython",
    "version": 3
   },
   "file_extension": ".py",
   "mimetype": "text/x-python",
   "name": "python",
   "nbconvert_exporter": "python",
   "pygments_lexer": "ipython3",
   "version": "3.9.7"
  }
 },
 "nbformat": 4,
 "nbformat_minor": 5
}
