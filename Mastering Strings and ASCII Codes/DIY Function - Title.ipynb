{
 "cells": [
  {
   "cell_type": "code",
   "execution_count": 20,
   "id": "3a4107df",
   "metadata": {},
   "outputs": [],
   "source": [
    "def upper(text):\n",
    "    string = ''\n",
    "    for char in text:\n",
    "        if ( ord(char) >= 97 and ord(char) <= 122 ):\n",
    "            string += chr(ord(char) - 32)           \n",
    "        else:\n",
    "            string += char        \n",
    "    return string\n",
    "\n",
    "def lower(text):  \n",
    "    string = ''\n",
    "    for char in text:\n",
    "        if ( ord(char) >= 65 and ord(char) <= 90 ):\n",
    "            string += chr(ord(char) + 32)          \n",
    "        else:\n",
    "            string += char\n",
    "    return string"
   ]
  },
  {
   "cell_type": "code",
   "execution_count": 33,
   "id": "70a0b15a",
   "metadata": {},
   "outputs": [],
   "source": [
    "def title(text):\n",
    "\n",
    "    output = []\n",
    "    for word in text.split(' '):\n",
    "        output.append(upper(word[0]) + lower(word[1:]))\n",
    "    \n",
    "    return ' '.join(output)"
   ]
  },
  {
   "cell_type": "code",
   "execution_count": 38,
   "id": "4a76e057",
   "metadata": {},
   "outputs": [
    {
     "data": {
      "text/plain": [
       "'Ashish Jangra'"
      ]
     },
     "execution_count": 38,
     "metadata": {},
     "output_type": "execute_result"
    }
   ],
   "source": [
    "title('ashish jangra')"
   ]
  }
 ],
 "metadata": {
  "kernelspec": {
   "display_name": "Python 3 (ipykernel)",
   "language": "python",
   "name": "python3"
  },
  "language_info": {
   "codemirror_mode": {
    "name": "ipython",
    "version": 3
   },
   "file_extension": ".py",
   "mimetype": "text/x-python",
   "name": "python",
   "nbconvert_exporter": "python",
   "pygments_lexer": "ipython3",
   "version": "3.9.7"
  }
 },
 "nbformat": 4,
 "nbformat_minor": 5
}
