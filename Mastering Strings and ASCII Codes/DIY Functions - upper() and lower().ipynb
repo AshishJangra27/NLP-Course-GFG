{
 "cells": [
  {
   "cell_type": "code",
   "execution_count": 51,
   "id": "5c17c438",
   "metadata": {},
   "outputs": [],
   "source": [
    "txt = 'hello, HOW are you?'"
   ]
  },
  {
   "cell_type": "markdown",
   "id": "6ac96d03",
   "metadata": {},
   "source": [
    "### 1. Uppercase Function"
   ]
  },
  {
   "cell_type": "code",
   "execution_count": 59,
   "id": "628b7ebd",
   "metadata": {
    "scrolled": false
   },
   "outputs": [
    {
     "data": {
      "text/plain": [
       "'HELLO, HOW ARE YOU?'"
      ]
     },
     "execution_count": 59,
     "metadata": {},
     "output_type": "execute_result"
    }
   ],
   "source": [
    "def upper(text):\n",
    "    \n",
    "    string = ''\n",
    "\n",
    "    for char in text:\n",
    "        if ( ord(char) >= 97 and ord(char) <= 122 ):        # 97 - 122  ( Lowercase )\n",
    "            string += chr(ord(char) - 32)                   # Subtract 32 to make it Uppercase\n",
    "        else:\n",
    "            string += char\n",
    "            \n",
    "    return string\n",
    "\n",
    "upper(txt)"
   ]
  },
  {
   "cell_type": "markdown",
   "id": "6db1b7e7",
   "metadata": {},
   "source": [
    "### 2. Lowercase Function"
   ]
  },
  {
   "cell_type": "code",
   "execution_count": 60,
   "id": "22e4e4b4",
   "metadata": {},
   "outputs": [
    {
     "data": {
      "text/plain": [
       "'hello, how are you?'"
      ]
     },
     "execution_count": 60,
     "metadata": {},
     "output_type": "execute_result"
    }
   ],
   "source": [
    "def lower(text):\n",
    "    \n",
    "    string = ''\n",
    "\n",
    "    for char in text:\n",
    "        if ( ord(char) >= 65 and ord(char) <= 90 ):        # 65 - 90  ( Uppercase )\n",
    "            string += chr(ord(char) + 32)                  # Add 32 to make it Lowercase\n",
    "        else:\n",
    "            string += char\n",
    "            \n",
    "    return string\n",
    "\n",
    "txt.lower()"
   ]
  }
 ],
 "metadata": {
  "kernelspec": {
   "display_name": "Python 3 (ipykernel)",
   "language": "python",
   "name": "python3"
  },
  "language_info": {
   "codemirror_mode": {
    "name": "ipython",
    "version": 3
   },
   "file_extension": ".py",
   "mimetype": "text/x-python",
   "name": "python",
   "nbconvert_exporter": "python",
   "pygments_lexer": "ipython3",
   "version": "3.9.7"
  }
 },
 "nbformat": 4,
 "nbformat_minor": 5
}
