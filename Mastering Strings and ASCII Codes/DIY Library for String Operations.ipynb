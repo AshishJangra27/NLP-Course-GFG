{
 "cells": [
  {
   "cell_type": "markdown",
   "id": "40ff0f7d",
   "metadata": {},
   "source": [
    "### 1. Calling all the functions from the file"
   ]
  },
  {
   "cell_type": "code",
   "execution_count": 2,
   "id": "b1d26b04",
   "metadata": {},
   "outputs": [],
   "source": [
    "import nlp"
   ]
  },
  {
   "cell_type": "code",
   "execution_count": 4,
   "id": "6eb01447",
   "metadata": {},
   "outputs": [
    {
     "data": {
      "text/plain": [
       "'Hello how are you?'"
      ]
     },
     "execution_count": 4,
     "metadata": {},
     "output_type": "execute_result"
    }
   ],
   "source": [
    "nlp.capitalize('hello how are you?')"
   ]
  },
  {
   "cell_type": "code",
   "execution_count": 5,
   "id": "14dead44",
   "metadata": {},
   "outputs": [
    {
     "data": {
      "text/plain": [
       "'Hello How Are You?'"
      ]
     },
     "execution_count": 5,
     "metadata": {},
     "output_type": "execute_result"
    }
   ],
   "source": [
    "nlp.title('hello how are you?')"
   ]
  },
  {
   "cell_type": "markdown",
   "id": "099a3a2e",
   "metadata": {},
   "source": [
    "### 2. Calling only the specific function from the file"
   ]
  },
  {
   "cell_type": "code",
   "execution_count": 7,
   "id": "5aa66a6a",
   "metadata": {},
   "outputs": [],
   "source": [
    "from nlp import title"
   ]
  },
  {
   "cell_type": "code",
   "execution_count": 10,
   "id": "ebb49230",
   "metadata": {},
   "outputs": [
    {
     "data": {
      "text/plain": [
       "'Hello How Are You?'"
      ]
     },
     "execution_count": 10,
     "metadata": {},
     "output_type": "execute_result"
    }
   ],
   "source": [
    "title('hello how are you?')"
   ]
  }
 ],
 "metadata": {
  "kernelspec": {
   "display_name": "Python 3 (ipykernel)",
   "language": "python",
   "name": "python3"
  },
  "language_info": {
   "codemirror_mode": {
    "name": "ipython",
    "version": 3
   },
   "file_extension": ".py",
   "mimetype": "text/x-python",
   "name": "python",
   "nbconvert_exporter": "python",
   "pygments_lexer": "ipython3",
   "version": "3.9.7"
  }
 },
 "nbformat": 4,
 "nbformat_minor": 5
}
