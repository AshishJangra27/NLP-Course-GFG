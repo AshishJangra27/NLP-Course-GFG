{
 "cells": [
  {
   "cell_type": "code",
   "execution_count": 33,
   "id": "209237b0",
   "metadata": {},
   "outputs": [],
   "source": [
    "import re\n",
    "import numpy as np\n",
    "import pandas as pd\n",
    "from tqdm import tqdm \n",
    "\n",
    "\n",
    "with open('big.txt','r') as fd:\n",
    "    lines = fd.readlines()\n",
    "    words = []\n",
    "    for line in lines:\n",
    "        words += re.findall('\\w+', line.lower())"
   ]
  },
  {
   "cell_type": "markdown",
   "id": "e55d8530",
   "metadata": {},
   "source": [
    "### 1. Finding the Pairs"
   ]
  },
  {
   "cell_type": "code",
   "execution_count": 34,
   "id": "42ccbf8f",
   "metadata": {},
   "outputs": [],
   "source": [
    "def get_pairs(words, n):\n",
    "    \n",
    "    n = n+1  \n",
    "    data = []\n",
    "    for i in range(len(words) - n):\n",
    "        data.append(' '.join(words[i:i+n]))\n",
    "    return data"
   ]
  },
  {
   "cell_type": "markdown",
   "id": "6481edf4",
   "metadata": {},
   "source": [
    "### 2. Finding Occurence Probabilities"
   ]
  },
  {
   "cell_type": "code",
   "execution_count": 61,
   "id": "a7547042",
   "metadata": {},
   "outputs": [],
   "source": [
    "def get_prob_dist(data):\n",
    "    \n",
    "    a = np.array(data)\n",
    "\n",
    "    pair , count = np.unique(a, return_counts = True)\n",
    "    unique_pairs = list(set(data))\n",
    "\n",
    "    prob_dist = []\n",
    "\n",
    "    for i in range(len(unique_pairs)):\n",
    "        prob_dist.append([unique_pairs[i] , ' '.join(unique_pairs[i].split(' ')[:-1]), unique_pairs[i].split(' ')[-1], count[i]])\n",
    "\n",
    "    return prob_dist"
   ]
  },
  {
   "cell_type": "code",
   "execution_count": 62,
   "id": "87b1ed54",
   "metadata": {},
   "outputs": [],
   "source": [
    "data = get_pairs(words,4)\n",
    "prob_dist = get_prob_dist(data)"
   ]
  },
  {
   "cell_type": "markdown",
   "id": "f0a66736",
   "metadata": {},
   "source": [
    "### 3. Predicting the Words"
   ]
  },
  {
   "cell_type": "code",
   "execution_count": 64,
   "id": "8adffa49",
   "metadata": {},
   "outputs": [
    {
     "data": {
      "text/plain": [
       "array(['country'], dtype=object)"
      ]
     },
     "execution_count": 64,
     "metadata": {},
     "output_type": "execute_result"
    }
   ],
   "source": [
    "df = pd.DataFrame(prob_dist, columns = ['seq','inp','out','freq'])\n",
    "df.head()\n",
    "\n",
    "\n",
    "def predict(word):\n",
    "\n",
    "    if len(df[df['inp'] == word]):\n",
    "        df_ = df[df['inp'] == word]\n",
    "        return df_.sort_values(by = 'freq').head()['out'].values\n",
    "    else:\n",
    "        print('Seq is not present')\n",
    "        \n",
    "predict('this is a beautiful')"
   ]
  },
  {
   "cell_type": "markdown",
   "id": "b6bd0a79",
   "metadata": {},
   "source": [
    "#### 3.1) Prediction for One Word"
   ]
  },
  {
   "cell_type": "code",
   "execution_count": 65,
   "id": "fde8b96d",
   "metadata": {
    "scrolled": true
   },
   "outputs": [
    {
     "name": "stdout",
     "output_type": "stream",
     "text": [
      "Seq is not present\n"
     ]
    }
   ],
   "source": [
    "predict('the is a beautiful')"
   ]
  },
  {
   "cell_type": "markdown",
   "id": "5c0c98db",
   "metadata": {},
   "source": [
    "#### 3.2) Prediction with auto Sequencing"
   ]
  },
  {
   "cell_type": "code",
   "execution_count": 98,
   "id": "782d6654",
   "metadata": {},
   "outputs": [
    {
     "data": {
      "text/plain": [
       "'of the united states upon the affections of the skin mouth or throat already described in the skin they may assume the form of gummatous ulcers and sinuses in later years the tibia may present alterations in shape resulting from antecedent gummatous disease for example nodular thickenings of the shaft flattening of the crest'"
      ]
     },
     "execution_count": 98,
     "metadata": {},
     "output_type": "execute_result"
    }
   ],
   "source": [
    "def pred_seq(seq,n):\n",
    "\n",
    "    output = []\n",
    "    output.append(seq)\n",
    "\n",
    "    for i in range(n):\n",
    "\n",
    "        pred = predict(seq)\n",
    "        seq = ' '.join(seq.split(' ')[1:]) + ' ' + pred[0]\n",
    "        output.append(pred[0])\n",
    "        \n",
    "    return ' '.join(output)\n",
    "    \n",
    "pred_seq('of the united states', 50)"
   ]
  }
 ],
 "metadata": {
  "kernelspec": {
   "display_name": "Python 3 (ipykernel)",
   "language": "python",
   "name": "python3"
  },
  "language_info": {
   "codemirror_mode": {
    "name": "ipython",
    "version": 3
   },
   "file_extension": ".py",
   "mimetype": "text/x-python",
   "name": "python",
   "nbconvert_exporter": "python",
   "pygments_lexer": "ipython3",
   "version": "3.9.7"
  }
 },
 "nbformat": 4,
 "nbformat_minor": 5
}
