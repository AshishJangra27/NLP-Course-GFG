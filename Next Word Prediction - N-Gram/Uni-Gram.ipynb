{
 "cells": [
  {
   "cell_type": "code",
   "execution_count": 128,
   "id": "e9899371",
   "metadata": {},
   "outputs": [],
   "source": [
    "import re\n",
    "import numpy as np\n",
    "import pandas as pd\n",
    "from tqdm import tqdm "
   ]
  },
  {
   "cell_type": "markdown",
   "id": "f71c84c1",
   "metadata": {},
   "source": [
    "### 1. Finding the Pairs"
   ]
  },
  {
   "cell_type": "code",
   "execution_count": 129,
   "id": "42ccbf8f",
   "metadata": {},
   "outputs": [],
   "source": [
    "with open('big.txt','r') as fd:\n",
    "    lines = fd.readlines()\n",
    "    words = []\n",
    "    for line in lines:\n",
    "        words += re.findall('\\w+', line.lower())\n",
    "        \n",
    "def get_pairs(words):\n",
    "    data = []\n",
    "    for i in range(len(words)-1):\n",
    "        data.append(' '.join(words[i:i+2]))\n",
    "    return data\n",
    "\n",
    "data = get_pairs(words)"
   ]
  },
  {
   "cell_type": "markdown",
   "id": "6f8dd33b",
   "metadata": {},
   "source": [
    "### 2. Finding Occurence Probabilities"
   ]
  },
  {
   "cell_type": "code",
   "execution_count": 130,
   "id": "055b3b03",
   "metadata": {},
   "outputs": [
    {
     "name": "stdout",
     "output_type": "stream",
     "text": [
      "------------------------------\n",
      "Total Pairs :  1115584\n",
      "Unique Pairs :  390694\n",
      "------------------------------\n",
      "390694\n"
     ]
    }
   ],
   "source": [
    "a = np.array(data)\n",
    "\n",
    "pair , count = np.unique(a, return_counts = True)\n",
    "\n",
    "print('-'*30)\n",
    "print('Total Pairs : ' , len(data))\n",
    "unique_pairs = list(set(data))\n",
    "print('Unique Pairs : ', len(pair))\n",
    "print('-'*30)\n",
    "\n",
    "\n",
    "prob_dist = []\n",
    "for i in range(len(pair)):\n",
    "    prob_dist.append([pair[i] ,count[i] , pair[i].split(' ')[-1]])\n",
    "    \n",
    "print(len(prob_dist))"
   ]
  },
  {
   "cell_type": "markdown",
   "id": "ffd48488",
   "metadata": {},
   "source": [
    "### 3. Predicting the Words"
   ]
  },
  {
   "cell_type": "code",
   "execution_count": 131,
   "id": "6c1a936a",
   "metadata": {},
   "outputs": [],
   "source": [
    "df = pd.DataFrame(prob_dist, columns = ['pair','freq','out'])\n",
    "df = df[df['freq'] >= 5]\n",
    "df.head()\n",
    "\n",
    "\n",
    "def predict(word):\n",
    "    \n",
    "    df_pred = []\n",
    "    for i in df.values:\n",
    "        if i[0].split(' ')[0] == word:\n",
    "            df_pred.append([i[0], i[1], i[2]])\n",
    "\n",
    "    df_pred = pd.DataFrame(df_pred, columns = ['in','freq','out'])\n",
    "    return list(df_pred.sort_values(by = 'freq', ascending = False).head()['out'].values)"
   ]
  },
  {
   "cell_type": "markdown",
   "id": "fa585a92",
   "metadata": {},
   "source": [
    "#### 3.1) Prediction for One Word"
   ]
  },
  {
   "cell_type": "code",
   "execution_count": 132,
   "id": "c410b1c5",
   "metadata": {},
   "outputs": [
    {
     "data": {
      "text/plain": [
       "['same', 'french', 'first', 'old', 'emperor']"
      ]
     },
     "execution_count": 132,
     "metadata": {},
     "output_type": "execute_result"
    }
   ],
   "source": [
    "predict('the')"
   ]
  },
  {
   "cell_type": "markdown",
   "id": "22c85ec7",
   "metadata": {},
   "source": [
    "#### 3.2) Prediction with auto Sequencing"
   ]
  },
  {
   "cell_type": "code",
   "execution_count": 133,
   "id": "11bebbba",
   "metadata": {},
   "outputs": [
    {
     "name": "stdout",
     "output_type": "stream",
     "text": [
      "of the same time to the same time to the same time to the same time to the same time "
     ]
    }
   ],
   "source": [
    "word = 'one'\n",
    "\n",
    "for i in range(20):\n",
    "\n",
    "    pred = predict(word)\n",
    "    word = pred[0]\n",
    "    \n",
    "    print(word, end = ' ')"
   ]
  },
  {
   "cell_type": "markdown",
   "id": "424c1d03",
   "metadata": {},
   "source": [
    "#### 3.3) Prediction with manual Sequencing"
   ]
  },
  {
   "cell_type": "code",
   "execution_count": 134,
   "id": "f08fbd81",
   "metadata": {},
   "outputs": [
    {
     "name": "stdout",
     "output_type": "stream",
     "text": [
      "['is', 'was', 'way', 'and', 'time']\n",
      "Enter the Index : 1\n",
      "['a', 'the', 'not', 'in', 'to']\n",
      "Enter the Index : 1\n",
      "['same', 'french', 'first', 'old', 'emperor']\n",
      "Enter the Index : 1\n",
      "['and', 'army', 'had', 'were', 'revolution']\n",
      "Enter the Index : 1\n",
      "['and', 'was', 'of', 'to', 'he']\n",
      "Enter the Index : 1\n",
      "--------------------\n",
      "this was the french army was\n",
      "--------------------\n"
     ]
    }
   ],
   "source": [
    "word = 'this'\n",
    "\n",
    "preds = []\n",
    "preds.append(word)\n",
    "\n",
    "for i in range(5):\n",
    "\n",
    "    pred = predict(word)\n",
    "    print(pred)\n",
    "    word = pred[int(input('Enter the Index : '))]\n",
    "    preds.append(word)\n",
    "    \n",
    "print('-'*20)\n",
    "print(' '.join(preds))\n",
    "print('-'*20)"
   ]
  }
 ],
 "metadata": {
  "kernelspec": {
   "display_name": "Python 3 (ipykernel)",
   "language": "python",
   "name": "python3"
  },
  "language_info": {
   "codemirror_mode": {
    "name": "ipython",
    "version": 3
   },
   "file_extension": ".py",
   "mimetype": "text/x-python",
   "name": "python",
   "nbconvert_exporter": "python",
   "pygments_lexer": "ipython3",
   "version": "3.9.7"
  }
 },
 "nbformat": 4,
 "nbformat_minor": 5
}
