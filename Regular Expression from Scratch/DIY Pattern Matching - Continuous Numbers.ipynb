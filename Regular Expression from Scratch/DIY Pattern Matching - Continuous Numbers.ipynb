{
 "cells": [
  {
   "cell_type": "markdown",
   "id": "9663fe84",
   "metadata": {},
   "source": [
    "### 1. Continous Numbers"
   ]
  },
  {
   "cell_type": "code",
   "execution_count": 31,
   "id": "ed90beaa",
   "metadata": {},
   "outputs": [
    {
     "name": "stdout",
     "output_type": "stream",
     "text": [
      "8372493\n",
      "423423\n"
     ]
    }
   ],
   "source": [
    "txt = 'The number is 8372493 not 423423.'\n",
    "\n",
    "c = 0\n",
    "\n",
    "for i in range(len(txt)):\n",
    "    if (txt[i].isdigit() == True):        # If Digit\n",
    "        if (c == 0):                      # Count Number of Digits\n",
    "            st = i                        # Starting the Number\n",
    "        c += 1                            # Incrementing the Counter for that number\n",
    "    else:                                 # If not Digit\n",
    "        if (c != 0):                      # If coming from a digit\n",
    "            end =  i                      # Ending the Number\n",
    "            print(txt[st:end])            # Printing the Number\n",
    "        c = 0                             \n",
    "        \n",
    "if (c != 0):                              # If Number is at the end of the string\n",
    "    print(txt[-c:])"
   ]
  }
 ],
 "metadata": {
  "kernelspec": {
   "display_name": "Python 3 (ipykernel)",
   "language": "python",
   "name": "python3"
  },
  "language_info": {
   "codemirror_mode": {
    "name": "ipython",
    "version": 3
   },
   "file_extension": ".py",
   "mimetype": "text/x-python",
   "name": "python",
   "nbconvert_exporter": "python",
   "pygments_lexer": "ipython3",
   "version": "3.9.7"
  }
 },
 "nbformat": 4,
 "nbformat_minor": 5
}
