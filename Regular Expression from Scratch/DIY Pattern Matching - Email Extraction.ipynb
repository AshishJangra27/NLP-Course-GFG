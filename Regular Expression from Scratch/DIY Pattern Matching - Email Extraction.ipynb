{
 "cells": [
  {
   "cell_type": "code",
   "execution_count": 28,
   "id": "017f0bdd",
   "metadata": {},
   "outputs": [],
   "source": [
    "mails = ['ashish@gmail.com','ashish@geeksforgeeks.org',\n",
    "         'ashish@orkut.com','ashish@yahoo.com',\n",
    "         'ashish.jangra@geeksforgeeks.org','ashish@gfg.co.in',\n",
    "         'ashish@aap.gov.in','aj@gmail.co.org.in']"
   ]
  },
  {
   "cell_type": "code",
   "execution_count": 34,
   "id": "b3c6c43d",
   "metadata": {},
   "outputs": [],
   "source": [
    "user_id = []\n",
    "host_name = []\n",
    "domain_type = []\n",
    "\n",
    "for mail in mails:\n",
    "    user_id.append(mail.split('@')[0])\n",
    "    host_name.append(mail.split('@')[1].split('.')[0])\n",
    "    domain_type.append('.'.join(mail.split('@')[1].split('.')[1:]))"
   ]
  },
  {
   "cell_type": "code",
   "execution_count": 35,
   "id": "406f469f",
   "metadata": {},
   "outputs": [
    {
     "data": {
      "text/plain": [
       "['ashish',\n",
       " 'ashish',\n",
       " 'ashish',\n",
       " 'ashish',\n",
       " 'ashish.jangra',\n",
       " 'ashish',\n",
       " 'ashish',\n",
       " 'aj']"
      ]
     },
     "execution_count": 35,
     "metadata": {},
     "output_type": "execute_result"
    }
   ],
   "source": [
    "user_id"
   ]
  },
  {
   "cell_type": "code",
   "execution_count": 36,
   "id": "11f91869",
   "metadata": {},
   "outputs": [
    {
     "data": {
      "text/plain": [
       "['gmail',\n",
       " 'geeksforgeeks',\n",
       " 'orkut',\n",
       " 'yahoo',\n",
       " 'geeksforgeeks',\n",
       " 'gfg',\n",
       " 'aap',\n",
       " 'gmail']"
      ]
     },
     "execution_count": 36,
     "metadata": {},
     "output_type": "execute_result"
    }
   ],
   "source": [
    "host_name"
   ]
  },
  {
   "cell_type": "code",
   "execution_count": 37,
   "id": "fdbf2cb4",
   "metadata": {},
   "outputs": [
    {
     "data": {
      "text/plain": [
       "['com', 'org', 'com', 'com', 'org', 'co.in', 'gov.in', 'co.org.in']"
      ]
     },
     "execution_count": 37,
     "metadata": {},
     "output_type": "execute_result"
    }
   ],
   "source": [
    "domain_type"
   ]
  },
  {
   "cell_type": "code",
   "execution_count": null,
   "id": "cbe8b45f",
   "metadata": {},
   "outputs": [],
   "source": []
  }
 ],
 "metadata": {
  "kernelspec": {
   "display_name": "Python 3 (ipykernel)",
   "language": "python",
   "name": "python3"
  },
  "language_info": {
   "codemirror_mode": {
    "name": "ipython",
    "version": 3
   },
   "file_extension": ".py",
   "mimetype": "text/x-python",
   "name": "python",
   "nbconvert_exporter": "python",
   "pygments_lexer": "ipython3",
   "version": "3.9.7"
  }
 },
 "nbformat": 4,
 "nbformat_minor": 5
}
