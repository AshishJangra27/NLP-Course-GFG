{
 "cells": [
  {
   "cell_type": "markdown",
   "id": "c6473a21",
   "metadata": {},
   "source": [
    "### 1. Word Finding"
   ]
  },
  {
   "cell_type": "code",
   "execution_count": 15,
   "id": "1d1274f1",
   "metadata": {},
   "outputs": [],
   "source": [
    "txt = 'AI is having the capability to revolutionize all the industries. The Industry is ready for a big change'.lower()\n",
    "\n",
    "word = 'the'.lower()"
   ]
  },
  {
   "cell_type": "code",
   "execution_count": 16,
   "id": "46d3c7f1",
   "metadata": {},
   "outputs": [
    {
     "name": "stdout",
     "output_type": "stream",
     "text": [
      "13 16\n",
      "49 52\n",
      "65 68\n"
     ]
    }
   ],
   "source": [
    "for i in range(len(txt)):\n",
    "    \n",
    "    if(txt[i:i+len(word)] == word):\n",
    "        \n",
    "        print(i,i+len(word))"
   ]
  },
  {
   "cell_type": "code",
   "execution_count": null,
   "id": "fd25a274",
   "metadata": {},
   "outputs": [],
   "source": []
  }
 ],
 "metadata": {
  "kernelspec": {
   "display_name": "Python 3 (ipykernel)",
   "language": "python",
   "name": "python3"
  },
  "language_info": {
   "codemirror_mode": {
    "name": "ipython",
    "version": 3
   },
   "file_extension": ".py",
   "mimetype": "text/x-python",
   "name": "python",
   "nbconvert_exporter": "python",
   "pygments_lexer": "ipython3",
   "version": "3.9.7"
  }
 },
 "nbformat": 4,
 "nbformat_minor": 5
}
