{
 "cells": [
  {
   "cell_type": "markdown",
   "id": "c6473a21",
   "metadata": {},
   "source": [
    "### 1. Word - Starting from specific Characters"
   ]
  },
  {
   "cell_type": "code",
   "execution_count": 7,
   "id": "fd25a274",
   "metadata": {},
   "outputs": [
    {
     "name": "stdout",
     "output_type": "stream",
     "text": [
      "industries.\n",
      "Industry\n"
     ]
    }
   ],
   "source": [
    "txt = 'AI is having the capability to revolutionize all the industries. The Industry is ready for a big change'\n",
    "word = 'in'\n",
    "\n",
    "for wrd in txt.split(' '):\n",
    "    if (wrd[:2].lower() == word.lower()):\n",
    "        print(wrd)"
   ]
  },
  {
   "cell_type": "markdown",
   "id": "e6b40c7a",
   "metadata": {},
   "source": [
    "### 2. Word - Ending with specific Characters"
   ]
  },
  {
   "cell_type": "code",
   "execution_count": 17,
   "id": "648291a0",
   "metadata": {},
   "outputs": [
    {
     "name": "stdout",
     "output_type": "stream",
     "text": [
      "the\n",
      "the\n",
      "The\n"
     ]
    }
   ],
   "source": [
    "txt = 'AI is having the capability to revolutionize all the industries. The Industry is ready for a big change'\n",
    "word = 'he'\n",
    "\n",
    "for wrd in txt.split(' '):\n",
    "    \n",
    "    if(wrd[-2:].lower() == word.lower()):\n",
    "        print(wrd)\n"
   ]
  },
  {
   "cell_type": "code",
   "execution_count": 22,
   "id": "97cd2baa",
   "metadata": {},
   "outputs": [
    {
     "name": "stdout",
     "output_type": "stream",
     "text": [
      "AI is\n",
      "is having\n",
      "having the\n",
      "the capability\n",
      "capability to\n",
      "to revolutionize\n",
      "revolutionize all\n",
      "all the\n",
      "the industries.\n",
      "industries. The\n",
      "The Industry\n",
      "Industry is\n",
      "is ready\n",
      "ready for\n",
      "for a\n",
      "a big\n",
      "big change\n"
     ]
    }
   ],
   "source": [
    "txt = 'AI is having the capability to revolutionize all the industries. The Industry is ready for a big change'\n",
    "\n",
    "for i in range(len(txt.split(' '))-1):\n",
    "    print(txt.split(' ')[i], txt.split(' ')[i + 1])"
   ]
  },
  {
   "cell_type": "code",
   "execution_count": null,
   "id": "453411c6",
   "metadata": {},
   "outputs": [],
   "source": []
  },
  {
   "cell_type": "code",
   "execution_count": null,
   "id": "356d7d44",
   "metadata": {},
   "outputs": [],
   "source": []
  },
  {
   "cell_type": "code",
   "execution_count": null,
   "id": "017f0bdd",
   "metadata": {},
   "outputs": [],
   "source": [
    "'ashish@gmail.com','abc@gmail.com','xyz@gmail.com'"
   ]
  }
 ],
 "metadata": {
  "kernelspec": {
   "display_name": "Python 3 (ipykernel)",
   "language": "python",
   "name": "python3"
  },
  "language_info": {
   "codemirror_mode": {
    "name": "ipython",
    "version": 3
   },
   "file_extension": ".py",
   "mimetype": "text/x-python",
   "name": "python",
   "nbconvert_exporter": "python",
   "pygments_lexer": "ipython3",
   "version": "3.9.7"
  }
 },
 "nbformat": 4,
 "nbformat_minor": 5
}
