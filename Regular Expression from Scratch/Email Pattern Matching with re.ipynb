{
 "cells": [
  {
   "cell_type": "code",
   "execution_count": 7,
   "id": "2a6d2dec",
   "metadata": {},
   "outputs": [
    {
     "data": {
      "text/plain": [
       "<re.Match object; span=(0, 14), match='ashish@gfg.org'>"
      ]
     },
     "execution_count": 7,
     "metadata": {},
     "output_type": "execute_result"
    }
   ],
   "source": [
    "import re\n",
    "\n",
    "\n",
    "mail = 'ashish@gfg.org'\n",
    "p = '[A-Za-z0-9]+@[\\w]+.[\\w]+'\n",
    "\n",
    "re.search(p, mail)"
   ]
  },
  {
   "cell_type": "code",
   "execution_count": 11,
   "id": "324f0ab5",
   "metadata": {},
   "outputs": [
    {
     "data": {
      "text/plain": [
       "'ashish@gfg.in'"
      ]
     },
     "execution_count": 11,
     "metadata": {},
     "output_type": "execute_result"
    }
   ],
   "source": [
    "re.search(p, 'ashish@gfg.in').group()"
   ]
  },
  {
   "cell_type": "code",
   "execution_count": 12,
   "id": "0b5352b5",
   "metadata": {},
   "outputs": [
    {
     "data": {
      "text/plain": [
       "'ashishjangra2910@gfg.in'"
      ]
     },
     "execution_count": 12,
     "metadata": {},
     "output_type": "execute_result"
    }
   ],
   "source": [
    "re.search(p, 'ashishjangra2910@gfg.in').group()"
   ]
  },
  {
   "cell_type": "code",
   "execution_count": 13,
   "id": "5499e205",
   "metadata": {},
   "outputs": [
    {
     "data": {
      "text/plain": [
       "'2910@gfg.in'"
      ]
     },
     "execution_count": 13,
     "metadata": {},
     "output_type": "execute_result"
    }
   ],
   "source": [
    "re.search(p, '2910@gfg.in').group()"
   ]
  },
  {
   "cell_type": "code",
   "execution_count": 16,
   "id": "4d66bd00",
   "metadata": {
    "scrolled": true
   },
   "outputs": [
    {
     "data": {
      "text/plain": [
       "<re.Match object; span=(0, 13), match='ashish@gfg.in'>"
      ]
     },
     "execution_count": 16,
     "metadata": {},
     "output_type": "execute_result"
    }
   ],
   "source": [
    "re.search(p, 'ashish@gfg.in')"
   ]
  },
  {
   "cell_type": "markdown",
   "id": "e12f9335",
   "metadata": {},
   "source": [
    "### Email ID with Specific Domain"
   ]
  },
  {
   "cell_type": "code",
   "execution_count": 22,
   "id": "2b478665",
   "metadata": {},
   "outputs": [
    {
     "data": {
      "text/plain": [
       "<re.Match object; span=(0, 14), match='ashish@gfg.org'>"
      ]
     },
     "execution_count": 22,
     "metadata": {},
     "output_type": "execute_result"
    }
   ],
   "source": [
    "mail = 'ashish@gfg.org'\n",
    "\n",
    "p = '[A-Za-z0-9]+@(gfg).(org)$'\n",
    "\n",
    "re.search(p, mail)"
   ]
  },
  {
   "cell_type": "code",
   "execution_count": 25,
   "id": "13b80f60",
   "metadata": {},
   "outputs": [
    {
     "data": {
      "text/plain": [
       "<re.Match object; span=(0, 15), match='prakash@gfg.org'>"
      ]
     },
     "execution_count": 25,
     "metadata": {},
     "output_type": "execute_result"
    }
   ],
   "source": [
    "re.search(p, 'prakash@gfg.org')"
   ]
  },
  {
   "cell_type": "code",
   "execution_count": 26,
   "id": "ad6e36ef",
   "metadata": {},
   "outputs": [
    {
     "data": {
      "text/plain": [
       "<re.Match object; span=(7, 21), match='jangra@gfg.org'>"
      ]
     },
     "execution_count": 26,
     "metadata": {},
     "output_type": "execute_result"
    }
   ],
   "source": [
    "re.search(p, 'ashish.jangra@gfg.org')"
   ]
  },
  {
   "cell_type": "markdown",
   "id": "7a907f5c",
   "metadata": {},
   "source": [
    "### Email ID with Multiple Selected Domain"
   ]
  },
  {
   "cell_type": "code",
   "execution_count": 30,
   "id": "cdb024a6",
   "metadata": {},
   "outputs": [
    {
     "data": {
      "text/plain": [
       "<re.Match object; span=(0, 14), match='ashish@gfg.org'>"
      ]
     },
     "execution_count": 30,
     "metadata": {},
     "output_type": "execute_result"
    }
   ],
   "source": [
    "mail = 'ashish@gfg.org'\n",
    "\n",
    "p = '[A-Za-z0-9]+@[A-Za-z]+.(org|edu|gov|net|in)'\n",
    "\n",
    "re.search(p, mail)"
   ]
  },
  {
   "cell_type": "code",
   "execution_count": 37,
   "id": "1b3ab413",
   "metadata": {},
   "outputs": [
    {
     "data": {
      "text/plain": [
       "<re.Match object; span=(0, 13), match='ashish@gfg.in'>"
      ]
     },
     "execution_count": 37,
     "metadata": {},
     "output_type": "execute_result"
    }
   ],
   "source": [
    "re.search(p, 'ashish@gfg.in')"
   ]
  }
 ],
 "metadata": {
  "kernelspec": {
   "display_name": "Python 3 (ipykernel)",
   "language": "python",
   "name": "python3"
  },
  "language_info": {
   "codemirror_mode": {
    "name": "ipython",
    "version": 3
   },
   "file_extension": ".py",
   "mimetype": "text/x-python",
   "name": "python",
   "nbconvert_exporter": "python",
   "pygments_lexer": "ipython3",
   "version": "3.9.7"
  }
 },
 "nbformat": 4,
 "nbformat_minor": 5
}
