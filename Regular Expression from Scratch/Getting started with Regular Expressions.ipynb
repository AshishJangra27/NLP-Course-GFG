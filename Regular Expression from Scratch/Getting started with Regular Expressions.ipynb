{
 "cells": [
  {
   "cell_type": "code",
   "execution_count": 7,
   "id": "4774ffc1",
   "metadata": {},
   "outputs": [],
   "source": [
    "import re"
   ]
  },
  {
   "cell_type": "markdown",
   "id": "f0576940",
   "metadata": {},
   "source": [
    "### 1. Search"
   ]
  },
  {
   "cell_type": "code",
   "execution_count": 19,
   "id": "b61b3ac9",
   "metadata": {},
   "outputs": [],
   "source": [
    "srch = re.search('you' , 'Hello, how are you?')"
   ]
  },
  {
   "cell_type": "code",
   "execution_count": 20,
   "id": "230b7b8e",
   "metadata": {},
   "outputs": [
    {
     "data": {
      "text/plain": [
       "(15, 18)"
      ]
     },
     "execution_count": 20,
     "metadata": {},
     "output_type": "execute_result"
    }
   ],
   "source": [
    "srch.span()"
   ]
  },
  {
   "cell_type": "code",
   "execution_count": 21,
   "id": "e3b5459c",
   "metadata": {},
   "outputs": [
    {
     "data": {
      "text/plain": [
       "15"
      ]
     },
     "execution_count": 21,
     "metadata": {},
     "output_type": "execute_result"
    }
   ],
   "source": [
    "srch.start()"
   ]
  },
  {
   "cell_type": "code",
   "execution_count": 22,
   "id": "6de6274b",
   "metadata": {
    "scrolled": true
   },
   "outputs": [
    {
     "data": {
      "text/plain": [
       "18"
      ]
     },
     "execution_count": 22,
     "metadata": {},
     "output_type": "execute_result"
    }
   ],
   "source": [
    "srch.end()"
   ]
  },
  {
   "cell_type": "markdown",
   "id": "bf28a8f1",
   "metadata": {},
   "source": [
    "### 2. Findall "
   ]
  },
  {
   "cell_type": "code",
   "execution_count": 32,
   "id": "41eaf932",
   "metadata": {},
   "outputs": [
    {
     "data": {
      "text/plain": [
       "3"
      ]
     },
     "execution_count": 32,
     "metadata": {},
     "output_type": "execute_result"
    }
   ],
   "source": [
    "a = 'Hello, how are area are you?'\n",
    "b = 'are'\n",
    "\n",
    "len(re.findall(b,a))"
   ]
  },
  {
   "cell_type": "markdown",
   "id": "9f5b728c",
   "metadata": {},
   "source": [
    "### 3. Finditer"
   ]
  },
  {
   "cell_type": "code",
   "execution_count": 34,
   "id": "5b24d7b5",
   "metadata": {},
   "outputs": [
    {
     "name": "stdout",
     "output_type": "stream",
     "text": [
      "(11, 14)\n",
      "(15, 18)\n",
      "(20, 23)\n"
     ]
    }
   ],
   "source": [
    "for s in re.finditer('are','Hello, how are area are you?'):\n",
    "    print(s.span())"
   ]
  },
  {
   "cell_type": "markdown",
   "id": "90fb717b",
   "metadata": {},
   "source": [
    "### 4. Creating Regular Expressions"
   ]
  },
  {
   "cell_type": "code",
   "execution_count": 39,
   "id": "7f946fa6",
   "metadata": {},
   "outputs": [
    {
     "data": {
      "text/plain": [
       "<re.Match object; span=(23, 35), match='834-4324-345'>"
      ]
     },
     "execution_count": 39,
     "metadata": {},
     "output_type": "execute_result"
    }
   ],
   "source": [
    "txt = 'My telephone number is 834-4324-345'\n",
    "\n",
    "pattern = '\\d\\d\\d-\\d\\d\\d\\d-\\d\\d\\d'\n",
    "\n",
    "\n",
    "re.search(pattern, txt)"
   ]
  },
  {
   "cell_type": "code",
   "execution_count": 43,
   "id": "d30ace39",
   "metadata": {},
   "outputs": [
    {
     "data": {
      "text/plain": [
       "<re.Match object; span=(23, 35), match='834-4324-345'>"
      ]
     },
     "execution_count": 43,
     "metadata": {},
     "output_type": "execute_result"
    }
   ],
   "source": [
    "txt = 'My telephone number is 834-4324-345'\n",
    "\n",
    "pattern = '\\d{3}-\\d{4}-\\d{3}'\n",
    "\n",
    "\n",
    "re.search(pattern, txt)"
   ]
  },
  {
   "cell_type": "code",
   "execution_count": 48,
   "id": "e84ad530",
   "metadata": {},
   "outputs": [
    {
     "data": {
      "text/plain": [
       "'834-4324-345'"
      ]
     },
     "execution_count": 48,
     "metadata": {},
     "output_type": "execute_result"
    }
   ],
   "source": [
    "txt = 'My telephone number is 834-4324-345'\n",
    "\n",
    "pattern = '\\d{3}-\\d{4}-\\d{3}'\n",
    "\n",
    "re.search(pattern, txt).group()"
   ]
  },
  {
   "cell_type": "code",
   "execution_count": null,
   "id": "9eab383b",
   "metadata": {},
   "outputs": [],
   "source": []
  }
 ],
 "metadata": {
  "kernelspec": {
   "display_name": "Python 3 (ipykernel)",
   "language": "python",
   "name": "python3"
  },
  "language_info": {
   "codemirror_mode": {
    "name": "ipython",
    "version": 3
   },
   "file_extension": ".py",
   "mimetype": "text/x-python",
   "name": "python",
   "nbconvert_exporter": "python",
   "pygments_lexer": "ipython3",
   "version": "3.9.7"
  }
 },
 "nbformat": 4,
 "nbformat_minor": 5
}
