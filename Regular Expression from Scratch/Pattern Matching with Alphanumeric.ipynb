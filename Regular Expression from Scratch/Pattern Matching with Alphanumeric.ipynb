{
 "cells": [
  {
   "cell_type": "code",
   "execution_count": 1,
   "id": "19f17554",
   "metadata": {},
   "outputs": [],
   "source": [
    "import re"
   ]
  },
  {
   "cell_type": "markdown",
   "id": "f882a0c2",
   "metadata": {},
   "source": [
    "### 1. Finding pattern with specific ending"
   ]
  },
  {
   "cell_type": "code",
   "execution_count": 3,
   "id": "a43deb4a",
   "metadata": {},
   "outputs": [
    {
     "data": {
      "text/plain": [
       "['at', 'at', 'at', 'at', 'at']"
      ]
     },
     "execution_count": 3,
     "metadata": {},
     "output_type": "execute_result"
    }
   ],
   "source": [
    "re.findall('at', 'The rat sat on the mat and attached by a cat')"
   ]
  },
  {
   "cell_type": "code",
   "execution_count": 4,
   "id": "e06c57c5",
   "metadata": {
    "scrolled": true
   },
   "outputs": [
    {
     "data": {
      "text/plain": [
       "['rat', 'sat', 'mat', ' at', 'cat']"
      ]
     },
     "execution_count": 4,
     "metadata": {},
     "output_type": "execute_result"
    }
   ],
   "source": [
    "re.findall('.at', 'The rat sat on the mat and attached by a cat')"
   ]
  },
  {
   "cell_type": "markdown",
   "id": "41ff6bf4",
   "metadata": {},
   "source": [
    "### 2. Start and End Pattern Matching"
   ]
  },
  {
   "cell_type": "code",
   "execution_count": 13,
   "id": "9a8c62e7",
   "metadata": {},
   "outputs": [
    {
     "data": {
      "text/plain": [
       "['4', '2', '3']"
      ]
     },
     "execution_count": 13,
     "metadata": {},
     "output_type": "execute_result"
    }
   ],
   "source": [
    "re.findall('\\d', '4 is divisible by 2 not by 3')"
   ]
  },
  {
   "cell_type": "code",
   "execution_count": 14,
   "id": "70211cfd",
   "metadata": {},
   "outputs": [
    {
     "data": {
      "text/plain": [
       "['3']"
      ]
     },
     "execution_count": 14,
     "metadata": {},
     "output_type": "execute_result"
    }
   ],
   "source": [
    "re.findall('\\d$', '4 is divisible by 2 not by 3')"
   ]
  },
  {
   "cell_type": "code",
   "execution_count": 23,
   "id": "612946f1",
   "metadata": {},
   "outputs": [
    {
     "data": {
      "text/plain": [
       "['4']"
      ]
     },
     "execution_count": 23,
     "metadata": {},
     "output_type": "execute_result"
    }
   ],
   "source": [
    "re.findall('^\\d', '4 is divisible by 2 not by 32')"
   ]
  },
  {
   "cell_type": "markdown",
   "id": "239fa8b7",
   "metadata": {},
   "source": [
    "### 3. Finding Capital Letters"
   ]
  },
  {
   "cell_type": "code",
   "execution_count": 24,
   "id": "f1731568",
   "metadata": {},
   "outputs": [
    {
     "data": {
      "text/plain": [
       "['W', 'G', 'F', 'G']"
      ]
     },
     "execution_count": 24,
     "metadata": {},
     "output_type": "execute_result"
    }
   ],
   "source": [
    "re.findall('[A-Z]', 'Welcome to GFG')"
   ]
  },
  {
   "cell_type": "markdown",
   "id": "64ea707b",
   "metadata": {},
   "source": [
    "### 4. Finding Small Letters"
   ]
  },
  {
   "cell_type": "code",
   "execution_count": 25,
   "id": "d2e00f3e",
   "metadata": {},
   "outputs": [
    {
     "data": {
      "text/plain": [
       "['e', 'l', 'c', 'o', 'm', 'e', 't', 'o']"
      ]
     },
     "execution_count": 25,
     "metadata": {},
     "output_type": "execute_result"
    }
   ],
   "source": [
    "re.findall('[a-z]', 'Welcome to GFG')"
   ]
  },
  {
   "cell_type": "markdown",
   "id": "cac590c5",
   "metadata": {},
   "source": [
    "### 5. Finding Uppercase and Lowercase"
   ]
  },
  {
   "cell_type": "code",
   "execution_count": 27,
   "id": "2977e066",
   "metadata": {},
   "outputs": [
    {
     "data": {
      "text/plain": [
       "['W', 'e', 'l', 'c', 'o', 'm', 'e', 't', 'o', 'G', 'F', 'G']"
      ]
     },
     "execution_count": 27,
     "metadata": {},
     "output_type": "execute_result"
    }
   ],
   "source": [
    "re.findall('[A-Za-z]', 'Welcome to GFG')"
   ]
  },
  {
   "cell_type": "markdown",
   "id": "3bc1b81a",
   "metadata": {},
   "source": [
    "### 6. Finding Uppercase, Lowercase and Numbers"
   ]
  },
  {
   "cell_type": "code",
   "execution_count": 29,
   "id": "1fef7d1b",
   "metadata": {},
   "outputs": [
    {
     "data": {
      "text/plain": [
       "['W', 'e', 'l', 'c', 'o', 'm', 'e', 't', 'o', 'G', 'F', 'G', '1']"
      ]
     },
     "execution_count": 29,
     "metadata": {},
     "output_type": "execute_result"
    }
   ],
   "source": [
    "re.findall('[A-Za-z0-9]', 'Welcome to GFG 1')"
   ]
  }
 ],
 "metadata": {
  "kernelspec": {
   "display_name": "Python 3 (ipykernel)",
   "language": "python",
   "name": "python3"
  },
  "language_info": {
   "codemirror_mode": {
    "name": "ipython",
    "version": 3
   },
   "file_extension": ".py",
   "mimetype": "text/x-python",
   "name": "python",
   "nbconvert_exporter": "python",
   "pygments_lexer": "ipython3",
   "version": "3.9.7"
  }
 },
 "nbformat": 4,
 "nbformat_minor": 5
}
