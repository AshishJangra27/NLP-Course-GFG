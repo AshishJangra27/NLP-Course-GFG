{
 "cells": [
  {
   "cell_type": "code",
   "execution_count": 3,
   "id": "54efb8d4",
   "metadata": {},
   "outputs": [],
   "source": [
    "import re "
   ]
  },
  {
   "cell_type": "markdown",
   "id": "b6562bdf",
   "metadata": {},
   "source": [
    "### 1. Removing the Speical Characters"
   ]
  },
  {
   "cell_type": "code",
   "execution_count": 7,
   "id": "e11ef424",
   "metadata": {},
   "outputs": [],
   "source": [
    "txt = 'Eshant is ha%ppy! But, wh$y is h*e not playing?'"
   ]
  },
  {
   "cell_type": "code",
   "execution_count": 13,
   "id": "d869f549",
   "metadata": {},
   "outputs": [
    {
     "data": {
      "text/plain": [
       "'Eshant is happy But why is he not playing'"
      ]
     },
     "execution_count": 13,
     "metadata": {},
     "output_type": "execute_result"
    }
   ],
   "source": [
    "''.join(re.findall('[^!$,%*?]+',txt))"
   ]
  },
  {
   "cell_type": "markdown",
   "id": "b0f7ac26",
   "metadata": {},
   "source": [
    "### 2. Exclusion"
   ]
  },
  {
   "cell_type": "code",
   "execution_count": 26,
   "id": "6032b623",
   "metadata": {},
   "outputs": [
    {
     "name": "stdout",
     "output_type": "stream",
     "text": [
      "I'm Ashish and \n"
     ]
    }
   ],
   "source": [
    "txt = \"I'm Ashish and 24\"\n",
    "\n",
    "print(''.join(re.findall('\\D',txt)))"
   ]
  },
  {
   "cell_type": "markdown",
   "id": "265bec7d",
   "metadata": {},
   "source": [
    "### 3. Finding Patterns link Geeks-For-Geeks"
   ]
  },
  {
   "cell_type": "code",
   "execution_count": 33,
   "id": "7225c77c",
   "metadata": {},
   "outputs": [],
   "source": [
    "txt = \"Hello I am studing from Geeks-for-Geeks and it is amazing. Let's see how this work-it-out, wekds-sfd-sedsa\""
   ]
  },
  {
   "cell_type": "code",
   "execution_count": 42,
   "id": "4175f574",
   "metadata": {},
   "outputs": [
    {
     "data": {
      "text/plain": [
       "['Geeks-for-Geeks', 'work-it-out', 'wekds-sfd-sedsa']"
      ]
     },
     "execution_count": 42,
     "metadata": {},
     "output_type": "execute_result"
    }
   ],
   "source": [
    "re.findall('[\\w]+-[\\w]+-[\\w]+', txt)"
   ]
  },
  {
   "cell_type": "markdown",
   "id": "38ac413e",
   "metadata": {},
   "source": [
    "### 4. Phone No. Pattern Matching"
   ]
  },
  {
   "cell_type": "code",
   "execution_count": 56,
   "id": "7731383d",
   "metadata": {},
   "outputs": [
    {
     "name": "stdout",
     "output_type": "stream",
     "text": [
      "6465343\n",
      "54353456\n",
      "45634534\n",
      "5354535\n",
      "4352346\n"
     ]
    }
   ],
   "source": [
    "for no in [\"64-6534-342\", \"543-5345-645\",\"4563-453-445\",\"53-5453-5345\",\"435-234-6324\"]:\n",
    "    \n",
    "    print(str(re.findall('[\\d]+-[\\d]+-[\\d]' , no)[0]).replace('-',''))"
   ]
  },
  {
   "cell_type": "code",
   "execution_count": null,
   "id": "4c33abba",
   "metadata": {},
   "outputs": [],
   "source": []
  }
 ],
 "metadata": {
  "kernelspec": {
   "display_name": "Python 3 (ipykernel)",
   "language": "python",
   "name": "python3"
  },
  "language_info": {
   "codemirror_mode": {
    "name": "ipython",
    "version": 3
   },
   "file_extension": ".py",
   "mimetype": "text/x-python",
   "name": "python",
   "nbconvert_exporter": "python",
   "pygments_lexer": "ipython3",
   "version": "3.9.7"
  }
 },
 "nbformat": 4,
 "nbformat_minor": 5
}
