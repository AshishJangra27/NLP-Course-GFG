{
 "cells": [
  {
   "cell_type": "code",
   "execution_count": 180,
   "id": "1501a141",
   "metadata": {},
   "outputs": [],
   "source": [
    "import re\n",
    "import pandas as pd\n",
    "from tqdm import tqdm"
   ]
  },
  {
   "cell_type": "markdown",
   "id": "93fa0d85",
   "metadata": {},
   "source": [
    "## 1. Finding the Unique Words"
   ]
  },
  {
   "cell_type": "code",
   "execution_count": 2,
   "id": "4bcf567c",
   "metadata": {},
   "outputs": [
    {
     "name": "stdout",
     "output_type": "stream",
     "text": [
      "1115585\n",
      "32198\n"
     ]
    }
   ],
   "source": [
    "with open('big.txt','r') as fd:\n",
    "    lines = fd.readlines()\n",
    "    words = []\n",
    "    for line in lines:\n",
    "        words += re.findall('\\w+',line.lower())\n",
    "        \n",
    "print(len(words))\n",
    "vocab = list(set(words))\n",
    "print(len(vocab))"
   ]
  },
  {
   "cell_type": "markdown",
   "id": "fa18e251",
   "metadata": {},
   "source": [
    "## 2. Finding the Probability Distribution"
   ]
  },
  {
   "cell_type": "code",
   "execution_count": 3,
   "id": "c0c62ce8",
   "metadata": {},
   "outputs": [
    {
     "name": "stderr",
     "output_type": "stream",
     "text": [
      "100%|████████████████████████████████████| 32198/32198 [05:02<00:00, 106.58it/s]\n"
     ]
    }
   ],
   "source": [
    "word_probability = {}\n",
    "\n",
    "for word in tqdm(vocab):\n",
    "    word_probability[word] = float(words.count(word)/len(words))"
   ]
  },
  {
   "cell_type": "markdown",
   "id": "66ed4979",
   "metadata": {},
   "source": [
    "## 3. Text Preprocessing\n",
    "### Splitting"
   ]
  },
  {
   "cell_type": "code",
   "execution_count": 241,
   "id": "f2aae05d",
   "metadata": {},
   "outputs": [],
   "source": [
    "def split(word):  \n",
    "    parts = []\n",
    "    for i in range(len(word) + 1):\n",
    "        parts += [(word[ : i], word[i : ])]\n",
    "    return parts"
   ]
  },
  {
   "cell_type": "markdown",
   "id": "737c9ccc",
   "metadata": {},
   "source": [
    "### 3.1) Delete\n",
    "\n",
    "'loave' -> 'love'"
   ]
  },
  {
   "cell_type": "code",
   "execution_count": 242,
   "id": "3e7d378d",
   "metadata": {},
   "outputs": [
    {
     "data": {
      "text/plain": [
       "['oave', 'lave', 'love', 'loae', 'loav', 'loave']"
      ]
     },
     "execution_count": 242,
     "metadata": {},
     "output_type": "execute_result"
    }
   ],
   "source": [
    "def delete(word):\n",
    "    \n",
    "    output = []\n",
    "    for l,r in split(word):\n",
    "        output.append(l + r[1:])\n",
    "    return output\n",
    "\n",
    "delete('loave')"
   ]
  },
  {
   "cell_type": "markdown",
   "id": "79a0b064",
   "metadata": {},
   "source": [
    "### 3.2) Swap\n",
    "\n",
    "'lvoe' -> 'love'"
   ]
  },
  {
   "cell_type": "code",
   "execution_count": 243,
   "id": "c6745abb",
   "metadata": {},
   "outputs": [
    {
     "data": {
      "text/plain": [
       "['vloe', 'love', 'lveo']"
      ]
     },
     "execution_count": 243,
     "metadata": {},
     "output_type": "execute_result"
    }
   ],
   "source": [
    "def swap(word):\n",
    "        \n",
    "    output = []    \n",
    "    for l,r in split(word):\n",
    "        if (len(r) > 1):\n",
    "            output.append(l + r[1] + r[0] + r[2:])\n",
    "    return output\n",
    "            \n",
    "swap('lvoe')"
   ]
  },
  {
   "cell_type": "markdown",
   "id": "d9bf6f61",
   "metadata": {},
   "source": [
    "### 3.3) Replace\n",
    "\n",
    "'lave' -> 'love'"
   ]
  },
  {
   "cell_type": "code",
   "execution_count": 244,
   "id": "4b3651b3",
   "metadata": {},
   "outputs": [
    {
     "data": {
      "text/plain": [
       "130"
      ]
     },
     "execution_count": 244,
     "metadata": {},
     "output_type": "execute_result"
    }
   ],
   "source": [
    "def replace(word):\n",
    "    \n",
    "    characters = 'abcdefghijklmnopqrstuvwxyz'\n",
    "    output = []    \n",
    "\n",
    "    for l,r in split(word):\n",
    "        for char in characters:\n",
    "            output.append(l + char +  r[1:])\n",
    "    return output\n",
    "\n",
    "len(replace('lave'))"
   ]
  },
  {
   "cell_type": "markdown",
   "id": "f975e95e",
   "metadata": {},
   "source": [
    "### 3.4) Insert\n",
    "\n",
    "'lve' -> 'love'"
   ]
  },
  {
   "cell_type": "code",
   "execution_count": 245,
   "id": "ae1d7f39",
   "metadata": {},
   "outputs": [
    {
     "data": {
      "text/plain": [
       "104"
      ]
     },
     "execution_count": 245,
     "metadata": {},
     "output_type": "execute_result"
    }
   ],
   "source": [
    "def insert(word):\n",
    "\n",
    "    characters = 'abcdefghijklmnopqrstuvwxyz'\n",
    "    output = []\n",
    "\n",
    "    for l,r in split(word):\n",
    "        for char in characters:\n",
    "            output.append(l + char + r)\n",
    "\n",
    "    return output\n",
    "\n",
    "len(insert('lve'))"
   ]
  },
  {
   "cell_type": "markdown",
   "id": "7331bb1d",
   "metadata": {},
   "source": [
    "## 4. Finding the Prediction (Level - 1)\n",
    "### 4.1) Combining Possible Words"
   ]
  },
  {
   "cell_type": "code",
   "execution_count": 246,
   "id": "6c71a178",
   "metadata": {},
   "outputs": [],
   "source": [
    "def edit(word):   \n",
    "    return list(set(insert(word) + delete(word) + swap(word) + replace(word)))"
   ]
  },
  {
   "cell_type": "markdown",
   "id": "cc93e601",
   "metadata": {},
   "source": [
    "### 4.2) Predicting the Word"
   ]
  },
  {
   "cell_type": "code",
   "execution_count": 247,
   "id": "06ec28dd",
   "metadata": {},
   "outputs": [],
   "source": [
    "def spell_check_edit_1(word, count = 5):\n",
    "    \n",
    "    output = []\n",
    "    suggested_words = edit(word)\n",
    "    \n",
    "    for wrd in suggested_words:        \n",
    "        if wrd in word_probability.keys():\n",
    "            output.append([wrd, word_probability[wrd]])\n",
    "            \n",
    "    return list(pd.DataFrame(output, columns = ['word','prob']).sort_values(by = 'prob', ascending = False).head(count)['word'].values)"
   ]
  },
  {
   "cell_type": "code",
   "execution_count": 249,
   "id": "a8247abe",
   "metadata": {},
   "outputs": [
    {
     "data": {
      "text/plain": [
       "['family']"
      ]
     },
     "execution_count": 249,
     "metadata": {},
     "output_type": "execute_result"
    }
   ],
   "source": [
    "spell_check_edit_1('famili')"
   ]
  },
  {
   "cell_type": "markdown",
   "id": "69419dda",
   "metadata": {},
   "source": [
    "## 5. Finding the Prediction (Level - 2)\n",
    "### 5.1) Combining Possible Words"
   ]
  },
  {
   "cell_type": "code",
   "execution_count": 240,
   "id": "76a0cce7",
   "metadata": {},
   "outputs": [
    {
     "data": {
      "text/plain": [
       "['family', 'namely', 'fame', 'camel', 'camelia']"
      ]
     },
     "execution_count": 240,
     "metadata": {},
     "output_type": "execute_result"
    }
   ],
   "source": [
    "def spell_check_edit_2(word, count = 5):\n",
    "    \n",
    "    output = []\n",
    "    suggested_words = edit(word)       # Level one Edit\n",
    "    \n",
    "    for e1 in edit(word):\n",
    "        suggested_words += edit(e1)    # Second Level Edit \n",
    "    \n",
    "    suggested_words = list(set(suggested_words))\n",
    "    \n",
    "    for wrd in suggested_words:\n",
    "        if wrd in word_probability.keys():\n",
    "            output.append([wrd, word_probability[wrd]])\n",
    "    return list(pd.DataFrame(output, columns = ['word','prob']).sort_values(by = 'prob', ascending = False).head(count)['word'].values)\n",
    "        \n",
    "spell_check_edit_2('fameli')"
   ]
  },
  {
   "cell_type": "code",
   "execution_count": null,
   "id": "73e258ec",
   "metadata": {},
   "outputs": [],
   "source": []
  }
 ],
 "metadata": {
  "kernelspec": {
   "display_name": "Python 3 (ipykernel)",
   "language": "python",
   "name": "python3"
  },
  "language_info": {
   "codemirror_mode": {
    "name": "ipython",
    "version": 3
   },
   "file_extension": ".py",
   "mimetype": "text/x-python",
   "name": "python",
   "nbconvert_exporter": "python",
   "pygments_lexer": "ipython3",
   "version": "3.9.7"
  }
 },
 "nbformat": 4,
 "nbformat_minor": 5
}
