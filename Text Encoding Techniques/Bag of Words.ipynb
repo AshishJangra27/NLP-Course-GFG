{
 "cells": [
  {
   "cell_type": "markdown",
   "id": "b0a71323",
   "metadata": {},
   "source": [
    "### 1. Bag of Words"
   ]
  },
  {
   "cell_type": "code",
   "execution_count": 38,
   "id": "7441b5ce",
   "metadata": {},
   "outputs": [
    {
     "data": {
      "text/html": [
       "<div>\n",
       "<style scoped>\n",
       "    .dataframe tbody tr th:only-of-type {\n",
       "        vertical-align: middle;\n",
       "    }\n",
       "\n",
       "    .dataframe tbody tr th {\n",
       "        vertical-align: top;\n",
       "    }\n",
       "\n",
       "    .dataframe thead th {\n",
       "        text-align: right;\n",
       "    }\n",
       "</style>\n",
       "<table border=\"1\" class=\"dataframe\">\n",
       "  <thead>\n",
       "    <tr style=\"text-align: right;\">\n",
       "      <th></th>\n",
       "      <th>is</th>\n",
       "      <th>a</th>\n",
       "      <th>dog</th>\n",
       "      <th>cute</th>\n",
       "      <th>very</th>\n",
       "      <th>The</th>\n",
       "      <th>cat</th>\n",
       "      <th>word_corpus</th>\n",
       "    </tr>\n",
       "  </thead>\n",
       "  <tbody>\n",
       "    <tr>\n",
       "      <th>0</th>\n",
       "      <td>1</td>\n",
       "      <td>1</td>\n",
       "      <td>0</td>\n",
       "      <td>1</td>\n",
       "      <td>2</td>\n",
       "      <td>1</td>\n",
       "      <td>1</td>\n",
       "      <td>The is a very very cute cat</td>\n",
       "    </tr>\n",
       "    <tr>\n",
       "      <th>1</th>\n",
       "      <td>1</td>\n",
       "      <td>0</td>\n",
       "      <td>1</td>\n",
       "      <td>1</td>\n",
       "      <td>1</td>\n",
       "      <td>1</td>\n",
       "      <td>0</td>\n",
       "      <td>The dog is very cute</td>\n",
       "    </tr>\n",
       "  </tbody>\n",
       "</table>\n",
       "</div>"
      ],
      "text/plain": [
       "   is  a  dog  cute  very  The  cat                  word_corpus\n",
       "0   1  1    0     1     2    1    1  The is a very very cute cat\n",
       "1   1  0    1     1     1    1    0         The dog is very cute"
      ]
     },
     "execution_count": 38,
     "metadata": {},
     "output_type": "execute_result"
    }
   ],
   "source": [
    "import pandas as pd\n",
    "\n",
    "feature_vectors = []\n",
    "\n",
    "word_text = [\"The is a very very cute cat\", \"The dog is very cute\"]\n",
    "\n",
    "tokens = [token.split() for token in word_text]\n",
    "vocab  = list(set([word for text in tokens for word in text]))\n",
    "\n",
    "for text in tokens:\n",
    "    feature_vector = [0]*len(vocab)\n",
    "    for word in text:\n",
    "        feature_vector[vocab.index(word)] = text.count(word)        \n",
    "    feature_vectors.append(feature_vector)\n",
    "\n",
    "df = pd.DataFrame(feature_vectors, columns = vocab)\n",
    "df['word_corpus'] = word_text\n",
    "df"
   ]
  },
  {
   "cell_type": "markdown",
   "id": "e38219ac",
   "metadata": {},
   "source": [
    "### 2. Binary Bag of Words"
   ]
  },
  {
   "cell_type": "code",
   "execution_count": 40,
   "id": "d2ff9cbc",
   "metadata": {},
   "outputs": [
    {
     "data": {
      "text/html": [
       "<div>\n",
       "<style scoped>\n",
       "    .dataframe tbody tr th:only-of-type {\n",
       "        vertical-align: middle;\n",
       "    }\n",
       "\n",
       "    .dataframe tbody tr th {\n",
       "        vertical-align: top;\n",
       "    }\n",
       "\n",
       "    .dataframe thead th {\n",
       "        text-align: right;\n",
       "    }\n",
       "</style>\n",
       "<table border=\"1\" class=\"dataframe\">\n",
       "  <thead>\n",
       "    <tr style=\"text-align: right;\">\n",
       "      <th></th>\n",
       "      <th>is</th>\n",
       "      <th>a</th>\n",
       "      <th>dog</th>\n",
       "      <th>cute</th>\n",
       "      <th>very</th>\n",
       "      <th>The</th>\n",
       "      <th>cat</th>\n",
       "      <th>word_corpus</th>\n",
       "    </tr>\n",
       "  </thead>\n",
       "  <tbody>\n",
       "    <tr>\n",
       "      <th>0</th>\n",
       "      <td>1</td>\n",
       "      <td>1</td>\n",
       "      <td>0</td>\n",
       "      <td>1</td>\n",
       "      <td>1</td>\n",
       "      <td>1</td>\n",
       "      <td>1</td>\n",
       "      <td>The is a very very cute cat</td>\n",
       "    </tr>\n",
       "    <tr>\n",
       "      <th>1</th>\n",
       "      <td>1</td>\n",
       "      <td>0</td>\n",
       "      <td>1</td>\n",
       "      <td>1</td>\n",
       "      <td>1</td>\n",
       "      <td>1</td>\n",
       "      <td>0</td>\n",
       "      <td>The dog is very cute</td>\n",
       "    </tr>\n",
       "  </tbody>\n",
       "</table>\n",
       "</div>"
      ],
      "text/plain": [
       "   is  a  dog  cute  very  The  cat                  word_corpus\n",
       "0   1  1    0     1     1    1    1  The is a very very cute cat\n",
       "1   1  0    1     1     1    1    0         The dog is very cute"
      ]
     },
     "execution_count": 40,
     "metadata": {},
     "output_type": "execute_result"
    }
   ],
   "source": [
    "import pandas as pd\n",
    "\n",
    "feature_vectors = []\n",
    "\n",
    "word_text = [\"The is a very very cute cat\", \"The dog is very cute\"]\n",
    "\n",
    "tokens = [token.split() for token in word_text]\n",
    "vocab  = list(set([word for text in tokens for word in text]))\n",
    "\n",
    "for text in tokens:\n",
    "    feature_vector = [0]*len(vocab)\n",
    "    for word in text:\n",
    "        if word in vocab:\n",
    "            feature_vector[vocab.index(word)] = 1\n",
    "    feature_vectors.append(feature_vector)\n",
    "\n",
    "df = pd.DataFrame(feature_vectors, columns = vocab)\n",
    "df['word_corpus'] = word_text\n",
    "df"
   ]
  }
 ],
 "metadata": {
  "kernelspec": {
   "display_name": "Python 3 (ipykernel)",
   "language": "python",
   "name": "python3"
  },
  "language_info": {
   "codemirror_mode": {
    "name": "ipython",
    "version": 3
   },
   "file_extension": ".py",
   "mimetype": "text/x-python",
   "name": "python",
   "nbconvert_exporter": "python",
   "pygments_lexer": "ipython3",
   "version": "3.9.7"
  }
 },
 "nbformat": 4,
 "nbformat_minor": 5
}
