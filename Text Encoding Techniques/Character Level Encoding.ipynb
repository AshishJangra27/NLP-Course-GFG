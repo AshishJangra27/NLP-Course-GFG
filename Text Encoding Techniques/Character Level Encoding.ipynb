{
 "cells": [
  {
   "cell_type": "markdown",
   "id": "c63bfae2",
   "metadata": {},
   "source": [
    "### 1. Count Vectorizer with Character Level Encoding"
   ]
  },
  {
   "cell_type": "code",
   "execution_count": 8,
   "id": "6651bf02",
   "metadata": {},
   "outputs": [
    {
     "data": {
      "text/html": [
       "<div>\n",
       "<style scoped>\n",
       "    .dataframe tbody tr th:only-of-type {\n",
       "        vertical-align: middle;\n",
       "    }\n",
       "\n",
       "    .dataframe tbody tr th {\n",
       "        vertical-align: top;\n",
       "    }\n",
       "\n",
       "    .dataframe thead th {\n",
       "        text-align: right;\n",
       "    }\n",
       "</style>\n",
       "<table border=\"1\" class=\"dataframe\">\n",
       "  <thead>\n",
       "    <tr style=\"text-align: right;\">\n",
       "      <th></th>\n",
       "      <th>t</th>\n",
       "      <th>h</th>\n",
       "      <th>i</th>\n",
       "      <th>s</th>\n",
       "      <th></th>\n",
       "      <th>a</th>\n",
       "      <th>m</th>\n",
       "      <th>p</th>\n",
       "      <th>l</th>\n",
       "      <th>e</th>\n",
       "      <th>n</th>\n",
       "      <th>c</th>\n",
       "      <th>o</th>\n",
       "      <th>r</th>\n",
       "      <th>x</th>\n",
       "    </tr>\n",
       "  </thead>\n",
       "  <tbody>\n",
       "    <tr>\n",
       "      <th>0</th>\n",
       "      <td>4</td>\n",
       "      <td>2</td>\n",
       "      <td>1</td>\n",
       "      <td>4</td>\n",
       "      <td>1</td>\n",
       "      <td>2</td>\n",
       "      <td>1</td>\n",
       "      <td>1</td>\n",
       "      <td>2</td>\n",
       "      <td>0</td>\n",
       "      <td>1</td>\n",
       "      <td>0</td>\n",
       "      <td>4</td>\n",
       "      <td>2</td>\n",
       "      <td>0</td>\n",
       "    </tr>\n",
       "    <tr>\n",
       "      <th>1</th>\n",
       "      <td>2</td>\n",
       "      <td>2</td>\n",
       "      <td>1</td>\n",
       "      <td>6</td>\n",
       "      <td>1</td>\n",
       "      <td>0</td>\n",
       "      <td>1</td>\n",
       "      <td>1</td>\n",
       "      <td>3</td>\n",
       "      <td>1</td>\n",
       "      <td>1</td>\n",
       "      <td>1</td>\n",
       "      <td>1</td>\n",
       "      <td>2</td>\n",
       "      <td>1</td>\n",
       "    </tr>\n",
       "    <tr>\n",
       "      <th>2</th>\n",
       "      <td>3</td>\n",
       "      <td>0</td>\n",
       "      <td>1</td>\n",
       "      <td>6</td>\n",
       "      <td>0</td>\n",
       "      <td>0</td>\n",
       "      <td>0</td>\n",
       "      <td>1</td>\n",
       "      <td>3</td>\n",
       "      <td>2</td>\n",
       "      <td>0</td>\n",
       "      <td>1</td>\n",
       "      <td>1</td>\n",
       "      <td>3</td>\n",
       "      <td>1</td>\n",
       "    </tr>\n",
       "    <tr>\n",
       "      <th>3</th>\n",
       "      <td>0</td>\n",
       "      <td>0</td>\n",
       "      <td>0</td>\n",
       "      <td>0</td>\n",
       "      <td>1</td>\n",
       "      <td>1</td>\n",
       "      <td>0</td>\n",
       "      <td>0</td>\n",
       "      <td>0</td>\n",
       "      <td>0</td>\n",
       "      <td>0</td>\n",
       "      <td>0</td>\n",
       "      <td>1</td>\n",
       "      <td>1</td>\n",
       "      <td>0</td>\n",
       "    </tr>\n",
       "  </tbody>\n",
       "</table>\n",
       "</div>"
      ],
      "text/plain": [
       "   t  h  i  s     a  m  p  l  e  n  c  o  r  x\n",
       "0  4  2  1  4  1  2  1  1  2  0  1  0  4  2  0\n",
       "1  2  2  1  6  1  0  1  1  3  1  1  1  1  2  1\n",
       "2  3  0  1  6  0  0  0  1  3  2  0  1  1  3  1\n",
       "3  0  0  0  0  1  1  0  0  0  0  0  0  1  1  0"
      ]
     },
     "execution_count": 8,
     "metadata": {},
     "output_type": "execute_result"
    }
   ],
   "source": [
    "from pandas import DataFrame\n",
    "from sklearn.feature_extraction.text import CountVectorizer\n",
    "\n",
    "text_data = [\"This is a sample sentence\", \"Another example sentence\", \"One more text sentence\",'this']\n",
    "\n",
    "vec = CountVectorizer( analyzer = 'char')\n",
    "\n",
    "encoded_data = vec.fit_transform(text_data)\n",
    "\n",
    "DataFrame(encoded_data.toarray(), columns = vec.vocabulary_)"
   ]
  },
  {
   "cell_type": "markdown",
   "id": "c30f5f57",
   "metadata": {},
   "source": [
    "#### 2.1 Encoding from Scratch"
   ]
  },
  {
   "cell_type": "code",
   "execution_count": 34,
   "id": "a0ae4887",
   "metadata": {},
   "outputs": [
    {
     "name": "stdout",
     "output_type": "stream",
     "text": [
      "18\n",
      "[[4, 6, 11, 5, 16, 11, 5, 16, 7, 16, 5, 7, 17, 3, 15, 12, 16, 5, 12, 8, 14, 12, 8, 0, 12], [9, 8, 2, 14, 6, 12, 10, 16, 12, 13, 7, 17, 3, 15, 12, 16, 5, 12, 8, 14, 12, 8, 0, 12], [1, 8, 12, 16, 17, 2, 10, 12, 16, 14, 12, 13, 14, 16, 5, 12, 8, 14, 12, 8, 0, 12], [14, 6, 11, 5]]\n"
     ]
    }
   ],
   "source": [
    "text_data = [\"This is a sample sentence\", \"Another example sentence\", \"One more text sentence\",'this']\n",
    "\n",
    "characters = list(set(''.join(text_data)))\n",
    "print(len(characters))\n",
    "\n",
    "chr_to_int = {i : indx  for indx , i in enumerate(characters)}\n",
    "\n",
    "end_data = [[chr_to_int[char] for char in sent] for sent in text_data]\n",
    "print(enc_data)"
   ]
  },
  {
   "cell_type": "markdown",
   "id": "b0388d72",
   "metadata": {},
   "source": [
    "#### 2.2 Decoding from Scratch"
   ]
  },
  {
   "cell_type": "code",
   "execution_count": 36,
   "id": "2fea2fb8",
   "metadata": {},
   "outputs": [
    {
     "name": "stdout",
     "output_type": "stream",
     "text": [
      "['This is a sample sentence', 'Another example sentence', 'One more text sentence', 'this']\n"
     ]
    }
   ],
   "source": [
    "int_to_chr = {indx : i  for indx , i in enumerate(characters)}\n",
    "\n",
    "dec_data = [''.join([int_to_chr[char] for char in sent]) for sent in end_data]\n",
    "print(dec_data)"
   ]
  }
 ],
 "metadata": {
  "kernelspec": {
   "display_name": "Python 3 (ipykernel)",
   "language": "python",
   "name": "python3"
  },
  "language_info": {
   "codemirror_mode": {
    "name": "ipython",
    "version": 3
   },
   "file_extension": ".py",
   "mimetype": "text/x-python",
   "name": "python",
   "nbconvert_exporter": "python",
   "pygments_lexer": "ipython3",
   "version": "3.9.7"
  }
 },
 "nbformat": 4,
 "nbformat_minor": 5
}
