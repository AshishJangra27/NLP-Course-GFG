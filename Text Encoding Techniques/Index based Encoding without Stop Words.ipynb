{
 "cells": [
  {
   "cell_type": "code",
   "execution_count": 1,
   "id": "64b6f6e2",
   "metadata": {
    "scrolled": true
   },
   "outputs": [],
   "source": [
    "from nltk.tokenize import word_tokenize, sent_tokenize\n",
    "from nltk.corpus import stopwords\n",
    "\n",
    "corpus = 'India, officially the Republic of India, is a country in South Asia. It is the seventh-largest country by area, the second-most populous country, and the most populous democracy in the world. Bounded by the Indian Ocean on the south, the Arabian Sea on the southwest, and the Bay of Bengal on the southeast, it shares land borders with Pakistan to the west; China, Nepal, and Bhutan to the north; and Bangladesh and Myanmar to the east. In the Indian Ocean, India is in the vicinity of Sri Lanka and the Maldives; its Andaman and Nicobar Islands share a maritime border with Thailand, Myanmar and Indonesia.'"
   ]
  },
  {
   "cell_type": "markdown",
   "id": "c130986f",
   "metadata": {},
   "source": [
    "## Remove Special Characters"
   ]
  },
  {
   "cell_type": "code",
   "execution_count": 2,
   "id": "2a135f93",
   "metadata": {},
   "outputs": [],
   "source": [
    "words = []\n",
    "\n",
    "for word in word_tokenize(corpus):\n",
    "    if (len(word) == 1):\n",
    "        if ((ord(word) >= 97 and ord(word) <= 122) or (ord(word) >= 65 and ord(word) <= 90)):\n",
    "            words.append(word.lower())\n",
    "    else:\n",
    "        words.append(word.lower())"
   ]
  },
  {
   "cell_type": "markdown",
   "id": "6a51dfbd",
   "metadata": {},
   "source": [
    "## Creating Vocab"
   ]
  },
  {
   "cell_type": "code",
   "execution_count": 3,
   "id": "0eb0f304",
   "metadata": {},
   "outputs": [],
   "source": [
    "vocab = list(set(words))"
   ]
  },
  {
   "cell_type": "code",
   "execution_count": 4,
   "id": "4d109372",
   "metadata": {
    "scrolled": true
   },
   "outputs": [
    {
     "data": {
      "text/plain": [
       "58"
      ]
     },
     "execution_count": 4,
     "metadata": {},
     "output_type": "execute_result"
    }
   ],
   "source": [
    "len(vocab)"
   ]
  },
  {
   "cell_type": "markdown",
   "id": "4d2f9282",
   "metadata": {},
   "source": [
    "## Creating Encoders and Decoders"
   ]
  },
  {
   "cell_type": "code",
   "execution_count": 5,
   "id": "9d583388",
   "metadata": {},
   "outputs": [],
   "source": [
    "num = 1\n",
    "\n",
    "word_to_num = {}\n",
    "num_to_word = {}\n",
    "\n",
    "for word in vocab:\n",
    "    word_to_num[word] = num\n",
    "    num_to_word[num] = word\n",
    "    num += 1"
   ]
  },
  {
   "cell_type": "markdown",
   "id": "449a21d7",
   "metadata": {},
   "source": [
    "## Encoding Sentences"
   ]
  },
  {
   "cell_type": "code",
   "execution_count": 6,
   "id": "f87cc49a",
   "metadata": {
    "scrolled": true
   },
   "outputs": [],
   "source": [
    "data = []\n",
    "\n",
    "for sent in sent_tokenize(corpus):\n",
    "    temp = []\n",
    "    for word in word_tokenize(sent):\n",
    "        if (len(word) == 1):\n",
    "            if ((ord(word) >= 97 and ord(word) <= 122) or (ord(word) >= 65 and ord(word) <= 90)):\n",
    "                temp.append(word_to_num[word.lower()])\n",
    "        else:\n",
    "            temp.append(word_to_num[word.lower()])\n",
    "\n",
    "    data.append(temp)"
   ]
  },
  {
   "cell_type": "markdown",
   "id": "9ff47ac2",
   "metadata": {},
   "source": [
    "## Decoding Sentences"
   ]
  },
  {
   "cell_type": "code",
   "execution_count": 7,
   "id": "ba8cd9a4",
   "metadata": {},
   "outputs": [
    {
     "name": "stdout",
     "output_type": "stream",
     "text": [
      "india officially the republic of india is a country in south asia \n",
      "it is the seventh-largest country by area the second-most populous country and the most populous democracy in the world \n",
      "bounded by the indian ocean on the south the arabian sea on the southwest and the bay of bengal on the southeast it shares land borders with pakistan to the west china nepal and bhutan to the north and bangladesh and myanmar to the east \n",
      "in the indian ocean india is in the vicinity of sri lanka and the maldives its andaman and nicobar islands share a maritime border with thailand myanmar and indonesia \n"
     ]
    }
   ],
   "source": [
    "for sent in data:\n",
    "    for word in sent:\n",
    "        print(num_to_word[word], end = ' ')\n",
    "        \n",
    "    print()"
   ]
  },
  {
   "cell_type": "code",
   "execution_count": 8,
   "id": "996d4b73",
   "metadata": {},
   "outputs": [
    {
     "name": "stdout",
     "output_type": "stream",
     "text": [
      "46 9 14 33 39 46 1 4 49 40 56 55 \n",
      "12 1 14 11 49 13 21 14 5 8 49 31 14 17 8 24 40 14 43 \n",
      "51 13 14 47 7 19 14 56 14 2 28 19 14 44 31 14 16 39 6 19 14 38 12 50 41 3 37 52 18 14 25 29 20 31 15 18 14 32 31 48 31 45 18 14 58 \n",
      "40 14 47 7 46 1 40 14 34 39 23 36 31 14 26 53 27 31 30 42 10 4 57 54 37 22 45 31 35 \n"
     ]
    }
   ],
   "source": [
    "for sent in data:\n",
    "    for word in sent:\n",
    "        print(word, end  = ' ')\n",
    "        \n",
    "    print()"
   ]
  }
 ],
 "metadata": {
  "kernelspec": {
   "display_name": "Python 3 (ipykernel)",
   "language": "python",
   "name": "python3"
  },
  "language_info": {
   "codemirror_mode": {
    "name": "ipython",
    "version": 3
   },
   "file_extension": ".py",
   "mimetype": "text/x-python",
   "name": "python",
   "nbconvert_exporter": "python",
   "pygments_lexer": "ipython3",
   "version": "3.9.7"
  }
 },
 "nbformat": 4,
 "nbformat_minor": 5
}
