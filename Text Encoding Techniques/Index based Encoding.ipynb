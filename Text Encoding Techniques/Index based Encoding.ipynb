{
 "cells": [
  {
   "cell_type": "code",
   "execution_count": 161,
   "id": "64b6f6e2",
   "metadata": {
    "scrolled": true
   },
   "outputs": [],
   "source": [
    "from nltk.tokenize import word_tokenize, sent_tokenize\n",
    "from nltk.corpus import stopwords\n",
    "\n",
    "\n",
    "corpus = 'India, officially the Republic of India, is a country in South Asia. It is the seventh-largest country by area, the second-most populous country, and the most populous democracy in the world. Bounded by the Indian Ocean on the south, the Arabian Sea on the southwest, and the Bay of Bengal on the southeast, it shares land borders with Pakistan to the west; China, Nepal, and Bhutan to the north; and Bangladesh and Myanmar to the east. In the Indian Ocean, India is in the vicinity of Sri Lanka and the Maldives; its Andaman and Nicobar Islands share a maritime border with Thailand, Myanmar and Indonesia.'"
   ]
  },
  {
   "cell_type": "markdown",
   "id": "c130986f",
   "metadata": {},
   "source": [
    "## Stop Word Removal"
   ]
  },
  {
   "cell_type": "code",
   "execution_count": 162,
   "id": "2a135f93",
   "metadata": {},
   "outputs": [],
   "source": [
    "words = []\n",
    "\n",
    "for word in word_tokenize(corpus):\n",
    "    if (word.lower() not in stopwords.words('english')) and (len(word) >= 2):\n",
    "        words.append(word.lower())"
   ]
  },
  {
   "cell_type": "markdown",
   "id": "6a51dfbd",
   "metadata": {},
   "source": [
    "## Creating Vocab"
   ]
  },
  {
   "cell_type": "code",
   "execution_count": 163,
   "id": "0eb0f304",
   "metadata": {},
   "outputs": [],
   "source": [
    "vocab = list(set(words))"
   ]
  },
  {
   "cell_type": "code",
   "execution_count": 164,
   "id": "4d109372",
   "metadata": {
    "scrolled": true
   },
   "outputs": [
    {
     "data": {
      "text/plain": [
       "45"
      ]
     },
     "execution_count": 164,
     "metadata": {},
     "output_type": "execute_result"
    }
   ],
   "source": [
    "len(vocab)"
   ]
  },
  {
   "cell_type": "markdown",
   "id": "4d2f9282",
   "metadata": {},
   "source": [
    "## Creating Encoders and Decoders"
   ]
  },
  {
   "cell_type": "code",
   "execution_count": 165,
   "id": "9d583388",
   "metadata": {},
   "outputs": [],
   "source": [
    "num = 1\n",
    "\n",
    "word_to_num = {}\n",
    "num_to_word = {}\n",
    "\n",
    "for word in vocab:\n",
    "    word_to_num[word] = num\n",
    "    num_to_word[num] = word\n",
    "    num += 1"
   ]
  },
  {
   "cell_type": "markdown",
   "id": "24d8ea24",
   "metadata": {},
   "source": [
    "## Encoding Sentences"
   ]
  },
  {
   "cell_type": "code",
   "execution_count": 184,
   "id": "f87cc49a",
   "metadata": {
    "scrolled": true
   },
   "outputs": [
    {
     "name": "stdout",
     "output_type": "stream",
     "text": [
      "India officially Republic India country South Asia \n",
      "[29, 39, 42, 29, 13, 35, 17]\n",
      "seventh-largest country area second-most populous country populous democracy world \n",
      "[32, 13, 23, 5, 38, 13, 38, 18, 37]\n",
      "Bounded Indian Ocean south Arabian Sea southwest Bay Bengal southeast shares land borders Pakistan west China Nepal Bhutan north Bangladesh Myanmar east \n",
      "[40, 28, 36, 35, 19, 26, 1, 6, 44, 20, 41, 15, 22, 14, 43, 11, 9, 21, 24, 3, 33, 10]\n",
      "Indian Ocean India vicinity Sri Lanka Maldives Andaman Nicobar Islands share maritime border Thailand Myanmar Indonesia \n",
      "[28, 36, 29, 7, 4, 27, 25, 34, 8, 30, 16, 12, 2, 45, 33, 31]\n"
     ]
    }
   ],
   "source": [
    "data = []\n",
    "\n",
    "for sent in sent_tokenize(corpus):\n",
    "    temp = []\n",
    "    for word in word_tokenize(sent):\n",
    "        if (word.lower() not in stopwords.words('english') and (len(word) >= 2)):\n",
    "            print(word, end = ' ')\n",
    "            temp.append(word_to_num[word.lower()])\n",
    "    print()            \n",
    "    print(temp)\n",
    "    \n",
    "    data.append(temp)"
   ]
  },
  {
   "cell_type": "markdown",
   "id": "1209a015",
   "metadata": {},
   "source": [
    "## Decoding Sentences"
   ]
  },
  {
   "cell_type": "code",
   "execution_count": 198,
   "id": "ba8cd9a4",
   "metadata": {},
   "outputs": [
    {
     "name": "stdout",
     "output_type": "stream",
     "text": [
      "india officially republic india country south asia \n",
      "seventh-largest country area second-most populous country populous democracy world \n",
      "bounded indian ocean south arabian sea southwest bay bengal southeast shares land borders pakistan west china nepal bhutan north bangladesh myanmar east \n",
      "indian ocean india vicinity sri lanka maldives andaman nicobar islands share maritime border thailand myanmar indonesia \n"
     ]
    }
   ],
   "source": [
    "for sent in data:\n",
    "    for word in sent:\n",
    "        print(num_to_word[word], end = ' ')\n",
    "        \n",
    "    print()"
   ]
  },
  {
   "cell_type": "code",
   "execution_count": 160,
   "id": "d1718c6d",
   "metadata": {},
   "outputs": [
    {
     "name": "stdout",
     "output_type": "stream",
     "text": [
      "india\n",
      "officially\n",
      "republic\n",
      "india\n",
      "country\n",
      "south\n",
      "asia\n"
     ]
    }
   ],
   "source": [
    "for i in [29,39,42,29,13,35,17]:\n",
    "    print(num_to_word[i])"
   ]
  },
  {
   "cell_type": "code",
   "execution_count": 157,
   "id": "996d4b73",
   "metadata": {},
   "outputs": [
    {
     "data": {
      "text/plain": [
       "{1: 'southwest',\n",
       " 2: 'border',\n",
       " 3: 'bangladesh',\n",
       " 4: 'sri',\n",
       " 5: 'second-most',\n",
       " 6: 'bay',\n",
       " 7: 'vicinity',\n",
       " 8: 'nicobar',\n",
       " 9: 'nepal',\n",
       " 10: 'east',\n",
       " 11: 'china',\n",
       " 12: 'maritime',\n",
       " 13: 'country',\n",
       " 14: 'pakistan',\n",
       " 15: 'land',\n",
       " 16: 'share',\n",
       " 17: 'asia',\n",
       " 18: 'democracy',\n",
       " 19: 'arabian',\n",
       " 20: 'southeast',\n",
       " 21: 'bhutan',\n",
       " 22: 'borders',\n",
       " 23: 'area',\n",
       " 24: 'north',\n",
       " 25: 'maldives',\n",
       " 26: 'sea',\n",
       " 27: 'lanka',\n",
       " 28: 'indian',\n",
       " 29: 'india',\n",
       " 30: 'islands',\n",
       " 31: 'indonesia',\n",
       " 32: 'seventh-largest',\n",
       " 33: 'myanmar',\n",
       " 34: 'andaman',\n",
       " 35: 'south',\n",
       " 36: 'ocean',\n",
       " 37: 'world',\n",
       " 38: 'populous',\n",
       " 39: 'officially',\n",
       " 40: 'bounded',\n",
       " 41: 'shares',\n",
       " 42: 'republic',\n",
       " 43: 'west',\n",
       " 44: 'bengal',\n",
       " 45: 'thailand'}"
      ]
     },
     "execution_count": 157,
     "metadata": {},
     "output_type": "execute_result"
    }
   ],
   "source": [
    "for num_to_word"
   ]
  },
  {
   "cell_type": "code",
   "execution_count": null,
   "id": "d443eeb8",
   "metadata": {},
   "outputs": [],
   "source": []
  }
 ],
 "metadata": {
  "kernelspec": {
   "display_name": "Python 3 (ipykernel)",
   "language": "python",
   "name": "python3"
  },
  "language_info": {
   "codemirror_mode": {
    "name": "ipython",
    "version": 3
   },
   "file_extension": ".py",
   "mimetype": "text/x-python",
   "name": "python",
   "nbconvert_exporter": "python",
   "pygments_lexer": "ipython3",
   "version": "3.9.7"
  }
 },
 "nbformat": 4,
 "nbformat_minor": 5
}
