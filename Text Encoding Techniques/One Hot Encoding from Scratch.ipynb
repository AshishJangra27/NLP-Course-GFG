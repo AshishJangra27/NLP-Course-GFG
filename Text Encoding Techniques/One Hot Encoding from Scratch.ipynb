{
 "cells": [
  {
   "cell_type": "code",
   "execution_count": 1,
   "id": "8795e4df",
   "metadata": {
    "scrolled": true
   },
   "outputs": [],
   "source": [
    "import pandas as pd\n",
    "from nltk.tokenize import word_tokenize, sent_tokenize\n",
    "\n",
    "corpus = 'GeeksforGeeks is not a website or a company. GeeksforGeeks is a coding environment. Thats what i love. Which is good. Not bad at all'"
   ]
  },
  {
   "cell_type": "markdown",
   "id": "301e7e4c",
   "metadata": {},
   "source": [
    "## One Hot Encoding - Terminologies and Process"
   ]
  },
  {
   "cell_type": "markdown",
   "id": "f7ea2224",
   "metadata": {},
   "source": [
    "                        ['all','at', 'bad', 'not','its']\n",
    "\n",
    "'its not bad at all'    [1    , 1  ,   1  ,   1  , 1]\n",
    "'its not bad'           [0    , 0  ,   1  ,   1  , 1]\n",
    "'its bad'               [0    , 0  ,   1  ,   0  , 1]\n",
    "'not bad at all'        [1    , 1  ,   1  ,   1  , 0]"
   ]
  },
  {
   "cell_type": "markdown",
   "id": "f3f3e598",
   "metadata": {},
   "source": [
    "## Finding the Sequence"
   ]
  },
  {
   "cell_type": "code",
   "execution_count": 2,
   "id": "6671f7a0",
   "metadata": {},
   "outputs": [
    {
     "name": "stdout",
     "output_type": "stream",
     "text": [
      "['good', 'or', 'Which', 'coding', 'a', 'Not', 'is', 'love', 'company', 'Thats', 'all', 'environment', 'at', 'not', 'i', 'website', 'bad', 'what', 'GeeksforGeeks']\n"
     ]
    }
   ],
   "source": [
    "seq = set()\n",
    "\n",
    "for word in word_tokenize(corpus):\n",
    "    if(word != '.'):\n",
    "        seq.add(word)\n",
    "        \n",
    "seq = list(seq)\n",
    "\n",
    "print(seq)"
   ]
  },
  {
   "cell_type": "markdown",
   "id": "04219589",
   "metadata": {},
   "source": [
    "## Finding Index to Encode"
   ]
  },
  {
   "cell_type": "code",
   "execution_count": 3,
   "id": "50effb7f",
   "metadata": {},
   "outputs": [],
   "source": [
    "data = []\n",
    "\n",
    "for sent in sent_tokenize(corpus):\n",
    "    index = []\n",
    "    for word in word_tokenize(sent):\n",
    "        if(word != '.'):\n",
    "            index.append(seq.index(word))\n",
    "            \n",
    "    data.append(index)"
   ]
  },
  {
   "cell_type": "markdown",
   "id": "889bfa6c",
   "metadata": {},
   "source": [
    "## Encode the Sentances in One Hot Encoding Format"
   ]
  },
  {
   "cell_type": "code",
   "execution_count": 4,
   "id": "0db98042",
   "metadata": {},
   "outputs": [],
   "source": [
    "fin = []\n",
    "\n",
    "for indexes in data:\n",
    "    enc = [0 for x in range(len(seq))]\n",
    "    for index in indexes:\n",
    "        enc[index] = 1\n",
    "    fin.append(enc)"
   ]
  },
  {
   "cell_type": "markdown",
   "id": "1020f893",
   "metadata": {},
   "source": [
    "## Creating the DataFrame / Dataset"
   ]
  },
  {
   "cell_type": "code",
   "execution_count": 5,
   "id": "4d54911b",
   "metadata": {},
   "outputs": [],
   "source": [
    "df = pd.DataFrame(fin, columns = seq)\n",
    "\n",
    "df['Sentances_'] = sent_tokenize(corpus)"
   ]
  },
  {
   "cell_type": "code",
   "execution_count": 6,
   "id": "49c3760c",
   "metadata": {
    "scrolled": true
   },
   "outputs": [
    {
     "data": {
      "text/html": [
       "<div>\n",
       "<style scoped>\n",
       "    .dataframe tbody tr th:only-of-type {\n",
       "        vertical-align: middle;\n",
       "    }\n",
       "\n",
       "    .dataframe tbody tr th {\n",
       "        vertical-align: top;\n",
       "    }\n",
       "\n",
       "    .dataframe thead th {\n",
       "        text-align: right;\n",
       "    }\n",
       "</style>\n",
       "<table border=\"1\" class=\"dataframe\">\n",
       "  <thead>\n",
       "    <tr style=\"text-align: right;\">\n",
       "      <th></th>\n",
       "      <th>good</th>\n",
       "      <th>or</th>\n",
       "      <th>Which</th>\n",
       "      <th>coding</th>\n",
       "      <th>a</th>\n",
       "      <th>Not</th>\n",
       "      <th>is</th>\n",
       "      <th>love</th>\n",
       "      <th>company</th>\n",
       "      <th>Thats</th>\n",
       "      <th>all</th>\n",
       "      <th>environment</th>\n",
       "      <th>at</th>\n",
       "      <th>not</th>\n",
       "      <th>i</th>\n",
       "      <th>website</th>\n",
       "      <th>bad</th>\n",
       "      <th>what</th>\n",
       "      <th>GeeksforGeeks</th>\n",
       "      <th>Sentances_</th>\n",
       "    </tr>\n",
       "  </thead>\n",
       "  <tbody>\n",
       "    <tr>\n",
       "      <th>0</th>\n",
       "      <td>0</td>\n",
       "      <td>1</td>\n",
       "      <td>0</td>\n",
       "      <td>0</td>\n",
       "      <td>1</td>\n",
       "      <td>0</td>\n",
       "      <td>1</td>\n",
       "      <td>0</td>\n",
       "      <td>1</td>\n",
       "      <td>0</td>\n",
       "      <td>0</td>\n",
       "      <td>0</td>\n",
       "      <td>0</td>\n",
       "      <td>1</td>\n",
       "      <td>0</td>\n",
       "      <td>1</td>\n",
       "      <td>0</td>\n",
       "      <td>0</td>\n",
       "      <td>1</td>\n",
       "      <td>GeeksforGeeks is not a website or a company.</td>\n",
       "    </tr>\n",
       "    <tr>\n",
       "      <th>1</th>\n",
       "      <td>0</td>\n",
       "      <td>0</td>\n",
       "      <td>0</td>\n",
       "      <td>1</td>\n",
       "      <td>1</td>\n",
       "      <td>0</td>\n",
       "      <td>1</td>\n",
       "      <td>0</td>\n",
       "      <td>0</td>\n",
       "      <td>0</td>\n",
       "      <td>0</td>\n",
       "      <td>1</td>\n",
       "      <td>0</td>\n",
       "      <td>0</td>\n",
       "      <td>0</td>\n",
       "      <td>0</td>\n",
       "      <td>0</td>\n",
       "      <td>0</td>\n",
       "      <td>1</td>\n",
       "      <td>GeeksforGeeks is a coding environment.</td>\n",
       "    </tr>\n",
       "    <tr>\n",
       "      <th>2</th>\n",
       "      <td>0</td>\n",
       "      <td>0</td>\n",
       "      <td>0</td>\n",
       "      <td>0</td>\n",
       "      <td>0</td>\n",
       "      <td>0</td>\n",
       "      <td>0</td>\n",
       "      <td>1</td>\n",
       "      <td>0</td>\n",
       "      <td>1</td>\n",
       "      <td>0</td>\n",
       "      <td>0</td>\n",
       "      <td>0</td>\n",
       "      <td>0</td>\n",
       "      <td>1</td>\n",
       "      <td>0</td>\n",
       "      <td>0</td>\n",
       "      <td>1</td>\n",
       "      <td>0</td>\n",
       "      <td>Thats what i love.</td>\n",
       "    </tr>\n",
       "    <tr>\n",
       "      <th>3</th>\n",
       "      <td>1</td>\n",
       "      <td>0</td>\n",
       "      <td>1</td>\n",
       "      <td>0</td>\n",
       "      <td>0</td>\n",
       "      <td>0</td>\n",
       "      <td>1</td>\n",
       "      <td>0</td>\n",
       "      <td>0</td>\n",
       "      <td>0</td>\n",
       "      <td>0</td>\n",
       "      <td>0</td>\n",
       "      <td>0</td>\n",
       "      <td>0</td>\n",
       "      <td>0</td>\n",
       "      <td>0</td>\n",
       "      <td>0</td>\n",
       "      <td>0</td>\n",
       "      <td>0</td>\n",
       "      <td>Which is good.</td>\n",
       "    </tr>\n",
       "    <tr>\n",
       "      <th>4</th>\n",
       "      <td>0</td>\n",
       "      <td>0</td>\n",
       "      <td>0</td>\n",
       "      <td>0</td>\n",
       "      <td>0</td>\n",
       "      <td>1</td>\n",
       "      <td>0</td>\n",
       "      <td>0</td>\n",
       "      <td>0</td>\n",
       "      <td>0</td>\n",
       "      <td>1</td>\n",
       "      <td>0</td>\n",
       "      <td>1</td>\n",
       "      <td>0</td>\n",
       "      <td>0</td>\n",
       "      <td>0</td>\n",
       "      <td>1</td>\n",
       "      <td>0</td>\n",
       "      <td>0</td>\n",
       "      <td>Not bad at all</td>\n",
       "    </tr>\n",
       "  </tbody>\n",
       "</table>\n",
       "</div>"
      ],
      "text/plain": [
       "   good  or  Which  coding  a  Not  is  love  company  Thats  all  \\\n",
       "0     0   1      0       0  1    0   1     0        1      0    0   \n",
       "1     0   0      0       1  1    0   1     0        0      0    0   \n",
       "2     0   0      0       0  0    0   0     1        0      1    0   \n",
       "3     1   0      1       0  0    0   1     0        0      0    0   \n",
       "4     0   0      0       0  0    1   0     0        0      0    1   \n",
       "\n",
       "   environment  at  not  i  website  bad  what  GeeksforGeeks  \\\n",
       "0            0   0    1  0        1    0     0              1   \n",
       "1            1   0    0  0        0    0     0              1   \n",
       "2            0   0    0  1        0    0     1              0   \n",
       "3            0   0    0  0        0    0     0              0   \n",
       "4            0   1    0  0        0    1     0              0   \n",
       "\n",
       "                                     Sentances_  \n",
       "0  GeeksforGeeks is not a website or a company.  \n",
       "1        GeeksforGeeks is a coding environment.  \n",
       "2                            Thats what i love.  \n",
       "3                                Which is good.  \n",
       "4                                Not bad at all  "
      ]
     },
     "execution_count": 6,
     "metadata": {},
     "output_type": "execute_result"
    }
   ],
   "source": [
    "df.head()"
   ]
  },
  {
   "cell_type": "code",
   "execution_count": null,
   "id": "a26f11b8",
   "metadata": {},
   "outputs": [],
   "source": [
    "                                    ['This','is','not','bad','good','at','all']\n",
    "\n",
    "'This is good, not bad at all'      [1,1,1,1,1,1]\n",
    "'This is bad, not good at all'      [1,1,1,1,1,1]"
   ]
  },
  {
   "cell_type": "code",
   "execution_count": 9,
   "id": "51530738",
   "metadata": {},
   "outputs": [
    {
     "data": {
      "text/plain": [
       "'This is good, not bad at all'"
      ]
     },
     "execution_count": 9,
     "metadata": {},
     "output_type": "execute_result"
    }
   ],
   "source": [
    "[0 for x in range(1000)]\n",
    "\n",
    "\n",
    "\n",
    "'This is good, not bad at all' "
   ]
  },
  {
   "cell_type": "code",
   "execution_count": 11,
   "id": "23283956",
   "metadata": {},
   "outputs": [
    {
     "data": {
      "text/plain": [
       "0.0007"
      ]
     },
     "execution_count": 11,
     "metadata": {},
     "output_type": "execute_result"
    }
   ],
   "source": [
    "(7/10000)"
   ]
  },
  {
   "cell_type": "code",
   "execution_count": null,
   "id": "7a6e9010",
   "metadata": {},
   "outputs": [],
   "source": []
  }
 ],
 "metadata": {
  "kernelspec": {
   "display_name": "Python 3 (ipykernel)",
   "language": "python",
   "name": "python3"
  },
  "language_info": {
   "codemirror_mode": {
    "name": "ipython",
    "version": 3
   },
   "file_extension": ".py",
   "mimetype": "text/x-python",
   "name": "python",
   "nbconvert_exporter": "python",
   "pygments_lexer": "ipython3",
   "version": "3.9.7"
  }
 },
 "nbformat": 4,
 "nbformat_minor": 5
}
