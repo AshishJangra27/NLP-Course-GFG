{
 "cells": [
  {
   "cell_type": "markdown",
   "id": "60cae482",
   "metadata": {},
   "source": [
    "### 1. One word at a time"
   ]
  },
  {
   "cell_type": "code",
   "execution_count": 4,
   "id": "dc4e3f05",
   "metadata": {},
   "outputs": [
    {
     "name": "stdout",
     "output_type": "stream",
     "text": [
      "   bird  cat  dog  fish\n",
      "0     0    1    0     0\n",
      "1     0    0    1     0\n",
      "2     0    0    0     1\n",
      "3     1    0    0     0\n",
      "4     0    1    0     0\n",
      "5     0    0    1     0\n",
      "------------------------------\n",
      "Index(['bird', 'cat', 'dog', 'fish'], dtype='object')\n"
     ]
    }
   ],
   "source": [
    "import pandas as pd\n",
    "\n",
    "text = ['cat', 'dog', 'fish', 'bird', 'cat', 'dog']\n",
    "\n",
    "data = pd.get_dummies(text)\n",
    "\n",
    "print(data)\n",
    "print('-'*30)\n",
    "print(data.keys())"
   ]
  },
  {
   "cell_type": "markdown",
   "id": "b102f443",
   "metadata": {},
   "source": [
    "### 2. Whole sentance at a time"
   ]
  },
  {
   "cell_type": "code",
   "execution_count": 12,
   "id": "01a3a5a5",
   "metadata": {},
   "outputs": [
    {
     "name": "stdout",
     "output_type": "stream",
     "text": [
      "[[0. 0. 1. 0.]\n",
      " [1. 0. 0. 0.]\n",
      " [0. 1. 0. 0.]\n",
      " [0. 0. 0. 1.]]\n",
      "['i hate cats', 'i like turtles', 'i love dogs', 'i love the dogs']\n"
     ]
    }
   ],
   "source": [
    "import numpy as np\n",
    "from sklearn.preprocessing import OneHotEncoder\n",
    "\n",
    "text = ['i love dogs', 'i hate cats', 'i like turtles', 'i love the dogs']\n",
    "\n",
    "text = np.reshape(text, (-1, 1))\n",
    "\n",
    "\n",
    "encoder = OneHotEncoder()\n",
    "encoder.fit(text)\n",
    "\n",
    "one_hot = encoder.transform(text)\n",
    "\n",
    "print(one_hot.toarray())\n",
    "print([i[3:]for i in encoder.get_feature_names()])"
   ]
  },
  {
   "cell_type": "markdown",
   "id": "14f93ff1",
   "metadata": {},
   "source": [
    "### 3. Tokenized Sentance"
   ]
  },
  {
   "cell_type": "code",
   "execution_count": 21,
   "id": "389b5192",
   "metadata": {},
   "outputs": [
    {
     "name": "stdout",
     "output_type": "stream",
     "text": [
      "[[0. 1. 1. 0. 0. 1.]\n",
      " [1. 0. 0. 1. 1. 0.]]\n",
      "------------------------------\n",
      "['but', 'this', 'is', 'its', 'fine', 'good']\n"
     ]
    }
   ],
   "source": [
    "from sklearn.preprocessing import OneHotEncoder\n",
    "\n",
    "text = [['this' ,'is' ,'good'], ['but','its','fine']]\n",
    "\n",
    "encoder = OneHotEncoder()\n",
    "encoder.fit(text)\n",
    "\n",
    "one_hot = encoder.transform(text)\n",
    "\n",
    "\n",
    "print(one_hot.toarray())\n",
    "\n",
    "print('-'*30)\n",
    "\n",
    "print([i[3:]for i in encoder.get_feature_names()])"
   ]
  },
  {
   "cell_type": "code",
   "execution_count": 22,
   "id": "f6e6bc2d",
   "metadata": {},
   "outputs": [
    {
     "data": {
      "text/html": [
       "<div>\n",
       "<style scoped>\n",
       "    .dataframe tbody tr th:only-of-type {\n",
       "        vertical-align: middle;\n",
       "    }\n",
       "\n",
       "    .dataframe tbody tr th {\n",
       "        vertical-align: top;\n",
       "    }\n",
       "\n",
       "    .dataframe thead th {\n",
       "        text-align: right;\n",
       "    }\n",
       "</style>\n",
       "<table border=\"1\" class=\"dataframe\">\n",
       "  <thead>\n",
       "    <tr style=\"text-align: right;\">\n",
       "      <th></th>\n",
       "      <th>but</th>\n",
       "      <th>this</th>\n",
       "      <th>is</th>\n",
       "      <th>its</th>\n",
       "      <th>fine</th>\n",
       "      <th>good</th>\n",
       "    </tr>\n",
       "  </thead>\n",
       "  <tbody>\n",
       "    <tr>\n",
       "      <th>0</th>\n",
       "      <td>0.0</td>\n",
       "      <td>1.0</td>\n",
       "      <td>1.0</td>\n",
       "      <td>0.0</td>\n",
       "      <td>0.0</td>\n",
       "      <td>1.0</td>\n",
       "    </tr>\n",
       "    <tr>\n",
       "      <th>1</th>\n",
       "      <td>1.0</td>\n",
       "      <td>0.0</td>\n",
       "      <td>0.0</td>\n",
       "      <td>1.0</td>\n",
       "      <td>1.0</td>\n",
       "      <td>0.0</td>\n",
       "    </tr>\n",
       "  </tbody>\n",
       "</table>\n",
       "</div>"
      ],
      "text/plain": [
       "   but  this   is  its  fine  good\n",
       "0  0.0   1.0  1.0  0.0   0.0   1.0\n",
       "1  1.0   0.0  0.0  1.0   1.0   0.0"
      ]
     },
     "execution_count": 22,
     "metadata": {},
     "output_type": "execute_result"
    }
   ],
   "source": [
    "pd.DataFrame(one_hot.toarray(), columns = [i[3:]for i in encoder.get_feature_names()])"
   ]
  },
  {
   "cell_type": "code",
   "execution_count": null,
   "id": "6dc2093c",
   "metadata": {},
   "outputs": [],
   "source": []
  }
 ],
 "metadata": {
  "kernelspec": {
   "display_name": "Python 3 (ipykernel)",
   "language": "python",
   "name": "python3"
  },
  "language_info": {
   "codemirror_mode": {
    "name": "ipython",
    "version": 3
   },
   "file_extension": ".py",
   "mimetype": "text/x-python",
   "name": "python",
   "nbconvert_exporter": "python",
   "pygments_lexer": "ipython3",
   "version": "3.9.7"
  }
 },
 "nbformat": 4,
 "nbformat_minor": 5
}
