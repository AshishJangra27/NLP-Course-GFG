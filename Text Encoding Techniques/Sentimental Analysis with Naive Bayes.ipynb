{
 "cells": [
  {
   "cell_type": "markdown",
   "id": "19b41044",
   "metadata": {},
   "source": [
    "### 1. Importing Libraries"
   ]
  },
  {
   "cell_type": "code",
   "execution_count": 10,
   "id": "a9cd6daf",
   "metadata": {},
   "outputs": [],
   "source": [
    "import re\n",
    "import nltk\n",
    "import joblib\n",
    "import pickle\n",
    "import pandas as pd\n",
    "from tqdm import tqdm\n",
    "from nltk.corpus import stopwords\n",
    "from nltk.stem import PorterStemmer\n",
    "\n",
    "from sklearn.naive_bayes import MultinomialNB\n",
    "from sklearn.feature_extraction.text import TfidfVectorizer\n",
    "from sklearn.metrics import accuracy_score, confusion_matrix\n",
    "\n",
    "stemmer = PorterStemmer()"
   ]
  },
  {
   "cell_type": "markdown",
   "id": "26ef79bb",
   "metadata": {},
   "source": [
    "### 2. Defining Functions"
   ]
  },
  {
   "cell_type": "code",
   "execution_count": 3,
   "id": "5f13e906",
   "metadata": {},
   "outputs": [],
   "source": [
    "def loading_tweets(file_name):\n",
    "    df = pd.read_csv(file_name, header = None)\n",
    "    df = df.rename({0 : 'id', 1 : 'company', 2 : 'sentiment', 3 : 'raw_tweet'}, axis = 1)\n",
    "    df = df[df['sentiment'] != 'Irrelevant']\n",
    "    df = df[df['sentiment'] != 'Neutral']\n",
    "    df = df.dropna()\n",
    "    return df['raw_tweet'].values, df\n",
    "\n",
    "\n",
    "def preprocessing_tweets(tweets): \n",
    "    processed_tweets = []\n",
    "    for tweet in tqdm(tweets):\n",
    "        tweet = re.sub(r'[^a-zA-Z]',' ',tweet)    \n",
    "        tweet = tweet.lower()\n",
    "        tweet = [word for word in tweet.split(' ') if not word in stopwords.words('english')]\n",
    "        tweet = [stemmer.stem(word) for word in tweet]\n",
    "        tweet = [word for word in tweet if len(word) != 0]\n",
    "        tweet = ' '.join(tweet)\n",
    "        processed_tweets.append(tweet)\n",
    "    return tweets"
   ]
  },
  {
   "cell_type": "markdown",
   "id": "dbddadea",
   "metadata": {},
   "source": [
    "### 3. Prepairing Training Data"
   ]
  },
  {
   "cell_type": "code",
   "execution_count": 4,
   "id": "eb4d9eb3",
   "metadata": {},
   "outputs": [
    {
     "name": "stderr",
     "output_type": "stream",
     "text": [
      "100%|████████████████████████████████████| 43013/43013 [01:10<00:00, 607.35it/s]\n"
     ]
    }
   ],
   "source": [
    "train_tweets, df_train  = loading_tweets('tweets/twitter_training.csv')\n",
    "train_tweets            = preprocessing_tweets(train_tweets)\n",
    "\n",
    "tfidf = TfidfVectorizer()\n",
    "train_tweets = tfidf.fit_transform(train_tweets)\n",
    "\n",
    "x_train = train_tweets.toarray()\n",
    "y_train = pd.get_dummies(df_train['sentiment']).values[:,1:]"
   ]
  },
  {
   "cell_type": "markdown",
   "id": "1b5ac11e",
   "metadata": {},
   "source": [
    "### 4. Prepairing Testing Data"
   ]
  },
  {
   "cell_type": "code",
   "execution_count": 6,
   "id": "b5644cac",
   "metadata": {},
   "outputs": [
    {
     "name": "stderr",
     "output_type": "stream",
     "text": [
      "100%|████████████████████████████████████████| 543/543 [00:01<00:00, 537.51it/s]\n"
     ]
    }
   ],
   "source": [
    "test_tweets, df_test  = loading_tweets('tweets/twitter_validation.csv')\n",
    "test_tweets            = preprocessing_tweets(test_tweets)\n",
    "\n",
    "test_tweets = tfidf.transform(test_tweets)\n",
    "\n",
    "x_test = test_tweets.toarray()\n",
    "y_test = pd.get_dummies(df_test['sentiment']).values[:,1:]"
   ]
  },
  {
   "cell_type": "markdown",
   "id": "85f38e0d",
   "metadata": {},
   "source": [
    "### 5. Model Building / Training"
   ]
  },
  {
   "cell_type": "code",
   "execution_count": 11,
   "id": "67dd6752",
   "metadata": {},
   "outputs": [
    {
     "name": "stderr",
     "output_type": "stream",
     "text": [
      "/Users/ashishzangra/opt/anaconda3/lib/python3.9/site-packages/sklearn/utils/validation.py:63: DataConversionWarning: A column-vector y was passed when a 1d array was expected. Please change the shape of y to (n_samples, ), for example using ravel().\n",
      "  return f(*args, **kwargs)\n"
     ]
    },
    {
     "data": {
      "text/plain": [
       "MultinomialNB()"
      ]
     },
     "execution_count": 11,
     "metadata": {},
     "output_type": "execute_result"
    }
   ],
   "source": [
    "mdl = MultinomialNB()\n",
    "\n",
    "mdl.fit(x_train,y_train)"
   ]
  },
  {
   "cell_type": "markdown",
   "id": "5e6f6e78",
   "metadata": {},
   "source": [
    "### 6. Model Evaluation"
   ]
  },
  {
   "cell_type": "code",
   "execution_count": 19,
   "id": "67f90b0d",
   "metadata": {
    "scrolled": false
   },
   "outputs": [
    {
     "name": "stdout",
     "output_type": "stream",
     "text": [
      "Training Accuracy : 91.607\n",
      "Testing Accuracy  : 94.107\n"
     ]
    }
   ],
   "source": [
    "print('Training Accuracy :', round(accuracy_score(mdl.predict(x_train), y_train)*100,3))\n",
    "print('Testing Accuracy  :', round(accuracy_score(mdl.predict(x_test), y_test)*100,3))"
   ]
  },
  {
   "cell_type": "markdown",
   "id": "c7e634d2",
   "metadata": {},
   "source": [
    "### 7. Saving the Model & Encoder"
   ]
  },
  {
   "cell_type": "code",
   "execution_count": 11,
   "id": "033856f4",
   "metadata": {},
   "outputs": [
    {
     "data": {
      "text/plain": [
       "['tfidf_model.joblib']"
      ]
     },
     "execution_count": 11,
     "metadata": {},
     "output_type": "execute_result"
    }
   ],
   "source": [
    "joblib.dump(tfidf, 'tfidf_model.joblib')       # TF-IDF Encoder\n",
    "pickle.dump(mdl, open('model.mdl','wb'))       # Model\n",
    "\n",
    "print('Encoder is saved with name tfidf.joblib!')\n",
    "print('Model is saved with name model.mdl!')"
   ]
  }
 ],
 "metadata": {
  "kernelspec": {
   "display_name": "Python 3 (ipykernel)",
   "language": "python",
   "name": "python3"
  },
  "language_info": {
   "codemirror_mode": {
    "name": "ipython",
    "version": 3
   },
   "file_extension": ".py",
   "mimetype": "text/x-python",
   "name": "python",
   "nbconvert_exporter": "python",
   "pygments_lexer": "ipython3",
   "version": "3.9.7"
  }
 },
 "nbformat": 4,
 "nbformat_minor": 5
}
