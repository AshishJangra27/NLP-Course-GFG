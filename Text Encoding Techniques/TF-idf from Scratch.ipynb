{
 "cells": [
  {
   "cell_type": "markdown",
   "id": "a2c8fcbb",
   "metadata": {},
   "source": [
    "### 1. TF-IDF from Scratch"
   ]
  },
  {
   "cell_type": "code",
   "execution_count": 41,
   "id": "2c8e785e",
   "metadata": {
    "scrolled": false
   },
   "outputs": [
    {
     "data": {
      "text/html": [
       "<div>\n",
       "<style scoped>\n",
       "    .dataframe tbody tr th:only-of-type {\n",
       "        vertical-align: middle;\n",
       "    }\n",
       "\n",
       "    .dataframe tbody tr th {\n",
       "        vertical-align: top;\n",
       "    }\n",
       "\n",
       "    .dataframe thead th {\n",
       "        text-align: right;\n",
       "    }\n",
       "</style>\n",
       "<table border=\"1\" class=\"dataframe\">\n",
       "  <thead>\n",
       "    <tr style=\"text-align: right;\">\n",
       "      <th></th>\n",
       "      <th>movie</th>\n",
       "      <th>bad</th>\n",
       "      <th>good</th>\n",
       "      <th>full_sent</th>\n",
       "    </tr>\n",
       "  </thead>\n",
       "  <tbody>\n",
       "    <tr>\n",
       "      <th>0</th>\n",
       "      <td>0.0</td>\n",
       "      <td>0.000000</td>\n",
       "      <td>0.202733</td>\n",
       "      <td>good movie</td>\n",
       "    </tr>\n",
       "    <tr>\n",
       "      <th>1</th>\n",
       "      <td>0.0</td>\n",
       "      <td>0.202733</td>\n",
       "      <td>0.000000</td>\n",
       "      <td>bad movie</td>\n",
       "    </tr>\n",
       "    <tr>\n",
       "      <th>2</th>\n",
       "      <td>0.0</td>\n",
       "      <td>0.135155</td>\n",
       "      <td>0.135155</td>\n",
       "      <td>good bad movie</td>\n",
       "    </tr>\n",
       "  </tbody>\n",
       "</table>\n",
       "</div>"
      ],
      "text/plain": [
       "   movie       bad      good       full_sent\n",
       "0    0.0  0.000000  0.202733      good movie\n",
       "1    0.0  0.202733  0.000000       bad movie\n",
       "2    0.0  0.135155  0.135155  good bad movie"
      ]
     },
     "execution_count": 41,
     "metadata": {},
     "output_type": "execute_result"
    }
   ],
   "source": [
    "import numpy as np\n",
    "import pandas as pd\n",
    "\n",
    "text_data = [\"good movie\", \"bad movie\", \"good bad movie\"]\n",
    "\n",
    "# Sentences and Word Tokenization\n",
    "word_data = [sentence.split(' ') for sentence in text_data]\n",
    "\n",
    "# Finding the Vocab\n",
    "vocab = list(set([word for sentence in word_data for word in sentence]))\n",
    "\n",
    "# Finding Term Frequency\n",
    "tf_data = []\n",
    "for sentence in word_data:\n",
    "    tf_sentence = []\n",
    "    for word in vocab:\n",
    "        tf_sentence.append(sentence.count(word)/len(sentence))\n",
    "    tf_data.append(tf_sentence)\n",
    "    \n",
    "# Finding Inverse Document Frequency\n",
    "n_documents = len(text_data)\n",
    "idf_data = []\n",
    "\n",
    "for word in vocab:  \n",
    "    n_appearances = 0\n",
    "    for sentence in word_data:\n",
    "        if word in sentence:\n",
    "            n_appearances += 1\n",
    "\n",
    "    idf = np.log(n_documents/n_appearances)\n",
    "    idf_data.append(idf)  \n",
    "\n",
    "    \n",
    "# Finding TF-IDF for each sentence\n",
    "tfidf_data = []\n",
    "for tf_sentence in tf_data:\n",
    "    tfidf_sentence = []\n",
    "    for tf, idf in zip(tf_sentence, idf_data):\n",
    "        tfidf_sentence.append(tf*idf)\n",
    "    tfidf_data.append(tfidf_sentence)\n",
    "    \n",
    "df = pd.DataFrame(tfidf_data, columns = vocab)\n",
    "df['full_sent'] = text_data\n",
    "\n",
    "df"
   ]
  },
  {
   "cell_type": "markdown",
   "id": "16eb5e3a",
   "metadata": {},
   "source": [
    "### 2. TF-IDF with Sklearn"
   ]
  },
  {
   "cell_type": "code",
   "execution_count": 45,
   "id": "af112110",
   "metadata": {},
   "outputs": [
    {
     "data": {
      "text/html": [
       "<div>\n",
       "<style scoped>\n",
       "    .dataframe tbody tr th:only-of-type {\n",
       "        vertical-align: middle;\n",
       "    }\n",
       "\n",
       "    .dataframe tbody tr th {\n",
       "        vertical-align: top;\n",
       "    }\n",
       "\n",
       "    .dataframe thead th {\n",
       "        text-align: right;\n",
       "    }\n",
       "</style>\n",
       "<table border=\"1\" class=\"dataframe\">\n",
       "  <thead>\n",
       "    <tr style=\"text-align: right;\">\n",
       "      <th></th>\n",
       "      <th>bad</th>\n",
       "      <th>good</th>\n",
       "      <th>movie</th>\n",
       "      <th>full_sent</th>\n",
       "    </tr>\n",
       "  </thead>\n",
       "  <tbody>\n",
       "    <tr>\n",
       "      <th>0</th>\n",
       "      <td>0.000000</td>\n",
       "      <td>0.789807</td>\n",
       "      <td>0.613356</td>\n",
       "      <td>good movie</td>\n",
       "    </tr>\n",
       "    <tr>\n",
       "      <th>1</th>\n",
       "      <td>0.789807</td>\n",
       "      <td>0.000000</td>\n",
       "      <td>0.613356</td>\n",
       "      <td>bad movie</td>\n",
       "    </tr>\n",
       "    <tr>\n",
       "      <th>2</th>\n",
       "      <td>0.619805</td>\n",
       "      <td>0.619805</td>\n",
       "      <td>0.481334</td>\n",
       "      <td>good bad movie</td>\n",
       "    </tr>\n",
       "  </tbody>\n",
       "</table>\n",
       "</div>"
      ],
      "text/plain": [
       "        bad      good     movie       full_sent\n",
       "0  0.000000  0.789807  0.613356      good movie\n",
       "1  0.789807  0.000000  0.613356       bad movie\n",
       "2  0.619805  0.619805  0.481334  good bad movie"
      ]
     },
     "execution_count": 45,
     "metadata": {},
     "output_type": "execute_result"
    }
   ],
   "source": [
    "from sklearn.feature_extraction.text import TfidfVectorizer\n",
    "\n",
    "text_data = [\"good movie\", \"bad movie\", \"good bad movie\"]\n",
    "\n",
    "vec = TfidfVectorizer()\n",
    "vec.fit(text_data)\n",
    "\n",
    "df = pd.DataFrame(vec.transform(text_data).toarray(), columns = vec.get_feature_names())\n",
    "df['full_sent'] = text_data\n",
    "\n",
    "df"
   ]
  },
  {
   "cell_type": "code",
   "execution_count": 44,
   "id": "6e1832d9",
   "metadata": {},
   "outputs": [
    {
     "data": {
      "text/plain": [
       "['bad', 'good', 'movie']"
      ]
     },
     "execution_count": 44,
     "metadata": {},
     "output_type": "execute_result"
    }
   ],
   "source": [
    "vec.get_feature_names()"
   ]
  }
 ],
 "metadata": {
  "kernelspec": {
   "display_name": "Python 3 (ipykernel)",
   "language": "python",
   "name": "python3"
  },
  "language_info": {
   "codemirror_mode": {
    "name": "ipython",
    "version": 3
   },
   "file_extension": ".py",
   "mimetype": "text/x-python",
   "name": "python",
   "nbconvert_exporter": "python",
   "pygments_lexer": "ipython3",
   "version": "3.9.7"
  }
 },
 "nbformat": 4,
 "nbformat_minor": 5
}
