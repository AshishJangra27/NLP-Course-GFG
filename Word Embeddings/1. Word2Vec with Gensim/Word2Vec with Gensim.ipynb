{
  "nbformat": 4,
  "nbformat_minor": 0,
  "metadata": {
    "colab": {
      "provenance": []
    },
    "kernelspec": {
      "name": "python3",
      "display_name": "Python 3"
    },
    "language_info": {
      "name": "python"
    }
  },
  "cells": [
    {
      "cell_type": "markdown",
      "source": [
        "### Importing the Libraries"
      ],
      "metadata": {
        "id": "WG5JdeeifmWV"
      }
    },
    {
      "cell_type": "code",
      "source": [
        "from gensim.models import Word2Vec"
      ],
      "metadata": {
        "id": "KBoFguwadhQd"
      },
      "execution_count": 3,
      "outputs": []
    },
    {
      "cell_type": "markdown",
      "source": [
        "### Loading the Corpus"
      ],
      "metadata": {
        "id": "8HMIuAZmfsaR"
      }
    },
    {
      "cell_type": "code",
      "execution_count": 23,
      "metadata": {
        "id": "qqsQfzirHG4E"
      },
      "outputs": [],
      "source": [
        "sentences = [['human', 'interface', 'computer'],\n",
        "            ['survey', 'user', 'computer', 'system', 'response', 'time'],\n",
        "            ['eps', 'user', 'interface', 'system'],\n",
        "            ['system', 'human', 'system', 'eps'],\n",
        "            ['user', 'response', 'time'],\n",
        "            ['trees'],\n",
        "            ['graph', 'trees'],\n",
        "            ['graph', 'minors', 'trees'],\n",
        "            ['graph', 'minors', 'survey']]"
      ]
    },
    {
      "cell_type": "markdown",
      "source": [
        "### Training the Word2Vec"
      ],
      "metadata": {
        "id": "65T3DEqPfw_Q"
      }
    },
    {
      "cell_type": "code",
      "source": [
        "model = Word2Vec(sentences = sentences, min_count = 1, vector_size = 10)"
      ],
      "metadata": {
        "id": "xeX6SAT5fyLM"
      },
      "execution_count": 24,
      "outputs": []
    },
    {
      "cell_type": "code",
      "source": [
        "print(model.wv['trees'])"
      ],
      "metadata": {
        "colab": {
          "base_uri": "https://localhost:8080/"
        },
        "id": "9y_By2Prd3UM",
        "outputId": "e72cbc38-3718-483f-f705-35f091954af9"
      },
      "execution_count": 25,
      "outputs": [
        {
          "output_type": "stream",
          "name": "stdout",
          "text": [
            "[ 0.07311766  0.05070262  0.06757693  0.00762866  0.06350891 -0.03405366\n",
            " -0.00946401  0.05768573 -0.07521638 -0.03936104]\n"
          ]
        }
      ]
    },
    {
      "cell_type": "code",
      "source": [
        "model.wv.similarity('human','computer')"
      ],
      "metadata": {
        "colab": {
          "base_uri": "https://localhost:8080/"
        },
        "id": "grVwiDKwd4Dt",
        "outputId": "08e6b778-e1aa-4e73-9d74-90ab80d409e8"
      },
      "execution_count": 11,
      "outputs": [
        {
          "output_type": "execute_result",
          "data": {
            "text/plain": [
              "-0.0742427"
            ]
          },
          "metadata": {},
          "execution_count": 11
        }
      ]
    },
    {
      "cell_type": "code",
      "source": [
        "model.wv.most_similar('computer', topn = 10)"
      ],
      "metadata": {
        "colab": {
          "base_uri": "https://localhost:8080/"
        },
        "id": "JZgg80hTeRwt",
        "outputId": "88d28ac6-c377-4c07-de03-d55e83e2a788"
      },
      "execution_count": 12,
      "outputs": [
        {
          "output_type": "execute_result",
          "data": {
            "text/plain": [
              "[('system', 0.21617139875888824),\n",
              " ('survey', 0.04468922317028046),\n",
              " ('interface', 0.015203381888568401),\n",
              " ('time', 0.0019510635174810886),\n",
              " ('trees', -0.03284316882491112),\n",
              " ('human', -0.07424270361661911),\n",
              " ('response', -0.09317591041326523),\n",
              " ('graph', -0.09575342386960983),\n",
              " ('eps', -0.10513808578252792),\n",
              " ('user', -0.16911619901657104)]"
            ]
          },
          "metadata": {},
          "execution_count": 12
        }
      ]
    }
  ]
}