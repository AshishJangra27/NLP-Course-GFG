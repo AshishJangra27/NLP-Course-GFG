{
  "nbformat": 4,
  "nbformat_minor": 0,
  "metadata": {
    "colab": {
      "provenance": []
    },
    "kernelspec": {
      "name": "python3",
      "display_name": "Python 3"
    },
    "language_info": {
      "name": "python"
    }
  },
  "cells": [
    {
      "cell_type": "code",
      "source": [
        "import zipfile\n",
        "import urllib.request\n",
        "\n",
        "# 'https://nlp.stanford.edu/data/glove.840B.300d.zip'   - Common Crawl\n",
        "# 'https://nlp.stanford.edu/data/glove.twitter.27B.zip' - Twitter\n",
        "# 'http://nlp.stanford.edu/data/glove.6B.zip'           - Wikipedia\n",
        "\n",
        "urllib.request.urlretrieve(\"http://nlp.stanford.edu/data/glove.6B.zip\", \"glove.zip\")"
      ],
      "metadata": {
        "id": "b5Z_hqpWPFey"
      },
      "execution_count": null,
      "outputs": []
    },
    {
      "cell_type": "code",
      "source": [
        "with zipfile.ZipFile('/content/glove.zip', 'r') as zip_ref:\n",
        "    zip_ref.extractall('/content/glove')"
      ],
      "metadata": {
        "id": "02-U3B8kPGNC"
      },
      "execution_count": null,
      "outputs": []
    },
    {
      "cell_type": "code",
      "execution_count": null,
      "metadata": {
        "id": "mIZTkDt8OkRO"
      },
      "outputs": [],
      "source": [
        "from gensim.scripts.glove2word2vec import glove2word2vec\n",
        "\n",
        "glove_input_file = 'glove/glove.6B.300d.txt'\n",
        "word2vec_output_file = 'glove.6B.300d.txt'\n",
        "\n",
        "glove2word2vec(glove_input_file, word2vec_output_file)"
      ]
    },
    {
      "cell_type": "code",
      "source": [
        "from gensim.models import KeyedVectors\n",
        "\n",
        "filename = 'glove.6B.300d.txt'\n",
        "model = KeyedVectors.load_word2vec_format(filename, binary=False)"
      ],
      "metadata": {
        "id": "BqGLkZDIOqQe"
      },
      "execution_count": null,
      "outputs": []
    },
    {
      "cell_type": "code",
      "source": [
        "model.most_similar('india')"
      ],
      "metadata": {
        "id": "HFLMDiMoRUFN",
        "colab": {
          "base_uri": "https://localhost:8080/"
        },
        "outputId": "2078cf55-11ec-4ceb-87d8-462d8e64292c"
      },
      "execution_count": null,
      "outputs": [
        {
          "output_type": "execute_result",
          "data": {
            "text/plain": [
              "[('indian', 0.7355823516845703),\n",
              " ('pakistan', 0.7285579442977905),\n",
              " ('delhi', 0.6846906542778015),\n",
              " ('bangladesh', 0.6203192472457886),\n",
              " ('lanka', 0.6095174551010132),\n",
              " ('sri', 0.6011614203453064),\n",
              " ('kashmir', 0.5746493935585022),\n",
              " ('nepal', 0.5421023964881897),\n",
              " ('pradesh', 0.5405810475349426),\n",
              " ('maharashtra', 0.518537700176239)]"
            ]
          },
          "metadata": {},
          "execution_count": 8
        }
      ]
    },
    {
      "cell_type": "code",
      "source": [
        "model.most_similar('istanbul')"
      ],
      "metadata": {
        "colab": {
          "base_uri": "https://localhost:8080/"
        },
        "id": "Pej3iW-TdV_V",
        "outputId": "c8f523c7-ced0-4d45-c769-69009734f463"
      },
      "execution_count": null,
      "outputs": [
        {
          "output_type": "execute_result",
          "data": {
            "text/plain": [
              "[('ankara', 0.6357327699661255),\n",
              " ('turkey', 0.5754696726799011),\n",
              " ('turkish', 0.5577521920204163),\n",
              " ('izmir', 0.554347038269043),\n",
              " ('cairo', 0.5136358141899109),\n",
              " ('athens', 0.5090646147727966),\n",
              " ('anatolia', 0.500419020652771),\n",
              " ('budapest', 0.4991972744464874),\n",
              " ('aviv', 0.49124738574028015),\n",
              " ('stockholm', 0.4763128459453583)]"
            ]
          },
          "metadata": {},
          "execution_count": 9
        }
      ]
    },
    {
      "cell_type": "code",
      "source": [
        "model.most_similar(positive = ['women' , 'king'], negative = ['man'], topn = 1)"
      ],
      "metadata": {
        "colab": {
          "base_uri": "https://localhost:8080/"
        },
        "id": "RGiZmJ6rgTjh",
        "outputId": "0ac10f9b-de97-4401-ffd4-f5ea7f44ba38"
      },
      "execution_count": null,
      "outputs": [
        {
          "output_type": "execute_result",
          "data": {
            "text/plain": [
              "[('queen', 0.484937459230423)]"
            ]
          },
          "metadata": {},
          "execution_count": 13
        }
      ]
    }
  ]
}