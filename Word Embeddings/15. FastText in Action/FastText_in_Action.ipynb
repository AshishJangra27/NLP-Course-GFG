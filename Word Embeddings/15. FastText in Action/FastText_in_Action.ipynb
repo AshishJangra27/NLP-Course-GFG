{
  "nbformat": 4,
  "nbformat_minor": 0,
  "metadata": {
    "colab": {
      "provenance": []
    },
    "kernelspec": {
      "name": "python3",
      "display_name": "Python 3"
    },
    "language_info": {
      "name": "python"
    }
  },
  "cells": [
    {
      "cell_type": "code",
      "source": [
        "!pip install fasttext"
      ],
      "metadata": {
        "colab": {
          "base_uri": "https://localhost:8080/"
        },
        "id": "hpMgf1TR2q1X",
        "outputId": "ee43b0c8-1f37-418c-d368-f804f8b9bba7"
      },
      "execution_count": null,
      "outputs": [
        {
          "output_type": "stream",
          "name": "stdout",
          "text": [
            "Collecting fasttext\n",
            "  Downloading fasttext-0.9.2.tar.gz (68 kB)\n",
            "\u001b[?25l     \u001b[90m━━━━━━━━━━━━━━━━━━━━━━━━━━━━━━━━━━━━━━━━\u001b[0m \u001b[32m0.0/68.8 kB\u001b[0m \u001b[31m?\u001b[0m eta \u001b[36m-:--:--\u001b[0m\r\u001b[2K     \u001b[90m━━━━━━━━━━━━━━━━━━━━━━━━━━━━━━━━━━━━━━━━\u001b[0m \u001b[32m68.8/68.8 kB\u001b[0m \u001b[31m3.5 MB/s\u001b[0m eta \u001b[36m0:00:00\u001b[0m\n",
            "\u001b[?25h  Preparing metadata (setup.py) ... \u001b[?25l\u001b[?25hdone\n",
            "Collecting pybind11>=2.2 (from fasttext)\n",
            "  Using cached pybind11-2.10.4-py3-none-any.whl (222 kB)\n",
            "Requirement already satisfied: setuptools>=0.7.0 in /usr/local/lib/python3.10/dist-packages (from fasttext) (67.7.2)\n",
            "Requirement already satisfied: numpy in /usr/local/lib/python3.10/dist-packages (from fasttext) (1.22.4)\n",
            "Building wheels for collected packages: fasttext\n",
            "  Building wheel for fasttext (setup.py) ... \u001b[?25l\u001b[?25hdone\n",
            "  Created wheel for fasttext: filename=fasttext-0.9.2-cp310-cp310-linux_x86_64.whl size=4393142 sha256=0f28f33248b811c8e9a7181f3da2b13f69308b7cfc68489af0fa8e4163cf4115\n",
            "  Stored in directory: /root/.cache/pip/wheels/a5/13/75/f811c84a8ab36eedbaef977a6a58a98990e8e0f1967f98f394\n",
            "Successfully built fasttext\n",
            "Installing collected packages: pybind11, fasttext\n",
            "Successfully installed fasttext-0.9.2 pybind11-2.10.4\n"
          ]
        }
      ]
    },
    {
      "cell_type": "markdown",
      "source": [
        "### 1. Using Pretrained Models"
      ],
      "metadata": {
        "id": "q8qJhAYFyUTb"
      }
    },
    {
      "cell_type": "code",
      "source": [
        "import fasttext\n",
        "import urllib.request\n",
        "\n",
        "link_en = 'https://dl.fbaipublicfiles.com/fasttext/vectors-crawl/cc.en.300.bin.gz'\n",
        "urllib.request.urlretrieve(link_en, \"en.gz\")\n",
        "\n",
        "!gunzip en.gz\n",
        "\n",
        "model_en = fasttext.load_model('en')"
      ],
      "metadata": {
        "id": "YlKWR9tDyQOv"
      },
      "execution_count": null,
      "outputs": []
    },
    {
      "cell_type": "code",
      "source": [
        "model_en.get_nearest_neighbors('Kejriwal')"
      ],
      "metadata": {
        "colab": {
          "base_uri": "https://localhost:8080/"
        },
        "id": "KmB8YA795OYW",
        "outputId": "c9910669-5152-42b1-dc86-0aec71dae288"
      },
      "execution_count": null,
      "outputs": [
        {
          "output_type": "execute_result",
          "data": {
            "text/plain": [
              "[(0.7143698930740356, 'Kejriwal-led'),\n",
              " (0.6894689798355103, 'Modi'),\n",
              " (0.6882308125495911, 'Kejri'),\n",
              " (0.6836877465248108, 'kejriwal'),\n",
              " (0.6695126891136169, 'BJP'),\n",
              " (0.6644313335418701, 'Akhilesh'),\n",
              " (0.6548251509666443, 'Jaitley'),\n",
              " (0.6508567333221436, 'ArvindKejriwal'),\n",
              " (0.6419541835784912, 'Modiji'),\n",
              " (0.632680356502533, 'Mayawati')]"
            ]
          },
          "metadata": {},
          "execution_count": 13
        }
      ]
    },
    {
      "cell_type": "markdown",
      "source": [
        "### 2. Training Model for Word Vectors"
      ],
      "metadata": {
        "id": "25AIzMmmmDNH"
      }
    },
    {
      "cell_type": "code",
      "source": [
        "!git clone https://github.com/AshishJangra27/datasets"
      ],
      "metadata": {
        "id": "VLSZEHMdckqy"
      },
      "execution_count": null,
      "outputs": []
    },
    {
      "cell_type": "code",
      "source": [
        "model = fasttext.train_unsupervised(input = 'datasets/Sherlock/script.txt', model = 'cbow')"
      ],
      "metadata": {
        "id": "YbZ_LJj36f3A"
      },
      "execution_count": null,
      "outputs": []
    },
    {
      "cell_type": "code",
      "source": [
        "model.get_nearest_neighbors('head')\n",
        "\n",
        "model.save_model('sherlock_cbow.bin')"
      ],
      "metadata": {
        "id": "koPhbJji6f7r"
      },
      "execution_count": null,
      "outputs": []
    },
    {
      "cell_type": "markdown",
      "source": [
        "### 3. Classification"
      ],
      "metadata": {
        "id": "3fRy4n11mBbQ"
      }
    },
    {
      "cell_type": "code",
      "source": [
        "model = fasttext.train_supervised('/content/datasets/Cooking Labels/cooking.txt')"
      ],
      "metadata": {
        "id": "yv2UaBcSkFRw"
      },
      "execution_count": null,
      "outputs": []
    },
    {
      "cell_type": "code",
      "source": [
        "model.predict('Which baking dish is best to bake a banan bread?', k = 5)"
      ],
      "metadata": {
        "colab": {
          "base_uri": "https://localhost:8080/"
        },
        "id": "-tRs9tuH7jAS",
        "outputId": "9b64838d-fdfa-4ed1-8632-667c1b789bc6"
      },
      "execution_count": null,
      "outputs": [
        {
          "output_type": "execute_result",
          "data": {
            "text/plain": [
              "(('__label__baking',\n",
              "  '__label__bread',\n",
              "  '__label__equipment',\n",
              "  '__label__substitutions',\n",
              "  '__label__food-safety'),\n",
              " array([0.11881682, 0.0831695 , 0.03469961, 0.03039636, 0.02547988]))"
            ]
          },
          "metadata": {},
          "execution_count": 25
        }
      ]
    },
    {
      "cell_type": "code",
      "source": [
        "model.predict('How to heat up already baked french bread in oven to get a crispy crust', k = 5)"
      ],
      "metadata": {
        "colab": {
          "base_uri": "https://localhost:8080/"
        },
        "id": "EKM66mJj8Qi_",
        "outputId": "d13c6f1c-3cac-4349-af21-c5ca0ddfef5e"
      },
      "execution_count": null,
      "outputs": [
        {
          "output_type": "execute_result",
          "data": {
            "text/plain": [
              "(('__label__baking',\n",
              "  '__label__bread',\n",
              "  '__label__equipment',\n",
              "  '__label__food-safety',\n",
              "  '__label__substitutions'),\n",
              " array([0.07358671, 0.06571094, 0.02390938, 0.02058025, 0.01855015]))"
            ]
          },
          "metadata": {},
          "execution_count": 26
        }
      ]
    }
  ]
}