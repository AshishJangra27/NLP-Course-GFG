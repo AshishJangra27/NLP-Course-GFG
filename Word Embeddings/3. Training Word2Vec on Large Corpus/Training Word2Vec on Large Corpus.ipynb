{
 "cells": [
  {
   "cell_type": "markdown",
   "metadata": {
    "id": "WG5JdeeifmWV"
   },
   "source": [
    "### Importing the Libraries"
   ]
  },
  {
   "cell_type": "code",
   "execution_count": 13,
   "metadata": {
    "id": "KBoFguwadhQd"
   },
   "outputs": [],
   "source": [
    "import gensim.downloader as api\n",
    "from gensim.models import Word2Vec"
   ]
  },
  {
   "cell_type": "markdown",
   "metadata": {
    "id": "8HMIuAZmfsaR"
   },
   "source": [
    "### Loading the Corpus"
   ]
  },
  {
   "cell_type": "code",
   "execution_count": null,
   "metadata": {
    "colab": {
     "base_uri": "https://localhost:8080/"
    },
    "id": "qqsQfzirHG4E",
    "outputId": "920e01e0-5c1f-4a24-d216-fce2c3bfa233"
   },
   "outputs": [
    {
     "name": "stdout",
     "output_type": "stream",
     "text": [
      "Corpus Size :  17003507\n",
      "Vocab Size  :  255310\n"
     ]
    }
   ],
   "source": [
    "# print(api.info()['corpora'])\n",
    "\n",
    "corpus = api.load('text8')\n",
    "corpus = [word  for word in corpus]\n",
    "\n",
    "corpora = ''\n",
    "for corp in corpus:\n",
    "  corpora += ' '.join(corp)\n",
    "\n",
    "print('Corpus Size : ' , len(corpora.split(' ')))\n",
    "print('Vocab Size  : ' , len(set(corpora.split(' '))))\n",
    "\n",
    "del corpora\n",
    "\n",
    "model = Word2Vec( corpus, min_count = 5, vector_size = 300, window = 3, sg = 0, epochs = 5)"
   ]
  },
  {
   "cell_type": "code",
   "execution_count": 11,
   "metadata": {
    "colab": {
     "base_uri": "https://localhost:8080/"
    },
    "id": "zdy_oonAVawa",
    "outputId": "b22d1467-407c-44aa-ab87-9f3af430713f"
   },
   "outputs": [
    {
     "data": {
      "text/plain": [
       "[('was', 0.5958107113838196),\n",
       " ('after', 0.5701113343238831),\n",
       " ('during', 0.4938052296638489),\n",
       " ('at', 0.4589042663574219),\n",
       " ('war', 0.4056222140789032),\n",
       " ('nine', 0.40358439087867737),\n",
       " ('in', 0.3857666254043579),\n",
       " ('his', 0.37377694249153137),\n",
       " ('he', 0.3612291216850281),\n",
       " ('eight', 0.3557758629322052)]"
      ]
     },
     "execution_count": 11,
     "metadata": {},
     "output_type": "execute_result"
    }
   ],
   "source": [
    "model.wv.most_similar('first', topn = 10)"
   ]
  },
  {
   "cell_type": "code",
   "execution_count": 12,
   "metadata": {
    "colab": {
     "base_uri": "https://localhost:8080/"
    },
    "id": "vjzBHjp-nWEv",
    "outputId": "b4e23a0c-6e81-44a5-edc3-abad5d0fa03c"
   },
   "outputs": [
    {
     "data": {
      "text/plain": [
       "92"
      ]
     },
     "execution_count": 12,
     "metadata": {},
     "output_type": "execute_result"
    }
   ],
   "source": [
    "len(model.wv.index_to_key)"
   ]
  }
 ],
 "metadata": {
  "colab": {
   "provenance": []
  },
  "kernelspec": {
   "display_name": "Python 3 (ipykernel)",
   "language": "python",
   "name": "python3"
  },
  "language_info": {
   "codemirror_mode": {
    "name": "ipython",
    "version": 3
   },
   "file_extension": ".py",
   "mimetype": "text/x-python",
   "name": "python",
   "nbconvert_exporter": "python",
   "pygments_lexer": "ipython3",
   "version": "3.9.16"
  }
 },
 "nbformat": 4,
 "nbformat_minor": 1
}
