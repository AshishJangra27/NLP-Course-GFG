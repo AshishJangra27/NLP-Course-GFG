{
 "cells": [
  {
   "cell_type": "markdown",
   "metadata": {
    "id": "WG5JdeeifmWV"
   },
   "source": [
    "### Importing the Libraries"
   ]
  },
  {
   "cell_type": "code",
   "execution_count": 13,
   "metadata": {
    "id": "KBoFguwadhQd"
   },
   "outputs": [],
   "source": [
    "import gensim.downloader as api\n",
    "from gensim.models import Word2Vec"
   ]
  },
  {
   "cell_type": "markdown",
   "metadata": {
    "id": "8HMIuAZmfsaR"
   },
   "source": [
    "### Loading the Corpus"
   ]
  },
  {
   "cell_type": "code",
   "execution_count": 14,
   "metadata": {
    "colab": {
     "base_uri": "https://localhost:8080/"
    },
    "id": "qqsQfzirHG4E",
    "outputId": "920e01e0-5c1f-4a24-d216-fce2c3bfa233"
   },
   "outputs": [
    {
     "name": "stdout",
     "output_type": "stream",
     "text": [
      "Corpus Size :  17003507\n",
      "Vocab Size  :  255310\n"
     ]
    }
   ],
   "source": [
    "# print(api.info()['corpora'])\n",
    "\n",
    "corpus = api.load('text8')\n",
    "corpus = [word  for word in corpus]\n",
    "\n",
    "corpora = ''\n",
    "for corp in corpus:\n",
    "  corpora += ' '.join(corp)\n",
    "\n",
    "print('Corpus Size : ' , len(corpora.split(' ')))\n",
    "print('Vocab Size  : ' , len(set(corpora.split(' '))))\n",
    "\n",
    "del corpora\n",
    "\n",
    "model = Word2Vec( corpus, min_count = 5, vector_size = 300, window = 3, sg = 0, epochs = 5)"
   ]
  },
  {
   "cell_type": "code",
   "execution_count": 21,
   "metadata": {
    "colab": {
     "base_uri": "https://localhost:8080/"
    },
    "id": "zdy_oonAVawa",
    "outputId": "44a1a2f8-b150-400b-dc04-64ddd4b33cd6"
   },
   "outputs": [
    {
     "data": {
      "text/plain": [
       "[('second', 0.5931824445724487),\n",
       " ('last', 0.5844214558601379),\n",
       " ('fourth', 0.5364982485771179)]"
      ]
     },
     "execution_count": 21,
     "metadata": {},
     "output_type": "execute_result"
    }
   ],
   "source": [
    "model.wv.most_similar('first', topn = 3)"
   ]
  },
  {
   "cell_type": "code",
   "execution_count": 22,
   "metadata": {
    "colab": {
     "base_uri": "https://localhost:8080/"
    },
    "id": "to9JNb0TXing",
    "outputId": "9726e3b3-9aa2-49a1-a6bd-c4f7695f0ddf"
   },
   "outputs": [
    {
     "data": {
      "text/plain": [
       "[('driver', 0.7429171204566956),\n",
       " ('cars', 0.7020552158355713),\n",
       " ('taxi', 0.6802543997764587)]"
      ]
     },
     "execution_count": 22,
     "metadata": {},
     "output_type": "execute_result"
    }
   ],
   "source": [
    "model.wv.most_similar('car', topn = 3)"
   ]
  },
  {
   "cell_type": "code",
   "execution_count": 26,
   "metadata": {
    "colab": {
     "base_uri": "https://localhost:8080/"
    },
    "id": "vjzBHjp-nWEv",
    "outputId": "b22f58a7-fa8c-4fcc-f5fb-077e10fb4eb5"
   },
   "outputs": [
    {
     "data": {
      "text/plain": [
       "[('pakistan', 0.7343160510063171),\n",
       " ('china', 0.6762831807136536),\n",
       " ('afghanistan', 0.6713179349899292),\n",
       " ('bangladesh', 0.6680248379707336),\n",
       " ('indonesia', 0.6525698304176331),\n",
       " ('libya', 0.6510310173034668),\n",
       " ('mozambique', 0.6304997205734253),\n",
       " ('algeria', 0.6253728866577148),\n",
       " ('malaysia', 0.622126042842865),\n",
       " ('kazakhstan', 0.6175643801689148)]"
      ]
     },
     "execution_count": 26,
     "metadata": {},
     "output_type": "execute_result"
    }
   ],
   "source": [
    "model.wv.most_similar('india', topn = 10)"
   ]
  },
  {
   "cell_type": "code",
   "execution_count": 28,
   "metadata": {
    "colab": {
     "base_uri": "https://localhost:8080/"
    },
    "id": "6MJS4nsFnWJq",
    "outputId": "50aae718-dc84-4afb-998c-ee9496aa8b04"
   },
   "outputs": [
    {
     "data": {
      "text/plain": [
       "[('auckland', 0.8499209880828857),\n",
       " ('karachi', 0.839468240737915),\n",
       " ('bombay', 0.7964386940002441),\n",
       " ('adelaide', 0.7937453985214233),\n",
       " ('calgary', 0.7819516658782959),\n",
       " ('guangzhou', 0.7760557532310486),\n",
       " ('tallinn', 0.7760383486747742),\n",
       " ('beijing', 0.7722439169883728),\n",
       " ('jakarta', 0.7719029784202576),\n",
       " ('helsinki', 0.7695043683052063)]"
      ]
     },
     "execution_count": 28,
     "metadata": {},
     "output_type": "execute_result"
    }
   ],
   "source": [
    "model.wv.most_similar('mumbai', topn = 10)"
   ]
  },
  {
   "cell_type": "code",
   "execution_count": 29,
   "metadata": {
    "colab": {
     "base_uri": "https://localhost:8080/"
    },
    "id": "BzqFupvYnWMd",
    "outputId": "397274ee-aef8-4617-ddc2-08aa53cee644"
   },
   "outputs": [
    {
     "data": {
      "text/plain": [
       "array([-0.6099338 , -1.0951722 , -0.29637158,  0.06927809,  0.26465872,\n",
       "        0.761253  , -1.0032071 , -0.62562114, -0.15420473,  0.2776427 ,\n",
       "        0.21184057, -0.35127592, -0.18513991,  0.30071357, -0.5281661 ,\n",
       "       -0.39668512, -0.31599268,  0.9421571 ,  0.21647628,  0.05023568,\n",
       "       -0.24754553,  0.73932683, -0.9370504 , -1.0208877 ,  0.2793602 ,\n",
       "       -0.44503954, -0.9870596 , -0.21054779,  0.5635906 ,  0.51027656,\n",
       "       -0.5376704 , -0.3043076 ,  1.4922374 ,  0.49501523,  0.39594224,\n",
       "       -0.22134171,  0.8079378 , -0.8364389 ,  0.45912707, -0.06831843,\n",
       "        0.9258148 , -0.44407618, -0.31946406, -0.43652067, -0.72581786,\n",
       "        1.4496322 , -0.25352898,  0.10484327, -0.07756454,  0.48524466,\n",
       "        0.34040436,  1.217784  , -0.84243536,  0.05676153,  1.1863045 ,\n",
       "        0.3462797 , -0.18688056, -0.01386483, -0.40263692,  1.3518047 ,\n",
       "       -0.60584146,  0.5052997 , -0.44604948,  1.2749511 , -0.39202726,\n",
       "       -0.08864537,  1.1399453 ,  0.22258009, -0.487822  ,  0.85501945,\n",
       "       -0.29051748, -0.80740976,  0.51322526,  0.3581054 ,  0.68487525,\n",
       "        0.40320158, -0.56501764,  0.6500305 ,  0.4304175 , -0.778536  ,\n",
       "       -0.5053288 , -0.09694875,  0.9032962 ,  1.414198  ,  0.286087  ,\n",
       "       -0.50271255, -0.4934348 , -0.3189651 , -0.0397453 ,  0.14095187,\n",
       "        0.6160314 ,  0.9061789 ,  0.77854156,  1.0175214 ,  0.0639741 ,\n",
       "       -0.9315063 , -0.42512178,  0.2554096 , -0.41301742,  0.17019273,\n",
       "        0.31459355,  1.0797762 , -0.56799537,  0.33637938, -0.13554753,\n",
       "       -0.40864515,  0.14089796,  0.7365796 ,  0.01959955, -0.7983303 ,\n",
       "        0.8249219 , -0.48150298,  0.2100964 , -0.15167971,  0.34887284,\n",
       "        0.4201626 , -0.9543192 , -1.6931615 , -0.30167684, -0.40348437,\n",
       "        0.6849158 ,  0.69450307, -1.4153074 ,  0.10931766, -0.34000173,\n",
       "       -0.01070808, -0.27740845, -0.22794539,  0.4998081 ,  0.5130512 ,\n",
       "       -0.43301764,  0.21952617, -0.67956305,  0.08867093, -0.12081232,\n",
       "       -0.01442552, -0.22825032,  0.20532116,  0.07674903,  0.12225987,\n",
       "        0.46960956,  0.46120828, -0.36830264, -0.07110956, -0.6830612 ,\n",
       "       -0.5980365 , -1.4629253 ,  0.34518462,  0.9365563 ,  0.54530036,\n",
       "        0.18916221, -0.75831676, -0.2355763 ,  0.79356813,  0.28229636,\n",
       "        1.1284857 ,  0.20465952, -1.0705572 ,  0.6922421 ,  0.6746276 ,\n",
       "       -0.21401416,  1.3338525 , -0.6366853 , -0.40814048, -0.02585948,\n",
       "        1.0340397 ,  0.81159383, -0.00409485, -0.38148093, -0.23274943,\n",
       "       -0.04423886, -0.5578098 , -0.89802307, -0.25167513, -1.2980992 ,\n",
       "        0.71392226, -0.11582489, -0.92075855, -0.40746766,  1.0416039 ,\n",
       "        0.46747944,  0.31171417, -0.78712934,  0.31669506, -0.09509113,\n",
       "        0.8487947 , -0.34743768, -0.30050173,  0.9460809 , -0.6908526 ,\n",
       "       -0.28195614,  0.3980046 , -1.987635  , -0.6058427 , -0.02218133,\n",
       "        0.02332011, -1.0331382 , -1.444188  ,  0.44659895, -0.07702729,\n",
       "       -0.41030273,  0.18483464, -0.22557382,  0.5022645 ,  0.5144403 ,\n",
       "       -0.8724175 , -0.24652036,  0.76627064,  0.9033192 , -0.04106418,\n",
       "        0.47679672,  0.09567077, -0.09263433,  1.3331727 , -0.06564946,\n",
       "        0.30311018,  0.78959405,  0.139171  , -0.00357455, -0.69322485,\n",
       "        1.1276824 , -0.15659542, -0.03565977, -0.44196394, -0.23841052,\n",
       "       -0.5599925 ,  0.06478961,  0.5113931 ,  0.16344206, -0.5740148 ,\n",
       "        0.72097725, -0.7182552 ,  0.14431997,  0.60108995, -0.612339  ,\n",
       "       -0.7349291 , -0.1793715 ,  0.6097421 , -0.19270205,  0.14581542,\n",
       "       -0.18947896,  0.11793453,  0.10895248, -0.78732824, -0.6002461 ,\n",
       "       -1.1990392 , -0.29983222, -1.268522  ,  0.28271863,  0.01766778,\n",
       "       -0.2432577 ,  0.36797398, -0.6528382 ,  0.33181128, -0.38078433,\n",
       "       -0.8738637 , -0.23841234,  0.6245359 ,  0.1581364 ,  0.61018807,\n",
       "       -0.57266396,  0.1544504 , -0.98676735,  0.24420683,  0.73283005,\n",
       "        0.6304632 ,  0.69957256,  0.29342648,  1.6976258 ,  0.39192304,\n",
       "       -1.2200295 , -0.7831111 , -1.3727609 , -0.66672605,  0.47433916,\n",
       "       -0.38998488,  0.72066665,  0.3120925 , -0.3237478 ,  0.5480292 ,\n",
       "        0.20135681,  0.86429244, -0.43534082,  0.1683998 ,  0.19759668,\n",
       "        0.01614733,  0.37259984, -0.13981992,  0.6712146 ,  1.1424488 ,\n",
       "        0.18882926, -0.35386604, -0.22325844, -0.81988984,  1.6135365 ,\n",
       "        1.0402842 ,  0.29542038,  0.12027726,  0.6151239 ,  0.19142026],\n",
       "      dtype=float32)"
      ]
     },
     "execution_count": 29,
     "metadata": {},
     "output_type": "execute_result"
    }
   ],
   "source": [
    "model.wv['car']"
   ]
  },
  {
   "cell_type": "code",
   "execution_count": 30,
   "metadata": {
    "colab": {
     "base_uri": "https://localhost:8080/"
    },
    "id": "hwJigmwynWOs",
    "outputId": "df55a0ab-e231-4b9f-cd61-fc85be6a942b"
   },
   "outputs": [
    {
     "data": {
      "text/plain": [
       "0.6619171"
      ]
     },
     "execution_count": 30,
     "metadata": {},
     "output_type": "execute_result"
    }
   ],
   "source": [
    "model.wv.similarity('car','truck')"
   ]
  },
  {
   "cell_type": "code",
   "execution_count": 33,
   "metadata": {
    "colab": {
     "base_uri": "https://localhost:8080/"
    },
    "id": "WjaDs2eLnWRO",
    "outputId": "9aa9e738-8f63-4107-f0e5-59750f825496"
   },
   "outputs": [
    {
     "data": {
      "text/plain": [
       "0.73892426"
      ]
     },
     "execution_count": 33,
     "metadata": {},
     "output_type": "execute_result"
    }
   ],
   "source": [
    "model.wv.similarity('good','bad')"
   ]
  },
  {
   "cell_type": "code",
   "execution_count": 35,
   "metadata": {
    "colab": {
     "base_uri": "https://localhost:8080/"
    },
    "id": "OeBxGYVmYho2",
    "outputId": "4b398369-37e6-4b88-c205-113fe7793b17"
   },
   "outputs": [
    {
     "data": {
      "text/plain": [
       "0.55928963"
      ]
     },
     "execution_count": 35,
     "metadata": {},
     "output_type": "execute_result"
    }
   ],
   "source": [
    "model.wv.similarity('best','better')"
   ]
  },
  {
   "cell_type": "code",
   "execution_count": null,
   "metadata": {
    "id": "TWbggnAkZyF2"
   },
   "outputs": [],
   "source": []
  }
 ],
 "metadata": {
  "colab": {
   "provenance": []
  },
  "kernelspec": {
   "display_name": "Python 3 (ipykernel)",
   "language": "python",
   "name": "python3"
  },
  "language_info": {
   "codemirror_mode": {
    "name": "ipython",
    "version": 3
   },
   "file_extension": ".py",
   "mimetype": "text/x-python",
   "name": "python",
   "nbconvert_exporter": "python",
   "pygments_lexer": "ipython3",
   "version": "3.9.16"
  }
 },
 "nbformat": 4,
 "nbformat_minor": 1
}
