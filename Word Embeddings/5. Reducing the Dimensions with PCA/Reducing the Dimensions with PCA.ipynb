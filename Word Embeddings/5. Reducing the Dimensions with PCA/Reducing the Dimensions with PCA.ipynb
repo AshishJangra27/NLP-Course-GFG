{
  "nbformat": 4,
  "nbformat_minor": 0,
  "metadata": {
    "colab": {
      "provenance": []
    },
    "kernelspec": {
      "name": "python3",
      "display_name": "Python 3"
    },
    "language_info": {
      "name": "python"
    }
  },
  "cells": [
    {
      "cell_type": "markdown",
      "source": [
        "### Importing the Libraries"
      ],
      "metadata": {
        "id": "WG5JdeeifmWV"
      }
    },
    {
      "cell_type": "code",
      "source": [
        "import gensim.downloader as api\n",
        "from gensim.models import Word2Vec"
      ],
      "metadata": {
        "id": "KBoFguwadhQd"
      },
      "execution_count": 1,
      "outputs": []
    },
    {
      "cell_type": "markdown",
      "source": [
        "### Training the Model"
      ],
      "metadata": {
        "id": "8HMIuAZmfsaR"
      }
    },
    {
      "cell_type": "code",
      "execution_count": 3,
      "metadata": {
        "id": "qqsQfzirHG4E",
        "colab": {
          "base_uri": "https://localhost:8080/"
        },
        "outputId": "fc0cd5ac-0b8f-4d92-c432-e3494b783d98"
      },
      "outputs": [
        {
          "output_type": "stream",
          "name": "stdout",
          "text": [
            "Corpus Size :  17003507\n",
            "Vocab Size  :  255310\n"
          ]
        }
      ],
      "source": [
        "corpus = api.load('text8')\n",
        "corpus = [word  for word in corpus]\n",
        "\n",
        "corpora = ''\n",
        "for corp in corpus:\n",
        "  corpora += ' '.join(corp)\n",
        "\n",
        "print('Corpus Size : ' , len(corpora.split(' ')))\n",
        "print('Vocab Size  : ' , len(set(corpora.split(' '))))\n",
        "\n",
        "del corpora\n",
        "\n",
        "model = Word2Vec( corpus, min_count = 2000, vector_size = 300, window = 3, sg = 0, epochs = 5)"
      ]
    },
    {
      "cell_type": "markdown",
      "source": [
        "### Reducing the Dimensions"
      ],
      "metadata": {
        "id": "gF50oevhaf_c"
      }
    },
    {
      "cell_type": "code",
      "source": [
        "from sklearn.decomposition import PCA\n",
        "\n",
        "X     = [model.wv[word] for word in model.wv.index_to_key]\n",
        "words = list(model.wv.index_to_key)\n",
        "\n",
        "print('Dimensions of each Vector | Before : ', len(X[0]))\n",
        "\n",
        "pca     = PCA(n_components = 2)\n",
        "result  = pca.fit_transform(X)\n",
        "\n",
        "print('Dimensions of each Vector | After  : ', len(result[0]))\n",
        "\n",
        "data = {'x' : result[:,0], 'y' : result[:,1], 'label' : words}"
      ],
      "metadata": {
        "colab": {
          "base_uri": "https://localhost:8080/"
        },
        "id": "RBGn4CEA2wcH",
        "outputId": "eb27fdc5-442d-4e04-da7b-4c69d6cae5ae"
      },
      "execution_count": 26,
      "outputs": [
        {
          "output_type": "stream",
          "name": "stdout",
          "text": [
            "Dimensions of each Vector | Before :  300\n",
            "Dimensions of each Vector | After  :  2\n"
          ]
        }
      ]
    }
  ]
}