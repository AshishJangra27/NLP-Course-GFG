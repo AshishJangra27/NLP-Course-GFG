{
  "nbformat": 4,
  "nbformat_minor": 0,
  "metadata": {
    "colab": {
      "provenance": []
    },
    "kernelspec": {
      "name": "python3",
      "display_name": "Python 3"
    },
    "language_info": {
      "name": "python"
    }
  },
  "cells": [
    {
      "cell_type": "markdown",
      "source": [
        "### Importing the Libraries"
      ],
      "metadata": {
        "id": "WG5JdeeifmWV"
      }
    },
    {
      "cell_type": "code",
      "source": [
        "import gensim\n",
        "import gensim.downloader as api"
      ],
      "metadata": {
        "id": "KBoFguwadhQd"
      },
      "execution_count": 2,
      "outputs": []
    },
    {
      "cell_type": "code",
      "source": [
        "gensim.downloader.info()['models'].keys()"
      ],
      "metadata": {
        "colab": {
          "base_uri": "https://localhost:8080/"
        },
        "id": "Kg0HNmkY-rYG",
        "outputId": "a8bad6f6-deb3-4fcf-ef87-4852c8972df0"
      },
      "execution_count": 3,
      "outputs": [
        {
          "output_type": "execute_result",
          "data": {
            "text/plain": [
              "dict_keys(['fasttext-wiki-news-subwords-300', 'conceptnet-numberbatch-17-06-300', 'word2vec-ruscorpora-300', 'word2vec-google-news-300', 'glove-wiki-gigaword-50', 'glove-wiki-gigaword-100', 'glove-wiki-gigaword-200', 'glove-wiki-gigaword-300', 'glove-twitter-25', 'glove-twitter-50', 'glove-twitter-100', 'glove-twitter-200', '__testing_word2vec-matrix-synopsis'])"
            ]
          },
          "metadata": {},
          "execution_count": 3
        }
      ]
    },
    {
      "cell_type": "code",
      "source": [
        "word_vectors = api.load('word2vec-google-news-300')"
      ],
      "metadata": {
        "colab": {
          "base_uri": "https://localhost:8080/"
        },
        "id": "ueKnsd2x-7Va",
        "outputId": "ff1d8f4c-8c65-4f41-b1ad-444b4a485c2a"
      },
      "execution_count": 14,
      "outputs": [
        {
          "output_type": "stream",
          "name": "stdout",
          "text": [
            "[==================================================] 100.0% 1662.8/1662.8MB downloaded\n"
          ]
        }
      ]
    },
    {
      "cell_type": "code",
      "source": [
        "word_vectors.most_similar('Delhi')[:5]"
      ],
      "metadata": {
        "colab": {
          "base_uri": "https://localhost:8080/"
        },
        "id": "hU7rElLn_YGU",
        "outputId": "1f462ac8-2850-442e-a6d4-503449c2867c"
      },
      "execution_count": 16,
      "outputs": [
        {
          "output_type": "execute_result",
          "data": {
            "text/plain": [
              "[('Kolkata', 0.7663769125938416),\n",
              " ('Mumbai', 0.7306069731712341),\n",
              " ('Lucknow', 0.7277829647064209),\n",
              " ('Patna', 0.7159016728401184),\n",
              " ('Guwahati', 0.7072612643241882)]"
            ]
          },
          "metadata": {},
          "execution_count": 16
        }
      ]
    },
    {
      "cell_type": "code",
      "source": [
        "word_vectors.most_similar('War')[:5]"
      ],
      "metadata": {
        "colab": {
          "base_uri": "https://localhost:8080/"
        },
        "id": "k4RtMkd3_jbE",
        "outputId": "d3e68f0b-2c51-4c22-b832-63ca3c732ada"
      },
      "execution_count": 19,
      "outputs": [
        {
          "output_type": "execute_result",
          "data": {
            "text/plain": [
              "[('Wars', 0.7479808926582336),\n",
              " ('War_I.', 0.65062415599823),\n",
              " ('war', 0.6410670280456543),\n",
              " ('WWI', 0.6204714775085449),\n",
              " ('WWII', 0.6080312728881836)]"
            ]
          },
          "metadata": {},
          "execution_count": 19
        }
      ]
    },
    {
      "cell_type": "code",
      "source": [
        "vec = word_vectors['king'] - word_vectors['man'] + word_vectors['women']\n",
        "word_vectors.most_similar(vec)"
      ],
      "metadata": {
        "colab": {
          "base_uri": "https://localhost:8080/"
        },
        "id": "2fWjKIb2_xeR",
        "outputId": "176e0c24-f5fb-4df9-8f61-0ddc63d66a87"
      },
      "execution_count": 20,
      "outputs": [
        {
          "output_type": "execute_result",
          "data": {
            "text/plain": [
              "[('king', 0.6478992700576782),\n",
              " ('queen', 0.535493791103363),\n",
              " ('women', 0.5233659148216248),\n",
              " ('kings', 0.5162314772605896),\n",
              " ('queens', 0.4995364248752594),\n",
              " ('kumaris', 0.49238473176956177),\n",
              " ('princes', 0.46233269572257996),\n",
              " ('monarch', 0.45280295610427856),\n",
              " ('monarchy', 0.4293173849582672),\n",
              " ('kings_princes', 0.42342400550842285)]"
            ]
          },
          "metadata": {},
          "execution_count": 20
        }
      ]
    },
    {
      "cell_type": "code",
      "source": [
        "vec = word_vectors['paris'] - word_vectors['france'] + word_vectors['italy']\n",
        "word_vectors.most_similar(vec)"
      ],
      "metadata": {
        "colab": {
          "base_uri": "https://localhost:8080/"
        },
        "id": "75feAVtXAE-K",
        "outputId": "673814fc-127b-417d-95f2-f37698feea53"
      },
      "execution_count": 21,
      "outputs": [
        {
          "output_type": "execute_result",
          "data": {
            "text/plain": [
              "[('paris', 0.719919741153717),\n",
              " ('italy', 0.6780312657356262),\n",
              " ('lohan', 0.5029091835021973),\n",
              " ('madrid', 0.47835028171539307),\n",
              " ('heidi', 0.47402819991111755),\n",
              " ('real_madrid', 0.47205063700675964),\n",
              " ('juventus', 0.4643799066543579),\n",
              " ('diego', 0.4630090594291687),\n",
              " ('ronnie', 0.462673544883728),\n",
              " ('florence', 0.4626060128211975)]"
            ]
          },
          "metadata": {},
          "execution_count": 21
        }
      ]
    },
    {
      "cell_type": "code",
      "source": [
        "vec = word_vectors['paris'] - word_vectors['france'] + word_vectors['india']\n",
        "word_vectors.most_similar(vec)"
      ],
      "metadata": {
        "colab": {
          "base_uri": "https://localhost:8080/"
        },
        "id": "8KC_4ZNWA8gI",
        "outputId": "c1d99946-b229-42f8-90d9-4b588531629e"
      },
      "execution_count": 25,
      "outputs": [
        {
          "output_type": "execute_result",
          "data": {
            "text/plain": [
              "[('india', 0.7226389646530151),\n",
              " ('paris', 0.693620502948761),\n",
              " ('chennai', 0.5512440204620361),\n",
              " ('delhi', 0.520950973033905),\n",
              " ('mumbai', 0.5086789131164551),\n",
              " ('hyderabad', 0.5051147937774658),\n",
              " ('indian', 0.49738067388534546),\n",
              " ('gujarat', 0.49298128485679626),\n",
              " ('kerala', 0.4916081130504608),\n",
              " ('bharat', 0.48612460494041443)]"
            ]
          },
          "metadata": {},
          "execution_count": 25
        }
      ]
    },
    {
      "cell_type": "code",
      "source": [
        "word_vectors['Delhi'].shape"
      ],
      "metadata": {
        "colab": {
          "base_uri": "https://localhost:8080/"
        },
        "id": "1HiwRYaiEUU2",
        "outputId": "bf69ad9c-722b-4a9c-8130-c0baef418608"
      },
      "execution_count": 27,
      "outputs": [
        {
          "output_type": "execute_result",
          "data": {
            "text/plain": [
              "(300,)"
            ]
          },
          "metadata": {},
          "execution_count": 27
        }
      ]
    }
  ]
}