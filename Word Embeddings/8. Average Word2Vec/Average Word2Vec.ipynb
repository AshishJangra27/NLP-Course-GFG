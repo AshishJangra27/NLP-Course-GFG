{
  "nbformat": 4,
  "nbformat_minor": 0,
  "metadata": {
    "colab": {
      "provenance": []
    },
    "kernelspec": {
      "name": "python3",
      "display_name": "Python 3"
    },
    "language_info": {
      "name": "python"
    }
  },
  "cells": [
    {
      "cell_type": "code",
      "execution_count": null,
      "metadata": {
        "id": "TLgZu0JSrqwj"
      },
      "outputs": [],
      "source": [
        "!git clone https://github.com/AshishJangra27/Fake-News-Classification"
      ]
    },
    {
      "cell_type": "code",
      "source": [
        "!unzip /content/Fake-News-Classification/Fake.zip\n",
        "!unzip /content/Fake-News-Classification/True.zip"
      ],
      "metadata": {
        "id": "W4zvxIcuJUiD"
      },
      "execution_count": null,
      "outputs": []
    },
    {
      "cell_type": "code",
      "source": [
        "import nltk\n",
        "import gensim\n",
        "import numpy as np\n",
        "import pandas as pd\n",
        "from tqdm import tqdm\n",
        "from nltk import sent_tokenize\n",
        "from gensim.utils import simple_preprocess\n",
        "\n",
        "nltk.download('punkt')\n",
        "\n",
        "df = pd.read_csv('Fake.csv')\n",
        "df = df.drop(columns = ['date','subject','text'])\n",
        "df.head()"
      ],
      "metadata": {
        "colab": {
          "base_uri": "https://localhost:8080/",
          "height": 242
        },
        "id": "IXzaygx9Jcmu",
        "outputId": "4f72d877-a9ea-43e0-fbcb-71812fe228c8"
      },
      "execution_count": 42,
      "outputs": [
        {
          "output_type": "stream",
          "name": "stderr",
          "text": [
            "[nltk_data] Downloading package punkt to /root/nltk_data...\n",
            "[nltk_data]   Package punkt is already up-to-date!\n"
          ]
        },
        {
          "output_type": "execute_result",
          "data": {
            "text/plain": [
              "                                               title\n",
              "0   Donald Trump Sends Out Embarrassing New Year’...\n",
              "1   Drunk Bragging Trump Staffer Started Russian ...\n",
              "2   Sheriff David Clarke Becomes An Internet Joke...\n",
              "3   Trump Is So Obsessed He Even Has Obama’s Name...\n",
              "4   Pope Francis Just Called Out Donald Trump Dur..."
            ],
            "text/html": [
              "\n",
              "  <div id=\"df-a10a1cc5-c896-4185-9147-26e48aeb91a8\">\n",
              "    <div class=\"colab-df-container\">\n",
              "      <div>\n",
              "<style scoped>\n",
              "    .dataframe tbody tr th:only-of-type {\n",
              "        vertical-align: middle;\n",
              "    }\n",
              "\n",
              "    .dataframe tbody tr th {\n",
              "        vertical-align: top;\n",
              "    }\n",
              "\n",
              "    .dataframe thead th {\n",
              "        text-align: right;\n",
              "    }\n",
              "</style>\n",
              "<table border=\"1\" class=\"dataframe\">\n",
              "  <thead>\n",
              "    <tr style=\"text-align: right;\">\n",
              "      <th></th>\n",
              "      <th>title</th>\n",
              "    </tr>\n",
              "  </thead>\n",
              "  <tbody>\n",
              "    <tr>\n",
              "      <th>0</th>\n",
              "      <td>Donald Trump Sends Out Embarrassing New Year’...</td>\n",
              "    </tr>\n",
              "    <tr>\n",
              "      <th>1</th>\n",
              "      <td>Drunk Bragging Trump Staffer Started Russian ...</td>\n",
              "    </tr>\n",
              "    <tr>\n",
              "      <th>2</th>\n",
              "      <td>Sheriff David Clarke Becomes An Internet Joke...</td>\n",
              "    </tr>\n",
              "    <tr>\n",
              "      <th>3</th>\n",
              "      <td>Trump Is So Obsessed He Even Has Obama’s Name...</td>\n",
              "    </tr>\n",
              "    <tr>\n",
              "      <th>4</th>\n",
              "      <td>Pope Francis Just Called Out Donald Trump Dur...</td>\n",
              "    </tr>\n",
              "  </tbody>\n",
              "</table>\n",
              "</div>\n",
              "      <button class=\"colab-df-convert\" onclick=\"convertToInteractive('df-a10a1cc5-c896-4185-9147-26e48aeb91a8')\"\n",
              "              title=\"Convert this dataframe to an interactive table.\"\n",
              "              style=\"display:none;\">\n",
              "        \n",
              "  <svg xmlns=\"http://www.w3.org/2000/svg\" height=\"24px\"viewBox=\"0 0 24 24\"\n",
              "       width=\"24px\">\n",
              "    <path d=\"M0 0h24v24H0V0z\" fill=\"none\"/>\n",
              "    <path d=\"M18.56 5.44l.94 2.06.94-2.06 2.06-.94-2.06-.94-.94-2.06-.94 2.06-2.06.94zm-11 1L8.5 8.5l.94-2.06 2.06-.94-2.06-.94L8.5 2.5l-.94 2.06-2.06.94zm10 10l.94 2.06.94-2.06 2.06-.94-2.06-.94-.94-2.06-.94 2.06-2.06.94z\"/><path d=\"M17.41 7.96l-1.37-1.37c-.4-.4-.92-.59-1.43-.59-.52 0-1.04.2-1.43.59L10.3 9.45l-7.72 7.72c-.78.78-.78 2.05 0 2.83L4 21.41c.39.39.9.59 1.41.59.51 0 1.02-.2 1.41-.59l7.78-7.78 2.81-2.81c.8-.78.8-2.07 0-2.86zM5.41 20L4 18.59l7.72-7.72 1.47 1.35L5.41 20z\"/>\n",
              "  </svg>\n",
              "      </button>\n",
              "      \n",
              "  <style>\n",
              "    .colab-df-container {\n",
              "      display:flex;\n",
              "      flex-wrap:wrap;\n",
              "      gap: 12px;\n",
              "    }\n",
              "\n",
              "    .colab-df-convert {\n",
              "      background-color: #E8F0FE;\n",
              "      border: none;\n",
              "      border-radius: 50%;\n",
              "      cursor: pointer;\n",
              "      display: none;\n",
              "      fill: #1967D2;\n",
              "      height: 32px;\n",
              "      padding: 0 0 0 0;\n",
              "      width: 32px;\n",
              "    }\n",
              "\n",
              "    .colab-df-convert:hover {\n",
              "      background-color: #E2EBFA;\n",
              "      box-shadow: 0px 1px 2px rgba(60, 64, 67, 0.3), 0px 1px 3px 1px rgba(60, 64, 67, 0.15);\n",
              "      fill: #174EA6;\n",
              "    }\n",
              "\n",
              "    [theme=dark] .colab-df-convert {\n",
              "      background-color: #3B4455;\n",
              "      fill: #D2E3FC;\n",
              "    }\n",
              "\n",
              "    [theme=dark] .colab-df-convert:hover {\n",
              "      background-color: #434B5C;\n",
              "      box-shadow: 0px 1px 3px 1px rgba(0, 0, 0, 0.15);\n",
              "      filter: drop-shadow(0px 1px 2px rgba(0, 0, 0, 0.3));\n",
              "      fill: #FFFFFF;\n",
              "    }\n",
              "  </style>\n",
              "\n",
              "      <script>\n",
              "        const buttonEl =\n",
              "          document.querySelector('#df-a10a1cc5-c896-4185-9147-26e48aeb91a8 button.colab-df-convert');\n",
              "        buttonEl.style.display =\n",
              "          google.colab.kernel.accessAllowed ? 'block' : 'none';\n",
              "\n",
              "        async function convertToInteractive(key) {\n",
              "          const element = document.querySelector('#df-a10a1cc5-c896-4185-9147-26e48aeb91a8');\n",
              "          const dataTable =\n",
              "            await google.colab.kernel.invokeFunction('convertToInteractive',\n",
              "                                                     [key], {});\n",
              "          if (!dataTable) return;\n",
              "\n",
              "          const docLinkHtml = 'Like what you see? Visit the ' +\n",
              "            '<a target=\"_blank\" href=https://colab.research.google.com/notebooks/data_table.ipynb>data table notebook</a>'\n",
              "            + ' to learn more about interactive tables.';\n",
              "          element.innerHTML = '';\n",
              "          dataTable['output_type'] = 'display_data';\n",
              "          await google.colab.output.renderOutput(dataTable, element);\n",
              "          const docLink = document.createElement('div');\n",
              "          docLink.innerHTML = docLinkHtml;\n",
              "          element.appendChild(docLink);\n",
              "        }\n",
              "      </script>\n",
              "    </div>\n",
              "  </div>\n",
              "  "
            ]
          },
          "metadata": {},
          "execution_count": 42
        }
      ]
    },
    {
      "cell_type": "code",
      "source": [
        "words = []\n",
        "corpus = df['title']\n",
        "\n",
        "for sent in corpus:\n",
        "  sent_token = sent_tokenize(sent)\n",
        "  for sent in sent_token:\n",
        "    words.append(simple_preprocess(sent))"
      ],
      "metadata": {
        "id": "m1-dmgsMNiaH"
      },
      "execution_count": 75,
      "outputs": []
    },
    {
      "cell_type": "code",
      "source": [
        "model = gensim.models.Word2Vec(words, window = 5, min_count = 1)"
      ],
      "metadata": {
        "id": "S2uHBf1ANkkA"
      },
      "execution_count": 76,
      "outputs": []
    },
    {
      "cell_type": "code",
      "source": [
        "model.wv['donald']"
      ],
      "metadata": {
        "colab": {
          "base_uri": "https://localhost:8080/"
        },
        "id": "2vVjac7ZOA-D",
        "outputId": "177bafd1-1eee-4b50-ac58-71eb94e48a3d"
      },
      "execution_count": 77,
      "outputs": [
        {
          "output_type": "execute_result",
          "data": {
            "text/plain": [
              "array([ 2.9963885e-02,  6.9916892e-01,  5.9089577e-03,  1.3161108e-01,\n",
              "        6.0138434e-01, -1.3247480e+00,  7.2556818e-01,  1.8326044e+00,\n",
              "       -7.6458234e-01, -1.3057165e+00, -1.6064300e-01, -1.9742930e-02,\n",
              "        7.3810530e-01,  8.5566735e-01,  7.6159161e-01, -4.2601004e-01,\n",
              "        1.4051830e+00, -9.8786807e-01,  1.6749918e-02, -1.1843784e+00,\n",
              "        8.7901866e-01,  9.8904692e-02,  1.1338090e+00, -1.0001812e+00,\n",
              "        2.8840342e-01, -7.5555116e-01, -1.1031886e+00, -3.0290139e-01,\n",
              "       -2.0527978e-01, -3.4244153e-01,  8.2896656e-01, -2.1056339e-01,\n",
              "        3.5053739e-01, -4.2831001e-01, -1.0511327e-03,  1.8366688e+00,\n",
              "       -4.1812417e-01,  6.5724945e-01, -4.1208044e-01, -9.8621987e-02,\n",
              "        1.6413547e-01,  8.4028117e-02, -2.6336787e-02,  1.5931585e-01,\n",
              "        2.4653633e-01,  7.3879778e-01, -6.8172282e-01,  1.8784893e-01,\n",
              "        1.0282851e-01,  8.3206397e-01,  1.0818946e-01, -5.4442084e-01,\n",
              "       -4.1845167e-01, -5.7537150e-01,  3.6276752e-01, -1.0459250e-01,\n",
              "        1.2655534e+00,  4.1644159e-01, -1.8213975e-01, -4.4044144e-02,\n",
              "       -6.7897245e-02, -8.7147452e-02,  2.5493535e-01,  6.7703351e-02,\n",
              "       -6.0309809e-01,  6.0826749e-01,  1.9045581e-01,  2.5806844e-01,\n",
              "       -8.7069428e-01,  9.7105479e-01,  3.9400285e-01, -4.3253133e-01,\n",
              "        7.3014396e-01, -3.6942851e-02,  8.7290674e-01, -4.6236974e-01,\n",
              "        2.9531753e-01,  2.0380279e-01, -4.6998557e-01,  5.7929707e-01,\n",
              "       -1.4541658e+00,  2.0948210e-01, -9.3407911e-01,  5.4966533e-01,\n",
              "        4.0740907e-01, -1.4816615e-01,  7.5092036e-01,  3.0208042e-01,\n",
              "        5.9564328e-01,  5.9391516e-01,  1.4927894e+00, -3.1627324e-01,\n",
              "       -4.5228627e-01,  2.8249192e-01,  4.1166246e-02,  2.8142956e-01,\n",
              "        6.8505123e-02, -1.1815015e-01,  3.9351588e-01,  1.8891980e-01],\n",
              "      dtype=float32)"
            ]
          },
          "metadata": {},
          "execution_count": 77
        }
      ]
    },
    {
      "cell_type": "code",
      "source": [
        "sent_vec = []\n",
        "\n",
        "for sent in tqdm(words):\n",
        "   sent_vec.append(np.mean([model.wv[word] for word in sent if word in model.wv.index_to_key], axis = 0))\n",
        "\n",
        "sent_vec = np.array(sent_vec)"
      ],
      "metadata": {
        "colab": {
          "base_uri": "https://localhost:8080/"
        },
        "id": "JyhV3WwaOSzU",
        "outputId": "131bcc4b-cb76-4bb4-c35a-aae786757bd7"
      },
      "execution_count": 78,
      "outputs": [
        {
          "output_type": "stream",
          "name": "stderr",
          "text": [
            "  2%|▏         | 427/27474 [00:00<00:12, 2095.14it/s]/usr/local/lib/python3.10/dist-packages/numpy/core/fromnumeric.py:3474: RuntimeWarning: Mean of empty slice.\n",
            "  return _methods._mean(a, axis=axis, dtype=dtype,\n",
            "/usr/local/lib/python3.10/dist-packages/numpy/core/_methods.py:189: RuntimeWarning: invalid value encountered in double_scalars\n",
            "  ret = ret.dtype.type(ret / rcount)\n",
            "100%|██████████| 27474/27474 [00:12<00:00, 2158.54it/s]\n",
            "<ipython-input-78-ba931f60f298>:6: VisibleDeprecationWarning: Creating an ndarray from ragged nested sequences (which is a list-or-tuple of lists-or-tuples-or ndarrays with different lengths or shapes) is deprecated. If you meant to do this, you must specify 'dtype=object' when creating the ndarray.\n",
            "  sent_vec = np.array(sent_vec)\n"
          ]
        }
      ]
    }
  ]
}